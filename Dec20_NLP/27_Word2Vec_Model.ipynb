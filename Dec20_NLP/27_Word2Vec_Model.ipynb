{
  "cells": [
    {
      "cell_type": "code",
      "execution_count": 1,
      "metadata": {
        "id": "JgKwBR9JtjnX"
      },
      "outputs": [],
      "source": [
        "import nltk, string, gensim"
      ]
    },
    {
      "cell_type": "code",
      "execution_count": 2,
      "metadata": {
        "colab": {
          "base_uri": "https://localhost:8080/"
        },
        "id": "97Dnx0DYtjnZ",
        "outputId": "c689a6fe-0057-4898-9f79-f80998312f24"
      },
      "outputs": [
        {
          "name": "stderr",
          "output_type": "stream",
          "text": [
            "[nltk_data] Error loading abc: <urlopen error [Errno 104] Connection\n",
            "[nltk_data]     reset by peer>\n",
            "[nltk_data] Downloading package punkt to /home/dai/nltk_data...\n",
            "[nltk_data]   Package punkt is already up-to-date!\n",
            "[nltk_data] Downloading package stopwords to /home/dai/nltk_data...\n",
            "[nltk_data]   Unzipping corpora/stopwords.zip.\n",
            "[nltk_data] Downloading package wordnet to /home/dai/nltk_data...\n",
            "[nltk_data]   Package wordnet is already up-to-date!\n"
          ]
        },
        {
          "data": {
            "text/plain": [
              "True"
            ]
          },
          "execution_count": 2,
          "metadata": {},
          "output_type": "execute_result"
        }
      ],
      "source": [
        "nltk.download('abc')\n",
        "nltk.download('punkt')\n",
        "nltk.download('stopwords')\n",
        "nltk.download('wordnet')"
      ]
    },
    {
      "cell_type": "code",
      "execution_count": 3,
      "metadata": {
        "id": "i_fRmnRxtjna"
      },
      "outputs": [],
      "source": [
        "from nltk.corpus import abc"
      ]
    },
    {
      "cell_type": "code",
      "execution_count": 4,
      "metadata": {
        "id": "Di3svlPAtjna"
      },
      "outputs": [],
      "source": [
        "sents = abc.sents()"
      ]
    },
    {
      "cell_type": "code",
      "execution_count": 5,
      "metadata": {
        "colab": {
          "base_uri": "https://localhost:8080/"
        },
        "id": "lkaN71Gztjnb",
        "outputId": "afeec6c4-2d2f-46cd-e6ac-7fab085da305"
      },
      "outputs": [
        {
          "data": {
            "text/plain": [
              "29059"
            ]
          },
          "execution_count": 5,
          "metadata": {},
          "output_type": "execute_result"
        }
      ],
      "source": [
        "len(sents)"
      ]
    },
    {
      "cell_type": "code",
      "execution_count": 6,
      "metadata": {},
      "outputs": [
        {
          "data": {
            "text/plain": [
              "[['PM', 'denies', 'knowledge', 'of', 'AWB', 'kickbacks', 'The', 'Prime', 'Minister', 'has', 'denied', 'he', 'knew', 'AWB', 'was', 'paying', 'kickbacks', 'to', 'Iraq', 'despite', 'writing', 'to', 'the', 'wheat', 'exporter', 'asking', 'to', 'be', 'kept', 'fully', 'informed', 'on', 'Iraq', 'wheat', 'sales', '.'], ['Letters', 'from', 'John', 'Howard', 'and', 'Deputy', 'Prime', 'Minister', 'Mark', 'Vaile', 'to', 'AWB', 'have', 'been', 'released', 'by', 'the', 'Cole', 'inquiry', 'into', 'the', 'oil', 'for', 'food', 'program', '.'], ...]"
            ]
          },
          "execution_count": 6,
          "metadata": {},
          "output_type": "execute_result"
        }
      ],
      "source": [
        "sents"
      ]
    },
    {
      "cell_type": "code",
      "execution_count": 7,
      "metadata": {
        "id": "cPaggNIQtjnc"
      },
      "outputs": [],
      "source": [
        "model = gensim.models.Word2Vec(abc.sents())"
      ]
    },
    {
      "cell_type": "code",
      "execution_count": 8,
      "metadata": {
        "colab": {
          "base_uri": "https://localhost:8080/"
        },
        "id": "rhTYWqrctjnc",
        "outputId": "34b76d8d-59da-4709-fa11-79d29b991dea"
      },
      "outputs": [
        {
          "name": "stdout",
          "output_type": "stream",
          "text": [
            "[('law', 0.9220527410507202), ('policy', 0.9110236167907715), ('general', 0.9042573571205139), ('discussion', 0.9033576846122742), ('media', 0.9009957313537598), ('agriculture', 0.8990426063537598), ('Sam', 0.8937287330627441), ('unprecedented', 0.8927173018455505), ('education', 0.8923193216323853), ('astronomy', 0.8917180299758911)]\n"
          ]
        }
      ],
      "source": [
        "data = model.wv.most_similar('science')\n",
        "print(data)"
      ]
    },
    {
      "cell_type": "code",
      "execution_count": 180,
      "metadata": {
        "id": "q9PE55nGtjnc"
      },
      "outputs": [],
      "source": [
        "# https://mitu.co.in/dataset\n",
        "# intents.json"
      ]
    },
    {
      "cell_type": "code",
      "execution_count": 9,
      "metadata": {
        "id": "PifchYtdtjnd"
      },
      "outputs": [],
      "source": [
        "import json\n",
        "\n",
        "json_file = 'intents.json'\n",
        "with open('intents.json','r') as f:\n",
        "    data = json.load(f)"
      ]
    },
    {
      "cell_type": "code",
      "execution_count": 10,
      "metadata": {
        "colab": {
          "base_uri": "https://localhost:8080/"
        },
        "id": "sMySYna_tjnf",
        "outputId": "de1fb5e7-7721-4dcc-e7be-b241394fccc8"
      },
      "outputs": [
        {
          "data": {
            "text/plain": [
              "[{'tag': 'welcome',\n",
              "  'patterns': ['Hi',\n",
              "   'How are you',\n",
              "   'Is any one to talk?',\n",
              "   'Hello',\n",
              "   'hi are you available'],\n",
              "  'responses': ['Hello, thanks for contacting us',\n",
              "   'Good to see you here',\n",
              "   ' Hi there, how may I assist you?']},\n",
              " {'tag': 'goodbye',\n",
              "  'patterns': ['Bye', 'See you later', 'Goodbye', 'I will come back soon'],\n",
              "  'responses': ['See you later, thanks for visiting',\n",
              "   'have a great day ahead',\n",
              "   'Wish you Come back again soon.']},\n",
              " {'tag': 'thankful',\n",
              "  'patterns': ['Thanks for helping me',\n",
              "   'Thank your guidance',\n",
              "   \"That's helpful and kind from you\"],\n",
              "  'responses': ['Happy to help!',\n",
              "   'Any time!',\n",
              "   'My pleasure',\n",
              "   'It is my duty to help you']},\n",
              " {'tag': 'hoursopening',\n",
              "  'patterns': ['What hours are you open?',\n",
              "   'Tell your opening time?',\n",
              "   'When are you open?',\n",
              "   'Just your timing please'],\n",
              "  'responses': [\"We're open every day 8am-7pm\",\n",
              "   'Our office hours are 8am-7pm every day',\n",
              "   'We open office at 8 am and close at 7 pm']},\n",
              " {'tag': 'payments',\n",
              "  'patterns': ['Can I pay using credit card?',\n",
              "   ' Can I pay using Mastercard?',\n",
              "   ' Can I pay using cash only?'],\n",
              "  'responses': ['We accept VISA, Mastercard and credit card',\n",
              "   'We accept credit card, debit cards and cash. Please don’t worry']}]"
            ]
          },
          "execution_count": 10,
          "metadata": {},
          "output_type": "execute_result"
        }
      ],
      "source": [
        "data"
      ]
    },
    {
      "cell_type": "code",
      "execution_count": 11,
      "metadata": {
        "id": "lbZG3Fnotjnf"
      },
      "outputs": [],
      "source": [
        "import pandas as pd\n",
        "\n",
        "df = pd.DataFrame(data)"
      ]
    },
    {
      "cell_type": "code",
      "execution_count": 12,
      "metadata": {
        "colab": {
          "base_uri": "https://localhost:8080/",
          "height": 206
        },
        "id": "gBMtKuggtjng",
        "outputId": "be148376-0a05-49d7-e81d-9ff224dd08b4"
      },
      "outputs": [
        {
          "data": {
            "text/html": [
              "<div>\n",
              "<style scoped>\n",
              "    .dataframe tbody tr th:only-of-type {\n",
              "        vertical-align: middle;\n",
              "    }\n",
              "\n",
              "    .dataframe tbody tr th {\n",
              "        vertical-align: top;\n",
              "    }\n",
              "\n",
              "    .dataframe thead th {\n",
              "        text-align: right;\n",
              "    }\n",
              "</style>\n",
              "<table border=\"1\" class=\"dataframe\">\n",
              "  <thead>\n",
              "    <tr style=\"text-align: right;\">\n",
              "      <th></th>\n",
              "      <th>tag</th>\n",
              "      <th>patterns</th>\n",
              "      <th>responses</th>\n",
              "    </tr>\n",
              "  </thead>\n",
              "  <tbody>\n",
              "    <tr>\n",
              "      <th>0</th>\n",
              "      <td>welcome</td>\n",
              "      <td>[Hi, How are you, Is any one to talk?, Hello, ...</td>\n",
              "      <td>[Hello, thanks for contacting us, Good to see ...</td>\n",
              "    </tr>\n",
              "    <tr>\n",
              "      <th>1</th>\n",
              "      <td>goodbye</td>\n",
              "      <td>[Bye, See you later, Goodbye, I will come back...</td>\n",
              "      <td>[See you later, thanks for visiting, have a gr...</td>\n",
              "    </tr>\n",
              "    <tr>\n",
              "      <th>2</th>\n",
              "      <td>thankful</td>\n",
              "      <td>[Thanks for helping me, Thank your guidance, T...</td>\n",
              "      <td>[Happy to help!, Any time!, My pleasure, It is...</td>\n",
              "    </tr>\n",
              "    <tr>\n",
              "      <th>3</th>\n",
              "      <td>hoursopening</td>\n",
              "      <td>[What hours are you open?, Tell your opening t...</td>\n",
              "      <td>[We're open every day 8am-7pm, Our office hour...</td>\n",
              "    </tr>\n",
              "    <tr>\n",
              "      <th>4</th>\n",
              "      <td>payments</td>\n",
              "      <td>[Can I pay using credit card?,  Can I pay usin...</td>\n",
              "      <td>[We accept VISA, Mastercard and credit card, W...</td>\n",
              "    </tr>\n",
              "  </tbody>\n",
              "</table>\n",
              "</div>"
            ],
            "text/plain": [
              "            tag                                           patterns  \\\n",
              "0       welcome  [Hi, How are you, Is any one to talk?, Hello, ...   \n",
              "1       goodbye  [Bye, See you later, Goodbye, I will come back...   \n",
              "2      thankful  [Thanks for helping me, Thank your guidance, T...   \n",
              "3  hoursopening  [What hours are you open?, Tell your opening t...   \n",
              "4      payments  [Can I pay using credit card?,  Can I pay usin...   \n",
              "\n",
              "                                           responses  \n",
              "0  [Hello, thanks for contacting us, Good to see ...  \n",
              "1  [See you later, thanks for visiting, have a gr...  \n",
              "2  [Happy to help!, Any time!, My pleasure, It is...  \n",
              "3  [We're open every day 8am-7pm, Our office hour...  \n",
              "4  [We accept VISA, Mastercard and credit card, W...  "
            ]
          },
          "execution_count": 12,
          "metadata": {},
          "output_type": "execute_result"
        }
      ],
      "source": [
        "df"
      ]
    },
    {
      "cell_type": "code",
      "execution_count": 13,
      "metadata": {
        "id": "6LWEZerctjng"
      },
      "outputs": [],
      "source": [
        "df['patterns'] = df['patterns'].apply(', '.join)"
      ]
    },
    {
      "cell_type": "code",
      "execution_count": 14,
      "metadata": {
        "colab": {
          "base_uri": "https://localhost:8080/",
          "height": 206
        },
        "id": "A_Sq-gA_tjng",
        "outputId": "811f3b1d-47e2-4842-edd7-0cffa7ad2ead"
      },
      "outputs": [
        {
          "data": {
            "text/html": [
              "<div>\n",
              "<style scoped>\n",
              "    .dataframe tbody tr th:only-of-type {\n",
              "        vertical-align: middle;\n",
              "    }\n",
              "\n",
              "    .dataframe tbody tr th {\n",
              "        vertical-align: top;\n",
              "    }\n",
              "\n",
              "    .dataframe thead th {\n",
              "        text-align: right;\n",
              "    }\n",
              "</style>\n",
              "<table border=\"1\" class=\"dataframe\">\n",
              "  <thead>\n",
              "    <tr style=\"text-align: right;\">\n",
              "      <th></th>\n",
              "      <th>tag</th>\n",
              "      <th>patterns</th>\n",
              "      <th>responses</th>\n",
              "    </tr>\n",
              "  </thead>\n",
              "  <tbody>\n",
              "    <tr>\n",
              "      <th>0</th>\n",
              "      <td>welcome</td>\n",
              "      <td>Hi, How are you, Is any one to talk?, Hello, h...</td>\n",
              "      <td>[Hello, thanks for contacting us, Good to see ...</td>\n",
              "    </tr>\n",
              "    <tr>\n",
              "      <th>1</th>\n",
              "      <td>goodbye</td>\n",
              "      <td>Bye, See you later, Goodbye, I will come back ...</td>\n",
              "      <td>[See you later, thanks for visiting, have a gr...</td>\n",
              "    </tr>\n",
              "    <tr>\n",
              "      <th>2</th>\n",
              "      <td>thankful</td>\n",
              "      <td>Thanks for helping me, Thank your guidance, Th...</td>\n",
              "      <td>[Happy to help!, Any time!, My pleasure, It is...</td>\n",
              "    </tr>\n",
              "    <tr>\n",
              "      <th>3</th>\n",
              "      <td>hoursopening</td>\n",
              "      <td>What hours are you open?, Tell your opening ti...</td>\n",
              "      <td>[We're open every day 8am-7pm, Our office hour...</td>\n",
              "    </tr>\n",
              "    <tr>\n",
              "      <th>4</th>\n",
              "      <td>payments</td>\n",
              "      <td>Can I pay using credit card?,  Can I pay using...</td>\n",
              "      <td>[We accept VISA, Mastercard and credit card, W...</td>\n",
              "    </tr>\n",
              "  </tbody>\n",
              "</table>\n",
              "</div>"
            ],
            "text/plain": [
              "            tag                                           patterns  \\\n",
              "0       welcome  Hi, How are you, Is any one to talk?, Hello, h...   \n",
              "1       goodbye  Bye, See you later, Goodbye, I will come back ...   \n",
              "2      thankful  Thanks for helping me, Thank your guidance, Th...   \n",
              "3  hoursopening  What hours are you open?, Tell your opening ti...   \n",
              "4      payments  Can I pay using credit card?,  Can I pay using...   \n",
              "\n",
              "                                           responses  \n",
              "0  [Hello, thanks for contacting us, Good to see ...  \n",
              "1  [See you later, thanks for visiting, have a gr...  \n",
              "2  [Happy to help!, Any time!, My pleasure, It is...  \n",
              "3  [We're open every day 8am-7pm, Our office hour...  \n",
              "4  [We accept VISA, Mastercard and credit card, W...  "
            ]
          },
          "execution_count": 14,
          "metadata": {},
          "output_type": "execute_result"
        }
      ],
      "source": [
        "df"
      ]
    },
    {
      "cell_type": "code",
      "execution_count": 15,
      "metadata": {
        "colab": {
          "base_uri": "https://localhost:8080/"
        },
        "id": "bfTCzC8otjnh",
        "outputId": "f55a6275-8896-44b8-a9ad-a8d6504cdcaf"
      },
      "outputs": [
        {
          "name": "stdout",
          "output_type": "stream",
          "text": [
            "Requirement already satisfied: textblob in /home/dai/anaconda3/envs/NLP/lib/python3.11/site-packages (0.17.1)\n",
            "Requirement already satisfied: nltk>=3.1 in /home/dai/anaconda3/envs/NLP/lib/python3.11/site-packages (from textblob) (3.8.1)\n",
            "Requirement already satisfied: click in /home/dai/anaconda3/envs/NLP/lib/python3.11/site-packages (from nltk>=3.1->textblob) (8.1.7)\n",
            "Requirement already satisfied: joblib in /home/dai/anaconda3/envs/NLP/lib/python3.11/site-packages (from nltk>=3.1->textblob) (1.2.0)\n",
            "Requirement already satisfied: regex>=2021.8.3 in /home/dai/anaconda3/envs/NLP/lib/python3.11/site-packages (from nltk>=3.1->textblob) (2023.10.3)\n",
            "Requirement already satisfied: tqdm in /home/dai/anaconda3/envs/NLP/lib/python3.11/site-packages (from nltk>=3.1->textblob) (4.65.0)\n",
            "Note: you may need to restart the kernel to use updated packages.\n"
          ]
        }
      ],
      "source": [
        "pip install textblob"
      ]
    },
    {
      "cell_type": "code",
      "execution_count": 16,
      "metadata": {
        "colab": {
          "base_uri": "https://localhost:8080/"
        },
        "id": "xKPSq5uStjnh",
        "outputId": "9f392d5e-0f8a-4a50-e2ef-1530a21524a7"
      },
      "outputs": [],
      "source": [
        "from nltk.corpus import stopwords\n",
        "from textblob import Word\n",
        "from nltk.tokenize import word_tokenize\n",
        "\n",
        "stop = stopwords.words('english')\n",
        "\n",
        "df['patterns'] = df['patterns'].apply(\n",
        "    lambda x: \" \".join(x.lower() for x in x.split()))\n",
        "df['patterns'] = df['patterns'].apply(\n",
        "    lambda x: \" \".join(x  for x in word_tokenize(x) if x not in string.punctuation))\n",
        "df['patterns'] = df['patterns'].str.replace('[^\\w\\s]','')\n",
        "df['patterns'] = df['patterns'].apply(\n",
        "    lambda x: \" \".join( x for x in x.split() if not x.isdigit()))\n",
        "df['patterns'] = df['patterns'].apply(\n",
        "    lambda x: \" \".join( x for x in x.split() if x not in stop))\n",
        "df['patterns'] = df['patterns'].apply(\n",
        "    lambda x: \" \".join( Word(word).lemmatize() for word in x.split()))\n"
      ]
    },
    {
      "cell_type": "code",
      "execution_count": 17,
      "metadata": {
        "colab": {
          "base_uri": "https://localhost:8080/",
          "height": 206
        },
        "id": "O257SsSdtjnh",
        "outputId": "b73f2189-582d-4f4c-86e8-2a0d97e2494c"
      },
      "outputs": [
        {
          "data": {
            "text/html": [
              "<div>\n",
              "<style scoped>\n",
              "    .dataframe tbody tr th:only-of-type {\n",
              "        vertical-align: middle;\n",
              "    }\n",
              "\n",
              "    .dataframe tbody tr th {\n",
              "        vertical-align: top;\n",
              "    }\n",
              "\n",
              "    .dataframe thead th {\n",
              "        text-align: right;\n",
              "    }\n",
              "</style>\n",
              "<table border=\"1\" class=\"dataframe\">\n",
              "  <thead>\n",
              "    <tr style=\"text-align: right;\">\n",
              "      <th></th>\n",
              "      <th>tag</th>\n",
              "      <th>patterns</th>\n",
              "      <th>responses</th>\n",
              "    </tr>\n",
              "  </thead>\n",
              "  <tbody>\n",
              "    <tr>\n",
              "      <th>0</th>\n",
              "      <td>welcome</td>\n",
              "      <td>hi one talk hello hi available</td>\n",
              "      <td>[Hello, thanks for contacting us, Good to see ...</td>\n",
              "    </tr>\n",
              "    <tr>\n",
              "      <th>1</th>\n",
              "      <td>goodbye</td>\n",
              "      <td>bye see later goodbye come back soon</td>\n",
              "      <td>[See you later, thanks for visiting, have a gr...</td>\n",
              "    </tr>\n",
              "    <tr>\n",
              "      <th>2</th>\n",
              "      <td>thankful</td>\n",
              "      <td>thanks helping thank guidance 's helpful kind</td>\n",
              "      <td>[Happy to help!, Any time!, My pleasure, It is...</td>\n",
              "    </tr>\n",
              "    <tr>\n",
              "      <th>3</th>\n",
              "      <td>hoursopening</td>\n",
              "      <td>hour open tell opening time open timing please</td>\n",
              "      <td>[We're open every day 8am-7pm, Our office hour...</td>\n",
              "    </tr>\n",
              "    <tr>\n",
              "      <th>4</th>\n",
              "      <td>payments</td>\n",
              "      <td>pay using credit card pay using mastercard pay...</td>\n",
              "      <td>[We accept VISA, Mastercard and credit card, W...</td>\n",
              "    </tr>\n",
              "  </tbody>\n",
              "</table>\n",
              "</div>"
            ],
            "text/plain": [
              "            tag                                           patterns  \\\n",
              "0       welcome                     hi one talk hello hi available   \n",
              "1       goodbye               bye see later goodbye come back soon   \n",
              "2      thankful      thanks helping thank guidance 's helpful kind   \n",
              "3  hoursopening     hour open tell opening time open timing please   \n",
              "4      payments  pay using credit card pay using mastercard pay...   \n",
              "\n",
              "                                           responses  \n",
              "0  [Hello, thanks for contacting us, Good to see ...  \n",
              "1  [See you later, thanks for visiting, have a gr...  \n",
              "2  [Happy to help!, Any time!, My pleasure, It is...  \n",
              "3  [We're open every day 8am-7pm, Our office hour...  \n",
              "4  [We accept VISA, Mastercard and credit card, W...  "
            ]
          },
          "execution_count": 17,
          "metadata": {},
          "output_type": "execute_result"
        }
      ],
      "source": [
        "df"
      ]
    },
    {
      "cell_type": "code",
      "execution_count": 18,
      "metadata": {
        "id": "4Dq8PaBZtjnh"
      },
      "outputs": [],
      "source": [
        "from gensim.models import Word2Vec"
      ]
    },
    {
      "cell_type": "code",
      "execution_count": 19,
      "metadata": {
        "id": "p3V7xhcTtjni"
      },
      "outputs": [],
      "source": [
        "# taking the outer list\n",
        "bigger_list = []\n",
        "for i in df['patterns']:\n",
        "    li = i.split()\n",
        "    bigger_list.append(li)"
      ]
    },
    {
      "cell_type": "code",
      "execution_count": 20,
      "metadata": {
        "colab": {
          "base_uri": "https://localhost:8080/"
        },
        "id": "6zffjZhYtjni",
        "outputId": "f01d2562-fe18-41da-9612-2e651d9bb9b0"
      },
      "outputs": [
        {
          "data": {
            "text/plain": [
              "[['hi', 'one', 'talk', 'hello', 'hi', 'available'],\n",
              " ['bye', 'see', 'later', 'goodbye', 'come', 'back', 'soon'],\n",
              " ['thanks', 'helping', 'thank', 'guidance', \"'s\", 'helpful', 'kind'],\n",
              " ['hour', 'open', 'tell', 'opening', 'time', 'open', 'timing', 'please'],\n",
              " ['pay',\n",
              "  'using',\n",
              "  'credit',\n",
              "  'card',\n",
              "  'pay',\n",
              "  'using',\n",
              "  'mastercard',\n",
              "  'pay',\n",
              "  'using',\n",
              "  'cash']]"
            ]
          },
          "execution_count": 20,
          "metadata": {},
          "output_type": "execute_result"
        }
      ],
      "source": [
        "bigger_list"
      ]
    },
    {
      "cell_type": "code",
      "execution_count": 21,
      "metadata": {
        "colab": {
          "base_uri": "https://localhost:8080/"
        },
        "id": "4YOkAtMVtjni",
        "outputId": "08f39cec-3aee-4b9b-fb4f-585687057043"
      },
      "outputs": [
        {
          "name": "stdout",
          "output_type": "stream",
          "text": [
            "Word2Vec<vocab=32, vector_size=100, alpha=0.025>\n"
          ]
        }
      ],
      "source": [
        "# custom data is fed to machine for further processing\n",
        "\n",
        "model = Word2Vec(bigger_list, min_count = 1, workers = 4)\n",
        "print(model)"
      ]
    },
    {
      "cell_type": "code",
      "execution_count": 22,
      "metadata": {
        "id": "sR8PkWv8tjni"
      },
      "outputs": [],
      "source": [
        "model.save(\"Word2vec.model\")\n",
        "model.save('model.bin')"
      ]
    },
    {
      "cell_type": "code",
      "execution_count": 23,
      "metadata": {
        "id": "EgGyrFU3tjnj"
      },
      "outputs": [],
      "source": [
        "new_model = Word2Vec.load('model.bin')"
      ]
    },
    {
      "cell_type": "code",
      "execution_count": 24,
      "metadata": {
        "colab": {
          "base_uri": "https://localhost:8080/"
        },
        "id": "Q2APKR9Rtjnj",
        "outputId": "ce59debb-a8ab-423d-98bf-7c8104516170"
      },
      "outputs": [
        {
          "data": {
            "text/plain": [
              "['pay',\n",
              " 'using',\n",
              " 'open',\n",
              " 'hi',\n",
              " 'credit',\n",
              " 'card',\n",
              " 'please',\n",
              " 'cash',\n",
              " 'timing',\n",
              " 'time',\n",
              " 'opening',\n",
              " 'tell',\n",
              " 'hour',\n",
              " 'kind',\n",
              " 'helpful',\n",
              " 'mastercard',\n",
              " \"'s\",\n",
              " 'guidance',\n",
              " 'helping',\n",
              " 'thank',\n",
              " 'soon',\n",
              " 'back',\n",
              " 'come',\n",
              " 'thanks',\n",
              " 'goodbye',\n",
              " 'later',\n",
              " 'bye',\n",
              " 'see',\n",
              " 'available',\n",
              " 'hello',\n",
              " 'talk',\n",
              " 'one']"
            ]
          },
          "execution_count": 24,
          "metadata": {},
          "output_type": "execute_result"
        }
      ],
      "source": [
        "vocab = list(new_model.wv.key_to_index) # new_model.wv.key_to_index\n",
        "vocab"
      ]
    },
    {
      "cell_type": "code",
      "execution_count": 25,
      "metadata": {
        "colab": {
          "base_uri": "https://localhost:8080/"
        },
        "id": "pZLowalctjnj",
        "outputId": "34f174ef-c2d0-4a35-e4cc-3de55917d1e6"
      },
      "outputs": [
        {
          "name": "stdout",
          "output_type": "stream",
          "text": [
            "[('credit', 0.2528848946094513), ('later', 0.14958374202251434), ('thanks', 0.1472208946943283), ('helping', 0.14262542128562927), ('using', 0.13770504295825958), ('guidance', 0.11663373559713364), ('back', 0.07196696102619171), ('talk', 0.0620444193482399), ('come', 0.0456683486700058), ('card', 0.04410775378346443)]\n"
          ]
        }
      ],
      "source": [
        "similar_words = new_model.wv.most_similar('kind')\n",
        "print(similar_words)"
      ]
    },
    {
      "cell_type": "code",
      "execution_count": 26,
      "metadata": {
        "colab": {
          "base_uri": "https://localhost:8080/"
        },
        "id": "KQWViqwLtjnk",
        "outputId": "40d8b256-a38d-4888-fa5b-4619467288b2"
      },
      "outputs": [
        {
          "name": "stdout",
          "output_type": "stream",
          "text": [
            "[('pay', 0.2164667844772339), ('available', 0.12651866674423218), ('hello', 0.10320200026035309), ('bye', 0.08369238674640656), ('come', 0.07771766185760498), ('one', 0.06282763928174973), ('timing', 0.04463838413357735), ('talk', 0.030229926109313965), ('thanks', 0.02999662235379219), ('helping', 0.02045464888215065)]\n"
          ]
        }
      ],
      "source": [
        "similar_words = new_model.wv.most_similar('time')\n",
        "print(similar_words)"
      ]
    },
    {
      "cell_type": "code",
      "execution_count": 27,
      "metadata": {
        "colab": {
          "base_uri": "https://localhost:8080/"
        },
        "id": "vbLo72pktjnk",
        "outputId": "d9ccad8a-316b-44f2-ce94-bcba623eef1c"
      },
      "outputs": [
        {
          "name": "stdout",
          "output_type": "stream",
          "text": [
            "[('available', 0.3039924204349518), ('bye', 0.17751172184944153), (\"'s\", 0.16378934681415558), ('later', 0.16264012455940247), ('open', 0.14595060050487518), ('thank', 0.11074148118495941), ('back', 0.09431411325931549), ('helping', 0.07480558753013611), ('opening', 0.05046002194285393), ('hello', 0.04881662130355835)]\n"
          ]
        }
      ],
      "source": [
        "similar_words = new_model.wv.most_similar('please')\n",
        "print(similar_words)"
      ]
    },
    {
      "cell_type": "code",
      "execution_count": 28,
      "metadata": {
        "colab": {
          "base_uri": "https://localhost:8080/",
          "height": 35
        },
        "id": "3D9FJ2I7tjnk",
        "outputId": "c41c2e2d-9e51-49f1-ce92-dc3bde4c73f3"
      },
      "outputs": [
        {
          "data": {
            "text/plain": [
              "'We open office at 8 am and close at 7 pm'"
            ]
          },
          "execution_count": 28,
          "metadata": {},
          "output_type": "execute_result"
        }
      ],
      "source": [
        "df['responses'][3][2]"
      ]
    },
    {
      "cell_type": "code",
      "execution_count": 29,
      "metadata": {
        "colab": {
          "base_uri": "https://localhost:8080/"
        },
        "id": "qpJvQrMZtjnl",
        "outputId": "d071b1b3-651e-45c8-fd7e-877324ec3e53"
      },
      "outputs": [
        {
          "name": "stdout",
          "output_type": "stream",
          "text": [
            "see\n"
          ]
        }
      ],
      "source": [
        "dissimilar_words = model.wv.doesnt_match(\n",
        "    '''see you later, thanks for visiting'''.split())\n",
        "print(dissimilar_words)"
      ]
    },
    {
      "cell_type": "code",
      "execution_count": 30,
      "metadata": {
        "colab": {
          "base_uri": "https://localhost:8080/"
        },
        "id": "i7N0mqwKtjnl",
        "outputId": "0aedfe25-afa2-4ef3-c8ba-420da744b7d8"
      },
      "outputs": [
        {
          "data": {
            "text/plain": [
              "0    what time does office open\n",
              "Name: text, dtype: object"
            ]
          },
          "execution_count": 30,
          "metadata": {},
          "output_type": "execute_result"
        }
      ],
      "source": [
        "input = 'what time does office open'\n",
        "df1 = pd.DataFrame({'text': [input]})\n",
        "df1['text']"
      ]
    },
    {
      "cell_type": "code",
      "execution_count": 31,
      "metadata": {
        "id": "_lSrDxn2tjnl"
      },
      "outputs": [],
      "source": [
        "def clean_text(input):\n",
        "    df1 = pd.DataFrame({'text': [input]})\n",
        "    df1['text'] = df1['text'].apply(\n",
        "        lambda x: \" \".join(x.lower() for x in x.split()))\n",
        "    df1['text'] = df1['text'].apply(\n",
        "        lambda x: \" \".join(x  for x in word_tokenize(x) if x not in string.punctuation))\n",
        "    df1['text'] = df1['text'].str.replace('[^\\w\\s]','')\n",
        "    df1['text'] = df1['text'].apply(\n",
        "        lambda x: \" \".join( x for x in x.split() if not x.isdigit()))\n",
        "    df1['text'] = df1['text'].apply(\n",
        "        lambda x: \" \".join( x for x in x.split() if x not in stop))\n",
        "    df1['text'] = df1['text'].apply(\n",
        "        lambda x: \" \".join( Word(word).lemmatize() for word in x.split()))\n",
        "    return df1['text'][0]"
      ]
    },
    {
      "cell_type": "code",
      "execution_count": 32,
      "metadata": {
        "colab": {
          "base_uri": "https://localhost:8080/"
        },
        "id": "OqchODwZtjnl",
        "outputId": "edea5cdb-13c2-4d32-93c5-89208364bca8"
      },
      "outputs": [],
      "source": [
        "inp = clean_text(input)"
      ]
    },
    {
      "cell_type": "code",
      "execution_count": 33,
      "metadata": {},
      "outputs": [
        {
          "data": {
            "text/plain": [
              "'what time does office open'"
            ]
          },
          "execution_count": 33,
          "metadata": {},
          "output_type": "execute_result"
        }
      ],
      "source": [
        "df1['text'][0]"
      ]
    },
    {
      "cell_type": "code",
      "execution_count": 34,
      "metadata": {
        "id": "Ks9ZwxCdtjnm"
      },
      "outputs": [],
      "source": [
        "import random\n",
        "\n",
        "\n",
        "def chat_input(text):\n",
        "    inp = clean_text(text)\n",
        "    for i in range(len(df)):\n",
        "        pattern = word_tokenize(str(df['patterns'][i]))\n",
        "        for word in inp.split():\n",
        "            if word in pattern:\n",
        "                num = random.randint(0, len(df['responses'][i-1]))\n",
        "                print(i)\n",
        "                return df['responses'][i][num]\n",
        "\n"
      ]
    },
    {
      "cell_type": "code",
      "execution_count": 35,
      "metadata": {},
      "outputs": [
        {
          "data": {
            "text/plain": [
              "5"
            ]
          },
          "execution_count": 35,
          "metadata": {},
          "output_type": "execute_result"
        }
      ],
      "source": [
        "len(df['patterns'])"
      ]
    },
    {
      "cell_type": "code",
      "execution_count": 36,
      "metadata": {},
      "outputs": [
        {
          "data": {
            "text/plain": [
              "3"
            ]
          },
          "execution_count": 36,
          "metadata": {},
          "output_type": "execute_result"
        }
      ],
      "source": [
        "len(df['responses'][3])"
      ]
    },
    {
      "cell_type": "code",
      "execution_count": 37,
      "metadata": {},
      "outputs": [
        {
          "name": "stdout",
          "output_type": "stream",
          "text": [
            "hi one talk hello hi available\n",
            "bye see later goodbye come back soon\n",
            "thanks helping thank guidance 's helpful kind\n",
            "hour open tell opening time open timing please\n",
            "pay using credit card pay using mastercard pay using cash\n"
          ]
        }
      ],
      "source": [
        "for i in df['patterns']:\n",
        "    print(i)"
      ]
    },
    {
      "cell_type": "code",
      "execution_count": 38,
      "metadata": {
        "colab": {
          "base_uri": "https://localhost:8080/",
          "height": 350
        },
        "id": "pNopWRyatjnm",
        "outputId": "17938a2c-b322-4787-df2f-8ef6de6daf42"
      },
      "outputs": [
        {
          "name": "stdout",
          "output_type": "stream",
          "text": [
            "3\n"
          ]
        },
        {
          "data": {
            "text/plain": [
              "'We open office at 8 am and close at 7 pm'"
            ]
          },
          "execution_count": 38,
          "metadata": {},
          "output_type": "execute_result"
        }
      ],
      "source": [
        "input = 'what time does office open'\n",
        "i = chat_input(input)\n",
        "i"
      ]
    },
    {
      "cell_type": "code",
      "execution_count": 39,
      "metadata": {},
      "outputs": [
        {
          "data": {
            "text/plain": [
              "'time office open'"
            ]
          },
          "execution_count": 39,
          "metadata": {},
          "output_type": "execute_result"
        }
      ],
      "source": [
        "inp = clean_text(input)\n",
        "inp"
      ]
    },
    {
      "cell_type": "code",
      "execution_count": 40,
      "metadata": {},
      "outputs": [
        {
          "data": {
            "text/plain": [
              "['hour', 'open', 'tell', 'opening', 'time', 'open', 'timing', 'please']"
            ]
          },
          "execution_count": 40,
          "metadata": {},
          "output_type": "execute_result"
        }
      ],
      "source": [
        "pattern = word_tokenize(str(df['patterns'][3]))\n",
        "pattern"
      ]
    },
    {
      "cell_type": "code",
      "execution_count": 41,
      "metadata": {},
      "outputs": [],
      "source": [
        "pattern = word_tokenize(str(df['patterns'][3]))\n",
        "if inp.split() in pattern:\n",
        "    num = random.randint(0, len(df['responses'][3]))\n",
        "    print( df['responses'][3][num])\n"
      ]
    },
    {
      "cell_type": "code",
      "execution_count": 42,
      "metadata": {},
      "outputs": [
        {
          "data": {
            "text/plain": [
              "['time', 'office', 'open']"
            ]
          },
          "execution_count": 42,
          "metadata": {},
          "output_type": "execute_result"
        }
      ],
      "source": [
        "'time office open'.split()"
      ]
    },
    {
      "cell_type": "code",
      "execution_count": 43,
      "metadata": {},
      "outputs": [
        {
          "name": "stdout",
          "output_type": "stream",
          "text": [
            "True\n",
            "False\n",
            "True\n"
          ]
        }
      ],
      "source": [
        "for i in 'time office open'.split():\n",
        "    if i in ['hour', 'open', 'tell', 'opening', 'time', 'open', 'timing', 'please']:\n",
        "        print('True')\n",
        "    else:\n",
        "        print('False')"
      ]
    },
    {
      "cell_type": "code",
      "execution_count": 44,
      "metadata": {},
      "outputs": [
        {
          "data": {
            "text/plain": [
              "'Our office hours are 8am-7pm every day'"
            ]
          },
          "execution_count": 44,
          "metadata": {},
          "output_type": "execute_result"
        }
      ],
      "source": [
        "df['responses'][3][1]"
      ]
    },
    {
      "cell_type": "code",
      "execution_count": 45,
      "metadata": {
        "colab": {
          "base_uri": "https://localhost:8080/",
          "height": 35
        },
        "id": "neE0fxdqweFz",
        "outputId": "baa3aca1-0889-43fd-d958-13d478f79f05"
      },
      "outputs": [
        {
          "data": {
            "text/plain": [
              "'bye see later goodbye come back soon'"
            ]
          },
          "execution_count": 45,
          "metadata": {},
          "output_type": "execute_result"
        }
      ],
      "source": [
        "df['patterns'][1]"
      ]
    },
    {
      "cell_type": "code",
      "execution_count": 46,
      "metadata": {
        "id": "tVSSWe66wz1A"
      },
      "outputs": [],
      "source": [
        "input = 'what time does office open'\n",
        "input = pd.Series([input])\n",
        "\n",
        "for i in range(len(df)):\n",
        "    if input[0] in str(df['patterns'][i]):\n",
        "        num = random.randint(0, len(df['responses'][i]))\n",
        "        print( df['responses'][i][num])"
      ]
    },
    {
      "cell_type": "code",
      "execution_count": 47,
      "metadata": {},
      "outputs": [
        {
          "data": {
            "text/plain": [
              "'what time does office open'"
            ]
          },
          "execution_count": 47,
          "metadata": {},
          "output_type": "execute_result"
        }
      ],
      "source": [
        "input[0]"
      ]
    },
    {
      "cell_type": "code",
      "execution_count": 48,
      "metadata": {},
      "outputs": [
        {
          "ename": "TypeError",
          "evalue": "'in <string>' requires string as left operand, not list",
          "output_type": "error",
          "traceback": [
            "\u001b[0;31m---------------------------------------------------------------------------\u001b[0m",
            "\u001b[0;31mTypeError\u001b[0m                                 Traceback (most recent call last)",
            "Cell \u001b[0;32mIn[48], line 1\u001b[0m\n\u001b[0;32m----> 1\u001b[0m \u001b[38;5;28;01mif\u001b[39;00m \u001b[38;5;28minput\u001b[39m[\u001b[38;5;241m0\u001b[39m]\u001b[38;5;241m.\u001b[39msplit() \u001b[38;5;129;01min\u001b[39;00m \u001b[38;5;28mstr\u001b[39m(df[\u001b[38;5;124m'\u001b[39m\u001b[38;5;124mpatterns\u001b[39m\u001b[38;5;124m'\u001b[39m][i]):\n\u001b[1;32m      2\u001b[0m     num \u001b[38;5;241m=\u001b[39m random\u001b[38;5;241m.\u001b[39mrandint(\u001b[38;5;241m0\u001b[39m, \u001b[38;5;28mlen\u001b[39m(df[\u001b[38;5;124m'\u001b[39m\u001b[38;5;124mresponses\u001b[39m\u001b[38;5;124m'\u001b[39m][i]))\n\u001b[1;32m      3\u001b[0m     \u001b[38;5;28mprint\u001b[39m( df[\u001b[38;5;124m'\u001b[39m\u001b[38;5;124mresponses\u001b[39m\u001b[38;5;124m'\u001b[39m][i][num])\n",
            "\u001b[0;31mTypeError\u001b[0m: 'in <string>' requires string as left operand, not list"
          ]
        }
      ],
      "source": [
        "if input[0].split() in str(df['patterns'][i]):\n",
        "    num = random.randint(0, len(df['responses'][i]))\n",
        "    print( df['responses'][i][num])"
      ]
    },
    {
      "cell_type": "code",
      "execution_count": null,
      "metadata": {},
      "outputs": [
        {
          "ename": "ValueError",
          "evalue": "empty separator",
          "output_type": "error",
          "traceback": [
            "\u001b[0;31m---------------------------------------------------------------------------\u001b[0m",
            "\u001b[0;31mValueError\u001b[0m                                Traceback (most recent call last)",
            "Cell \u001b[0;32mIn[163], line 1\u001b[0m\n\u001b[0;32m----> 1\u001b[0m \u001b[38;5;124;43m'\u001b[39;49m\u001b[38;5;124;43mwhat time does office open\u001b[39;49m\u001b[38;5;124;43m'\u001b[39;49m\u001b[38;5;241;43m.\u001b[39;49m\u001b[43msplit\u001b[49m\u001b[43m(\u001b[49m\u001b[38;5;124;43m\"\u001b[39;49m\u001b[38;5;124;43m\"\u001b[39;49m\u001b[43m)\u001b[49m \u001b[38;5;129;01min\u001b[39;00m \u001b[38;5;28mstr\u001b[39m(df[\u001b[38;5;124m'\u001b[39m\u001b[38;5;124mpatterns\u001b[39m\u001b[38;5;124m'\u001b[39m][\u001b[38;5;241m1\u001b[39m])\n",
            "\u001b[0;31mValueError\u001b[0m: empty separator"
          ]
        }
      ],
      "source": [
        "'what time does office open'.split(\"\") in str(df['patterns'][1])"
      ]
    },
    {
      "cell_type": "code",
      "execution_count": null,
      "metadata": {},
      "outputs": [
        {
          "data": {
            "text/plain": [
              "False"
            ]
          },
          "execution_count": 170,
          "metadata": {},
          "output_type": "execute_result"
        }
      ],
      "source": [
        "input = 'what time does office open'\n",
        "\n",
        "str(word_tokenize(input)) in str(df['patterns'][3])"
      ]
    },
    {
      "cell_type": "code",
      "execution_count": null,
      "metadata": {},
      "outputs": [
        {
          "data": {
            "text/plain": [
              "['What hours are you open?',\n",
              " 'Tell your opening time?',\n",
              " 'When are you open?',\n",
              " 'Just your timing please']"
            ]
          },
          "execution_count": 168,
          "metadata": {},
          "output_type": "execute_result"
        }
      ],
      "source": [
        "df['patterns'][3]"
      ]
    },
    {
      "cell_type": "code",
      "execution_count": null,
      "metadata": {},
      "outputs": [
        {
          "data": {
            "text/plain": [
              "['what', 'time', 'does', 'office', 'open']"
            ]
          },
          "execution_count": 171,
          "metadata": {},
          "output_type": "execute_result"
        }
      ],
      "source": [
        "word_tokenize(input)"
      ]
    },
    {
      "cell_type": "code",
      "execution_count": null,
      "metadata": {},
      "outputs": [
        {
          "data": {
            "text/plain": [
              "['what', 'time', 'does', 'office', 'open']"
            ]
          },
          "execution_count": 210,
          "metadata": {},
          "output_type": "execute_result"
        }
      ],
      "source": [
        "input.split()"
      ]
    },
    {
      "cell_type": "code",
      "execution_count": null,
      "metadata": {},
      "outputs": [
        {
          "data": {
            "text/plain": [
              "['hour', 'open', 'tell', 'opening', 'time', 'open', 'timing', 'please']"
            ]
          },
          "execution_count": 213,
          "metadata": {},
          "output_type": "execute_result"
        }
      ],
      "source": [
        "word_tokenize(df['patterns'][3])"
      ]
    },
    {
      "cell_type": "code",
      "execution_count": null,
      "metadata": {},
      "outputs": [
        {
          "data": {
            "text/plain": [
              "['bye', 'see', 'later', 'goodbye', 'come', 'back', 'soon']"
            ]
          },
          "execution_count": 212,
          "metadata": {},
          "output_type": "execute_result"
        }
      ],
      "source": [
        "str(df['patterns'][1]).split()"
      ]
    }
  ],
  "metadata": {
    "colab": {
      "provenance": []
    },
    "kernelspec": {
      "display_name": "Python 3 (ipykernel)",
      "language": "python",
      "name": "python3"
    },
    "language_info": {
      "codemirror_mode": {
        "name": "ipython",
        "version": 3
      },
      "file_extension": ".py",
      "mimetype": "text/x-python",
      "name": "python",
      "nbconvert_exporter": "python",
      "pygments_lexer": "ipython3",
      "version": "3.11.5"
    }
  },
  "nbformat": 4,
  "nbformat_minor": 0
}
