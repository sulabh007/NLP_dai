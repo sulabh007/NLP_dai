{
 "cells": [
  {
   "cell_type": "code",
   "execution_count": 1,
   "metadata": {},
   "outputs": [],
   "source": [
    "word1 = 'cat', 'catty', 'catlike', 'cats'\n",
    "word2 = 'playing', 'plays', 'played', 'players'\n",
    "word3 = 'go', 'went', 'gone', 'going', 'goes'\n",
    "word4 = 'goods', 'better', 'best', 'fasting', 'reachable'\n",
    "word5 = 'program', 'programmed', 'programming', 'programatic'"
   ]
  },
  {
   "cell_type": "code",
   "execution_count": 2,
   "metadata": {},
   "outputs": [],
   "source": [
    "from nltk.stem import WordNetLemmatizer"
   ]
  },
  {
   "cell_type": "code",
   "execution_count": 3,
   "metadata": {},
   "outputs": [],
   "source": [
    "wnl = WordNetLemmatizer()"
   ]
  },
  {
   "cell_type": "code",
   "execution_count": null,
   "metadata": {},
   "outputs": [],
   "source": []
  },
  {
   "cell_type": "code",
   "execution_count": 4,
   "metadata": {},
   "outputs": [
    {
     "data": {
      "text/plain": [
       "'play'"
      ]
     },
     "execution_count": 4,
     "metadata": {},
     "output_type": "execute_result"
    }
   ],
   "source": [
    "# v -> verb, n -> noun, a -> adjective, r -> adverb\n",
    "wnl.lemmatize(word2[0], pos = 'v')"
   ]
  },
  {
   "cell_type": "code",
   "execution_count": 8,
   "metadata": {},
   "outputs": [
    {
     "name": "stdout",
     "output_type": "stream",
     "text": [
      "cat  -  cat\n",
      "catty  -  catty\n",
      "catlike  -  catlike\n",
      "cats  -  cat\n"
     ]
    }
   ],
   "source": [
    "for word in word1:\n",
    "    print(word,' - ',wnl.lemmatize(word, pos = 'v'))"
   ]
  },
  {
   "cell_type": "code",
   "execution_count": 12,
   "metadata": {},
   "outputs": [
    {
     "name": "stdout",
     "output_type": "stream",
     "text": [
      "playing  -  play\n",
      "plays  -  play\n",
      "played  -  play\n",
      "players  -  players\n"
     ]
    }
   ],
   "source": [
    "for word in word2:\n",
    "    print(word,' - ',wnl.lemmatize(word, pos = 'v'))"
   ]
  },
  {
   "cell_type": "code",
   "execution_count": 9,
   "metadata": {},
   "outputs": [
    {
     "name": "stdout",
     "output_type": "stream",
     "text": [
      "go  -  go\n",
      "went  -  go\n",
      "gone  -  go\n",
      "going  -  go\n",
      "goes  -  go\n"
     ]
    }
   ],
   "source": [
    "for word in word3:\n",
    "    print(word,' - ',wnl.lemmatize(word, pos = 'v'))"
   ]
  },
  {
   "cell_type": "code",
   "execution_count": 21,
   "metadata": {},
   "outputs": [
    {
     "name": "stdout",
     "output_type": "stream",
     "text": [
      "goods  -  good\n",
      "better  -  better\n",
      "best  -  best\n",
      "fasting  -  fasting\n",
      "reachable  -  reachable\n"
     ]
    }
   ],
   "source": [
    "for word in word4:\n",
    "    print(word,' - ',wnl.lemmatize(word, pos = 'n'))"
   ]
  },
  {
   "cell_type": "code",
   "execution_count": 20,
   "metadata": {},
   "outputs": [
    {
     "name": "stdout",
     "output_type": "stream",
     "text": [
      "goods  -  goods\n",
      "better  -  good\n",
      "best  -  best\n",
      "fasting  -  fasting\n",
      "reachable  -  reachable\n"
     ]
    }
   ],
   "source": [
    "for word in word4:\n",
    "    print(word,' - ',wnl.lemmatize(word, pos = 'a'))"
   ]
  },
  {
   "cell_type": "code",
   "execution_count": 24,
   "metadata": {},
   "outputs": [
    {
     "name": "stdout",
     "output_type": "stream",
     "text": [
      "program  -  program\n",
      "programmed  -  program\n",
      "programming  -  program\n",
      "programatic  -  programatic\n"
     ]
    }
   ],
   "source": [
    "for word in word5:\n",
    "    print(word,' - ',wnl.lemmatize(word, pos = 'v'))"
   ]
  }
 ],
 "metadata": {
  "kernelspec": {
   "display_name": "NLP",
   "language": "python",
   "name": "python3"
  },
  "language_info": {
   "codemirror_mode": {
    "name": "ipython",
    "version": 3
   },
   "file_extension": ".py",
   "mimetype": "text/x-python",
   "name": "python",
   "nbconvert_exporter": "python",
   "pygments_lexer": "ipython3",
   "version": "3.11.5"
  }
 },
 "nbformat": 4,
 "nbformat_minor": 2
}
