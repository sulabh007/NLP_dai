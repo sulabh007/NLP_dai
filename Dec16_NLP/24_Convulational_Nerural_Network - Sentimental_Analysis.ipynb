{
 "cells": [
  {
   "cell_type": "code",
   "execution_count": 1,
   "metadata": {},
   "outputs": [],
   "source": [
    "# pip install keras_preprocessing"
   ]
  },
  {
   "cell_type": "code",
   "execution_count": 2,
   "metadata": {},
   "outputs": [
    {
     "name": "stderr",
     "output_type": "stream",
     "text": [
      "2023-12-21 19:34:31.247655: E external/local_xla/xla/stream_executor/cuda/cuda_dnn.cc:9261] Unable to register cuDNN factory: Attempting to register factory for plugin cuDNN when one has already been registered\n",
      "2023-12-21 19:34:31.247717: E external/local_xla/xla/stream_executor/cuda/cuda_fft.cc:607] Unable to register cuFFT factory: Attempting to register factory for plugin cuFFT when one has already been registered\n",
      "2023-12-21 19:34:31.270837: E external/local_xla/xla/stream_executor/cuda/cuda_blas.cc:1515] Unable to register cuBLAS factory: Attempting to register factory for plugin cuBLAS when one has already been registered\n",
      "2023-12-21 19:34:31.316154: I tensorflow/core/platform/cpu_feature_guard.cc:182] This TensorFlow binary is optimized to use available CPU instructions in performance-critical operations.\n",
      "To enable the following instructions: AVX2 FMA, in other operations, rebuild TensorFlow with the appropriate compiler flags.\n",
      "2023-12-21 19:34:32.178241: W tensorflow/compiler/tf2tensorrt/utils/py_utils.cc:38] TF-TRT Warning: Could not find TensorRT\n"
     ]
    }
   ],
   "source": [
    "import string\n",
    "import re\n",
    "from os import listdir\n",
    "import tensorflow as tf\n",
    "from nltk.corpus import stopwords\n",
    "from tensorflow.keras.preprocessing.text import Tokenizer\n",
    "from tensorflow.keras.utils import plot_model\n",
    "from keras_preprocessing.sequence import pad_sequences\n",
    "from tensorflow.keras.models import load_model, Sequential\n",
    "from tensorflow.keras.layers import Dense, Flatten, Embedding, Conv1D, MaxPool1D\n",
    "import numpy as np\n",
    "import nltk"
   ]
  },
  {
   "cell_type": "code",
   "execution_count": 3,
   "metadata": {},
   "outputs": [],
   "source": [
    "# load doc into memory\n",
    "def load_doc(filename):\n",
    "  # open the file as read only\n",
    "  file = open(filename,'r')\n",
    "  #read all text\n",
    "  text = file.read()\n",
    "  #close the file\n",
    "  file.close()\n",
    "  return text"
   ]
  },
  {
   "cell_type": "code",
   "execution_count": 4,
   "metadata": {},
   "outputs": [
    {
     "data": {
      "text/plain": [
       "'for those of us who weren\\'t yet born when the 1960\\'s rock \\'n\\' rolled around , monterey pop affords an affectionate glimpse of the music that influenced our parents to be hippies . \\nfrom otis redding to jimi hendrix , janis joplin to the mamas and the papas , and jefferson airplane to the who , this documentary is jam-packed with contagious energy . \\nbut i give fair warning that i will reveal the ending , which does not do the rest of the film the justice it deserves . \\nshot in 1969 at an outdoor concert that precluded woodstock , the film defies the stereotype of the general population at the time . \\nsure , some have painted their faces and smoke joints , but d . a . \\npennebaker ( the war room , moon over broadway ) surprisingly chooses to show a broad spectrum of the audience . \\nno matter who is watching , it all comes back to the talented musicians that stir your soul . \\nthe excitement starts before the music even begins . \\na young girl is cleaning thousands of seats and when asked why by an interviewer , she replies that she feels lucky to do so . \\nthere are moments of organized craziness as john phillips , leader of the mamas and the papas and one of the concert organizers , tries to get in touch with dionne warwick . \\nand when one band is tuning up , a member remarks , \" finally , a decent sound system ! \" \\nyou can tell just by watching these first few moments that this show isn\\'t about vanity , it\\'s about playing the music you love to those who have an appreciation for it , a two-way street . \\nthis interaction between audience and performer continues throughout the film and becomes infectious to the audience . \\nit\\'s impossible to tear your eyes away from janis joplin as she belts out her ballad about love being a ball and chain . \\nand while the lyrics to \" wild thing \" may not be all that complicated , watching jimi hendrix mime having sex with his guitar is as captivating as otis redding singing about love . \\neven if you don\\'t recognize every band you see on stage , you can imagine being as enthralled by their work as the public sitting in those seats . \\nthe only drawback to the film is the ending , which unfortunately i must reveal . \\nall the other bands , big names then and still today , got approximately 7 to 10 minutes of screen time . \\nin contrast , the last band on camera , a wholly forgettable one , gets an entire 18 minutes of screen time . \\nfor a film that\\'s only 78 minutes long , that\\'s too large of a chunk , especially when previous acts are much more stimulating . \\nall in all , monterey pop is a precious , rare look at a time period that still holds sway over us . \\nthe variety of music , as well as the beautifully shot performances , are easy to become immersed in . \\nif there was ever any question as to why most of these bands were so popular , this is quickly dispelled . \\nit\\'s almost depressing to think that music this moving doesn\\'t get made much anymore . \\ninstead we\\'re stuck with * nsync , the backstreet boys , and jennifer lopez , all of whom should have stuck with modeling . \\n'"
      ]
     },
     "execution_count": 4,
     "metadata": {},
     "output_type": "execute_result"
    }
   ],
   "source": [
    "text = load_doc('review_polarity/txt_sentoken/pos/cv026_29325.txt')\n",
    "text"
   ]
  },
  {
   "cell_type": "code",
   "execution_count": 5,
   "metadata": {},
   "outputs": [],
   "source": [
    "# turn a doc into clean tokens\n",
    "def clean_doc(doc):\n",
    "    # split into tokens by white space\n",
    "    tokens = doc.split()\n",
    "    # prepare regex for char filtering\n",
    "    re_punc = re.compile('[%s]' % re.escape(string.punctuation))\n",
    "    # remove puctuation from each word\n",
    "    tokens = [re_punc.sub('', w) for w in tokens]\n",
    "    # remove reamaning tokens that are not alphabetic\n",
    "    tokens = [word for word in tokens if word.isalpha()]\n",
    "    # filter out stop words\n",
    "    stop_words = set(stopwords.words('english'))\n",
    "    tokens = [w for w in tokens if not w in stop_words]\n",
    "    # filter out short tokens\n",
    "    tokens = [word for word in tokens if len(word) > 1]\n",
    "    return tokens"
   ]
  },
  {
   "cell_type": "code",
   "execution_count": 6,
   "metadata": {},
   "outputs": [
    {
     "data": {
      "text/plain": [
       "261"
      ]
     },
     "execution_count": 6,
     "metadata": {},
     "output_type": "execute_result"
    }
   ],
   "source": [
    "clean = clean_doc(text)\n",
    "len(clean)"
   ]
  },
  {
   "cell_type": "code",
   "execution_count": 7,
   "metadata": {},
   "outputs": [],
   "source": [
    "# load_doc, clean and return line of tokens\n",
    "def doc_to_line(filename, vocab):\n",
    "  # load the doc\n",
    "  doc = load_doc(filename)\n",
    "  # clean doc\n",
    "  tokens = clean_doc(doc)\n",
    "  # filter by vocab\n",
    "  tokens = [w for w in tokens if w in vocab]\n",
    "  return \" \".join(tokens)"
   ]
  },
  {
   "cell_type": "code",
   "execution_count": 8,
   "metadata": {},
   "outputs": [],
   "source": [
    "vocab = open('vocab.txt')\n",
    "vocab = vocab.read().split()"
   ]
  },
  {
   "cell_type": "code",
   "execution_count": 9,
   "metadata": {},
   "outputs": [
    {
     "data": {
      "text/plain": [
       "'us werent yet born rock rolled around monterey pop affectionate glimpse music influenced parents hippies otis redding jimi hendrix janis joplin mamas papas jefferson airplane documentary jampacked contagious energy give fair warning reveal ending rest film justice deserves shot outdoor concert film defies stereotype general population time sure painted faces smoke joints war room moon broadway surprisingly chooses show broad spectrum audience matter watching comes back talented musicians stir soul excitement starts music even begins young girl cleaning thousands seats asked interviewer replies feels lucky moments organized craziness john phillips leader mamas papas one concert tries get touch one band tuning member remarks finally decent sound system tell watching first moments show isnt vanity playing music love appreciation street interaction audience performer continues throughout film becomes infectious audience impossible tear eyes away janis joplin belts ballad love ball chain lyrics wild thing may complicated watching jimi hendrix mime sex guitar captivating otis redding singing love even dont recognize every band see stage imagine enthralled work public sitting seats drawback film ending unfortunately must reveal bands big names still today got approximately minutes screen time contrast last band camera wholly forgettable one gets entire minutes screen time film thats minutes long thats large chunk especially previous acts much stimulating monterey pop precious rare look time period still holds sway us variety music well beautifully shot performances easy become immersed ever question bands popular quickly almost depressing think music moving doesnt get made much anymore instead stuck backstreet boys jennifer lopez stuck modeling'"
      ]
     },
     "execution_count": 9,
     "metadata": {},
     "output_type": "execute_result"
    }
   ],
   "source": [
    "doc_to_line('review_polarity/txt_sentoken/pos/cv026_29325.txt', vocab)"
   ]
  },
  {
   "cell_type": "code",
   "execution_count": 10,
   "metadata": {},
   "outputs": [],
   "source": [
    "def process_train(directory, vocab):\n",
    "  documents = list()\n",
    "  for filename in listdir(directory):\n",
    "    if not filename.startswith('cv9'):\n",
    "      path = directory + '/' + filename\n",
    "      doc = load_doc(path)\n",
    "      tokens = doc_to_line(doc, vocab)\n",
    "      documents.append(tokens)\n",
    "    return documents\n",
    "\n",
    "def process_test(directory, vocab):\n",
    "  documents = list()\n",
    "  for filename in listdir(directory):\n",
    "    if filename.startswith('cv9'):\n",
    "      path = directory + '/' + filename\n",
    "      doc = load_doc(path)\n",
    "      tokens = doc_to_line(doc, vocab)\n",
    "      documents.append(tokens)\n",
    "    return documents"
   ]
  },
  {
   "cell_type": "code",
   "execution_count": 11,
   "metadata": {},
   "outputs": [],
   "source": [
    "# load all docs in a directory\n",
    "def process_docs(directory, vocab, is_train):\n",
    "    documents = list()\n",
    "    # walk through all files in the folder\n",
    "    for filename in listdir(directory):\n",
    "        # skip any review in the test set\n",
    "        if is_train and filename.startswith('cv9'):\n",
    "            continue\n",
    "        if not is_train and not filename.startswith('cv9'):\n",
    "            continue\n",
    "        # create the full path of file to open\n",
    "        path  = directory + '/' + filename\n",
    "        # load the doc\n",
    "        doc = load_doc(path)\n",
    "        # clean doc\n",
    "        tokens = clean_doc(doc)\n",
    "        # add to list\n",
    "        documents.append(tokens)\n",
    "    return documents\n",
    "        "
   ]
  },
  {
   "cell_type": "code",
   "execution_count": 12,
   "metadata": {},
   "outputs": [
    {
     "data": {
      "text/plain": [
       "100"
      ]
     },
     "execution_count": 12,
     "metadata": {},
     "output_type": "execute_result"
    }
   ],
   "source": [
    "lines = process_docs('review_polarity/txt_sentoken/pos', vocab, False)\n",
    "len(lines)"
   ]
  },
  {
   "cell_type": "code",
   "execution_count": 13,
   "metadata": {},
   "outputs": [
    {
     "data": {
      "text/plain": [
       "900"
      ]
     },
     "execution_count": 13,
     "metadata": {},
     "output_type": "execute_result"
    }
   ],
   "source": [
    "lines = process_docs('review_polarity/txt_sentoken/pos', vocab, True)\n",
    "len(lines)"
   ]
  },
  {
   "cell_type": "code",
   "execution_count": 14,
   "metadata": {},
   "outputs": [],
   "source": [
    "# load and clean a dataset\n",
    "def load_clean_dataset(vocab, is_train):\n",
    "    # load documents\n",
    "    neg = process_docs('review_polarity/txt_sentoken/neg', vocab, is_train)\n",
    "    pos = process_docs('review_polarity/txt_sentoken/pos', vocab, is_train)\n",
    "    \n",
    "    docs = neg + pos\n",
    "    #prepare lables\n",
    "    labels = [0 for _ in range(len(neg))] + [1 for _ in range(len(pos))]\n",
    "    return docs, labels"
   ]
  },
  {
   "cell_type": "code",
   "execution_count": 15,
   "metadata": {},
   "outputs": [
    {
     "data": {
      "text/plain": [
       "(1810, 1810, 200, 200)"
      ]
     },
     "execution_count": 15,
     "metadata": {},
     "output_type": "execute_result"
    }
   ],
   "source": [
    "train, train_labels = load_clean_dataset(vocab, True)\n",
    "test, test_labels = load_clean_dataset(vocab, False)\n",
    "\n",
    "len(train), len(train_labels),len(test), len(test_labels)"
   ]
  },
  {
   "cell_type": "code",
   "execution_count": 16,
   "metadata": {},
   "outputs": [],
   "source": [
    "# integer encode and pad documents\n",
    "def encode_docs(tokenizer, max_length, docs):\n",
    "    # integer encode\n",
    "    encoded = tokenizer.texts_to_sequences(docs)\n",
    "    # pad sequences\n",
    "    padded = pad_sequences(encoded, maxlen=max_length, padding='post')"
   ]
  },
  {
   "cell_type": "code",
   "execution_count": 17,
   "metadata": {},
   "outputs": [],
   "source": [
    "# define the model\n",
    "def define_model(vocab_size,max_length):\n",
    "    # Define Network\n",
    "    model = Sequential()\n",
    "    model.add(Embedding(vocab_size,100,input_length=max_length))\n",
    "    model.add(Conv1D(filters=32,kernel_size=8,activation='relu'))\n",
    "    model.add(MaxPool1D(pool_size=2))\n",
    "    model.add(Flatten())\n",
    "    model.add(Dense(50,activation='relu'))\n",
    "    model.add(Dense(1,activation='sigmoid'))\n",
    "    # Compile Network\n",
    "    model.compile(loss='binary_crossentropy',optimizer='adam',metrics = ['accuracy'])\n",
    "\n",
    "    # summerize Defined Model\n",
    "    model.summary()\n",
    "    plot_model(model,to_file='model.png',show_shapes=True)\n",
    "    return model"
   ]
  },
  {
   "cell_type": "code",
   "execution_count": 18,
   "metadata": {},
   "outputs": [],
   "source": [
    "# pip install pydot graphviz"
   ]
  },
  {
   "cell_type": "code",
   "execution_count": 19,
   "metadata": {},
   "outputs": [],
   "source": [
    "# load the vocabulary\n",
    "vocab_filname = 'vocab.txt'\n",
    "vocab = load_doc(vocab_filname)\n",
    "vocab = set(vocab.split())"
   ]
  },
  {
   "cell_type": "code",
   "execution_count": 20,
   "metadata": {},
   "outputs": [],
   "source": [
    "# load all reviews\n",
    "train_docs, ytrain = load_clean_dataset(vocab, True)\n",
    "test_docs, ytest = load_clean_dataset(vocab, False)"
   ]
  },
  {
   "cell_type": "code",
   "execution_count": 21,
   "metadata": {},
   "outputs": [],
   "source": [
    "def create_tokenizer(lines):\n",
    "  tokenizer = Tokenizer()\n",
    "  tokenizer.fit_on_texts(lines)\n",
    "  return tokenizer"
   ]
  },
  {
   "cell_type": "code",
   "execution_count": 22,
   "metadata": {},
   "outputs": [],
   "source": [
    "# create the tokenizer\n",
    "tokenizer = create_tokenizer(train_docs) "
   ]
  },
  {
   "cell_type": "code",
   "execution_count": 23,
   "metadata": {},
   "outputs": [
    {
     "name": "stdout",
     "output_type": "stream",
     "text": [
      "Vocabulary size: 44277\n"
     ]
    }
   ],
   "source": [
    "# define vocabulary size\n",
    "vocab_size = len(tokenizer.word_index) + 1\n",
    "print('Vocabulary size: %d'% vocab_size)"
   ]
  },
  {
   "cell_type": "code",
   "execution_count": 24,
   "metadata": {},
   "outputs": [
    {
     "name": "stdout",
     "output_type": "stream",
     "text": [
      "Maximum length: 1380\n"
     ]
    }
   ],
   "source": [
    "# calculate the maximum sequence length\n",
    "max_length = max([len(s) for s in train_docs])\n",
    "print('Maximum length: %d' % max_length)"
   ]
  },
  {
   "cell_type": "code",
   "execution_count": 25,
   "metadata": {},
   "outputs": [
    {
     "data": {
      "text/plain": [
       "(1810, 44277)"
      ]
     },
     "execution_count": 25,
     "metadata": {},
     "output_type": "execute_result"
    }
   ],
   "source": [
    "# enocde data\n",
    "Xtrain = tokenizer.texts_to_matrix(train, mode = 'binary')\n",
    "Xtrain.shape"
   ]
  },
  {
   "cell_type": "code",
   "execution_count": 26,
   "metadata": {},
   "outputs": [
    {
     "data": {
      "text/plain": [
       "(200, 44277)"
      ]
     },
     "execution_count": 26,
     "metadata": {},
     "output_type": "execute_result"
    }
   ],
   "source": [
    "Xtest = tokenizer.texts_to_matrix(test, mode = 'binary')\n",
    "Xtest.shape"
   ]
  },
  {
   "cell_type": "code",
   "execution_count": 27,
   "metadata": {},
   "outputs": [
    {
     "name": "stdout",
     "output_type": "stream",
     "text": [
      "Model: \"sequential\"\n",
      "_________________________________________________________________\n",
      " Layer (type)                Output Shape              Param #   \n",
      "=================================================================\n",
      " embedding (Embedding)       (None, 1380, 100)         4427700   \n",
      "                                                                 \n",
      " conv1d (Conv1D)             (None, 1373, 32)          25632     \n",
      "                                                                 \n",
      " max_pooling1d (MaxPooling1  (None, 686, 32)           0         \n",
      " D)                                                              \n",
      "                                                                 \n",
      " flatten (Flatten)           (None, 21952)             0         \n",
      "                                                                 \n",
      " dense (Dense)               (None, 50)                1097650   \n",
      "                                                                 \n",
      " dense_1 (Dense)             (None, 1)                 51        \n",
      "                                                                 \n",
      "=================================================================\n",
      "Total params: 5551033 (21.18 MB)\n",
      "Trainable params: 5551033 (21.18 MB)\n",
      "Non-trainable params: 0 (0.00 Byte)\n",
      "_________________________________________________________________\n"
     ]
    },
    {
     "name": "stderr",
     "output_type": "stream",
     "text": [
      "2023-12-21 19:34:37.302169: I external/local_xla/xla/stream_executor/cuda/cuda_executor.cc:901] successful NUMA node read from SysFS had negative value (-1), but there must be at least one NUMA node, so returning NUMA node zero. See more at https://github.com/torvalds/linux/blob/v6.0/Documentation/ABI/testing/sysfs-bus-pci#L344-L355\n",
      "2023-12-21 19:34:37.388608: I external/local_xla/xla/stream_executor/cuda/cuda_executor.cc:901] successful NUMA node read from SysFS had negative value (-1), but there must be at least one NUMA node, so returning NUMA node zero. See more at https://github.com/torvalds/linux/blob/v6.0/Documentation/ABI/testing/sysfs-bus-pci#L344-L355\n",
      "2023-12-21 19:34:37.388954: I external/local_xla/xla/stream_executor/cuda/cuda_executor.cc:901] successful NUMA node read from SysFS had negative value (-1), but there must be at least one NUMA node, so returning NUMA node zero. See more at https://github.com/torvalds/linux/blob/v6.0/Documentation/ABI/testing/sysfs-bus-pci#L344-L355\n",
      "2023-12-21 19:34:37.390141: I external/local_xla/xla/stream_executor/cuda/cuda_executor.cc:901] successful NUMA node read from SysFS had negative value (-1), but there must be at least one NUMA node, so returning NUMA node zero. See more at https://github.com/torvalds/linux/blob/v6.0/Documentation/ABI/testing/sysfs-bus-pci#L344-L355\n",
      "2023-12-21 19:34:37.390305: I external/local_xla/xla/stream_executor/cuda/cuda_executor.cc:901] successful NUMA node read from SysFS had negative value (-1), but there must be at least one NUMA node, so returning NUMA node zero. See more at https://github.com/torvalds/linux/blob/v6.0/Documentation/ABI/testing/sysfs-bus-pci#L344-L355\n",
      "2023-12-21 19:34:37.390443: I external/local_xla/xla/stream_executor/cuda/cuda_executor.cc:901] successful NUMA node read from SysFS had negative value (-1), but there must be at least one NUMA node, so returning NUMA node zero. See more at https://github.com/torvalds/linux/blob/v6.0/Documentation/ABI/testing/sysfs-bus-pci#L344-L355\n",
      "2023-12-21 19:34:37.453352: I external/local_xla/xla/stream_executor/cuda/cuda_executor.cc:901] successful NUMA node read from SysFS had negative value (-1), but there must be at least one NUMA node, so returning NUMA node zero. See more at https://github.com/torvalds/linux/blob/v6.0/Documentation/ABI/testing/sysfs-bus-pci#L344-L355\n",
      "2023-12-21 19:34:37.453527: I external/local_xla/xla/stream_executor/cuda/cuda_executor.cc:901] successful NUMA node read from SysFS had negative value (-1), but there must be at least one NUMA node, so returning NUMA node zero. See more at https://github.com/torvalds/linux/blob/v6.0/Documentation/ABI/testing/sysfs-bus-pci#L344-L355\n",
      "2023-12-21 19:34:37.453695: I external/local_xla/xla/stream_executor/cuda/cuda_executor.cc:901] successful NUMA node read from SysFS had negative value (-1), but there must be at least one NUMA node, so returning NUMA node zero. See more at https://github.com/torvalds/linux/blob/v6.0/Documentation/ABI/testing/sysfs-bus-pci#L344-L355\n",
      "2023-12-21 19:34:37.453846: I tensorflow/core/common_runtime/gpu/gpu_device.cc:1929] Created device /job:localhost/replica:0/task:0/device:GPU:0 with 2798 MB memory:  -> device: 0, name: NVIDIA GeForce GTX 1650, pci bus id: 0000:01:00.0, compute capability: 7.5\n"
     ]
    },
    {
     "name": "stdout",
     "output_type": "stream",
     "text": [
      "Epoch 1/10\n"
     ]
    },
    {
     "ename": "ValueError",
     "evalue": "in user code:\n\n    File \"/home/user/anaconda3/envs/NLP/lib/python3.11/site-packages/keras/src/engine/training.py\", line 1401, in train_function  *\n        return step_function(self, iterator)\n    File \"/home/user/anaconda3/envs/NLP/lib/python3.11/site-packages/keras/src/engine/training.py\", line 1384, in step_function  **\n        outputs = model.distribute_strategy.run(run_step, args=(data,))\n    File \"/home/user/anaconda3/envs/NLP/lib/python3.11/site-packages/keras/src/engine/training.py\", line 1373, in run_step  **\n        outputs = model.train_step(data)\n    File \"/home/user/anaconda3/envs/NLP/lib/python3.11/site-packages/keras/src/engine/training.py\", line 1150, in train_step\n        y_pred = self(x, training=True)\n    File \"/home/user/anaconda3/envs/NLP/lib/python3.11/site-packages/keras/src/utils/traceback_utils.py\", line 70, in error_handler\n        raise e.with_traceback(filtered_tb) from None\n    File \"/home/user/anaconda3/envs/NLP/lib/python3.11/site-packages/keras/src/engine/input_spec.py\", line 298, in assert_input_compatibility\n        raise ValueError(\n\n    ValueError: Input 0 of layer \"sequential\" is incompatible with the layer: expected shape=(None, 1380), found shape=(10, 44277)\n",
     "output_type": "error",
     "traceback": [
      "\u001b[0;31m---------------------------------------------------------------------------\u001b[0m",
      "\u001b[0;31mValueError\u001b[0m                                Traceback (most recent call last)",
      "Cell \u001b[0;32mIn[27], line 4\u001b[0m\n\u001b[1;32m      2\u001b[0m model \u001b[38;5;241m=\u001b[39m define_model(vocab_size, max_length)\n\u001b[1;32m      3\u001b[0m \u001b[38;5;66;03m# fit network\u001b[39;00m\n\u001b[0;32m----> 4\u001b[0m \u001b[43mmodel\u001b[49m\u001b[38;5;241;43m.\u001b[39;49m\u001b[43mfit\u001b[49m\u001b[43m(\u001b[49m\u001b[43mXtrain\u001b[49m\u001b[43m,\u001b[49m\u001b[43m \u001b[49m\u001b[43mnp\u001b[49m\u001b[38;5;241;43m.\u001b[39;49m\u001b[43marray\u001b[49m\u001b[43m(\u001b[49m\u001b[43mytrain\u001b[49m\u001b[43m)\u001b[49m\u001b[43m,\u001b[49m\u001b[43m \u001b[49m\u001b[43mepochs\u001b[49m\u001b[38;5;241;43m=\u001b[39;49m\u001b[38;5;241;43m10\u001b[39;49m\u001b[43m,\u001b[49m\u001b[43m \u001b[49m\u001b[43mbatch_size\u001b[49m\u001b[38;5;241;43m=\u001b[39;49m\u001b[38;5;241;43m10\u001b[39;49m\u001b[43m)\u001b[49m\n",
      "File \u001b[0;32m~/anaconda3/envs/NLP/lib/python3.11/site-packages/keras/src/utils/traceback_utils.py:70\u001b[0m, in \u001b[0;36mfilter_traceback.<locals>.error_handler\u001b[0;34m(*args, **kwargs)\u001b[0m\n\u001b[1;32m     67\u001b[0m     filtered_tb \u001b[38;5;241m=\u001b[39m _process_traceback_frames(e\u001b[38;5;241m.\u001b[39m__traceback__)\n\u001b[1;32m     68\u001b[0m     \u001b[38;5;66;03m# To get the full stack trace, call:\u001b[39;00m\n\u001b[1;32m     69\u001b[0m     \u001b[38;5;66;03m# `tf.debugging.disable_traceback_filtering()`\u001b[39;00m\n\u001b[0;32m---> 70\u001b[0m     \u001b[38;5;28;01mraise\u001b[39;00m e\u001b[38;5;241m.\u001b[39mwith_traceback(filtered_tb) \u001b[38;5;28;01mfrom\u001b[39;00m \u001b[38;5;28;01mNone\u001b[39;00m\n\u001b[1;32m     71\u001b[0m \u001b[38;5;28;01mfinally\u001b[39;00m:\n\u001b[1;32m     72\u001b[0m     \u001b[38;5;28;01mdel\u001b[39;00m filtered_tb\n",
      "File \u001b[0;32m/tmp/__autograph_generated_fileudkdw_uz.py:15\u001b[0m, in \u001b[0;36mouter_factory.<locals>.inner_factory.<locals>.tf__train_function\u001b[0;34m(iterator)\u001b[0m\n\u001b[1;32m     13\u001b[0m \u001b[38;5;28;01mtry\u001b[39;00m:\n\u001b[1;32m     14\u001b[0m     do_return \u001b[38;5;241m=\u001b[39m \u001b[38;5;28;01mTrue\u001b[39;00m\n\u001b[0;32m---> 15\u001b[0m     retval_ \u001b[38;5;241m=\u001b[39m ag__\u001b[38;5;241m.\u001b[39mconverted_call(ag__\u001b[38;5;241m.\u001b[39mld(step_function), (ag__\u001b[38;5;241m.\u001b[39mld(\u001b[38;5;28mself\u001b[39m), ag__\u001b[38;5;241m.\u001b[39mld(iterator)), \u001b[38;5;28;01mNone\u001b[39;00m, fscope)\n\u001b[1;32m     16\u001b[0m \u001b[38;5;28;01mexcept\u001b[39;00m:\n\u001b[1;32m     17\u001b[0m     do_return \u001b[38;5;241m=\u001b[39m \u001b[38;5;28;01mFalse\u001b[39;00m\n",
      "\u001b[0;31mValueError\u001b[0m: in user code:\n\n    File \"/home/user/anaconda3/envs/NLP/lib/python3.11/site-packages/keras/src/engine/training.py\", line 1401, in train_function  *\n        return step_function(self, iterator)\n    File \"/home/user/anaconda3/envs/NLP/lib/python3.11/site-packages/keras/src/engine/training.py\", line 1384, in step_function  **\n        outputs = model.distribute_strategy.run(run_step, args=(data,))\n    File \"/home/user/anaconda3/envs/NLP/lib/python3.11/site-packages/keras/src/engine/training.py\", line 1373, in run_step  **\n        outputs = model.train_step(data)\n    File \"/home/user/anaconda3/envs/NLP/lib/python3.11/site-packages/keras/src/engine/training.py\", line 1150, in train_step\n        y_pred = self(x, training=True)\n    File \"/home/user/anaconda3/envs/NLP/lib/python3.11/site-packages/keras/src/utils/traceback_utils.py\", line 70, in error_handler\n        raise e.with_traceback(filtered_tb) from None\n    File \"/home/user/anaconda3/envs/NLP/lib/python3.11/site-packages/keras/src/engine/input_spec.py\", line 298, in assert_input_compatibility\n        raise ValueError(\n\n    ValueError: Input 0 of layer \"sequential\" is incompatible with the layer: expected shape=(None, 1380), found shape=(10, 44277)\n"
     ]
    }
   ],
   "source": [
    "# define model\n",
    "model = define_model(vocab_size, max_length)\n",
    "# fit network\n",
    "model.fit(Xtrain, np.array(ytrain), epochs=10, batch_size=10)"
   ]
  },
  {
   "cell_type": "code",
   "execution_count": null,
   "metadata": {},
   "outputs": [
    {
     "data": {
      "text/plain": [
       "defaultdict(int,\n",
       "            {'guess': 174,\n",
       "             'dating': 30,\n",
       "             'nice': 231,\n",
       "             'character': 922,\n",
       "             'expecting': 64,\n",
       "             'always': 388,\n",
       "             'insecurities': 8,\n",
       "             'upper': 27,\n",
       "             'nearly': 238,\n",
       "             'presumably': 28,\n",
       "             'relationship': 248,\n",
       "             'decide': 103,\n",
       "             'wrong': 273,\n",
       "             'happen': 171,\n",
       "             'occasionally': 100,\n",
       "             'somebodys': 2,\n",
       "             'deeper': 46,\n",
       "             'never': 757,\n",
       "             'relate': 34,\n",
       "             'inlaws': 2,\n",
       "             'relating': 12,\n",
       "             'asked': 80,\n",
       "             'turned': 156,\n",
       "             'hit': 204,\n",
       "             'possibly': 104,\n",
       "             'political': 82,\n",
       "             'dina': 11,\n",
       "             'situation': 135,\n",
       "             'work': 644,\n",
       "             'role': 555,\n",
       "             'suddenly': 117,\n",
       "             'contributes': 15,\n",
       "             'little': 831,\n",
       "             'husband': 135,\n",
       "             'dumfounded': 1,\n",
       "             'laws': 19,\n",
       "             'nebbish': 4,\n",
       "             'onedown': 1,\n",
       "             'fatherinlaw': 5,\n",
       "             'beginning': 213,\n",
       "             'human': 260,\n",
       "             'jim': 105,\n",
       "             'airline': 7,\n",
       "             'herzfeld': 2,\n",
       "             'conspires': 4,\n",
       "             'marriage': 59,\n",
       "             'stiller': 19,\n",
       "             'teri': 10,\n",
       "             'deniro': 10,\n",
       "             'uneven': 28,\n",
       "             'overly': 55,\n",
       "             'assured': 22,\n",
       "             'propose': 4,\n",
       "             'really': 783,\n",
       "             'bad': 688,\n",
       "             'help': 384,\n",
       "             'ask': 116,\n",
       "             'pam': 20,\n",
       "             'stretching': 9,\n",
       "             'lot': 458,\n",
       "             'oneupmanship': 2,\n",
       "             'certainly': 277,\n",
       "             'fact': 525,\n",
       "             'wound': 17,\n",
       "             'conflict': 66,\n",
       "             'awkwardly': 13,\n",
       "             'face': 237,\n",
       "             'done': 325,\n",
       "             'question': 219,\n",
       "             'mind': 310,\n",
       "             'randy': 32,\n",
       "             'jack': 128,\n",
       "             'creative': 64,\n",
       "             'unexpected': 49,\n",
       "             'ben': 97,\n",
       "             'everything': 352,\n",
       "             'danner': 6,\n",
       "             'potential': 139,\n",
       "             'films': 944,\n",
       "             'scale': 43,\n",
       "             'families': 32,\n",
       "             'digging': 11,\n",
       "             'contrived': 66,\n",
       "             'presence': 148,\n",
       "             'prospective': 8,\n",
       "             'feels': 176,\n",
       "             'sort': 214,\n",
       "             'least': 487,\n",
       "             'guide': 23,\n",
       "             'tale': 164,\n",
       "             'playful': 15,\n",
       "             'sequences': 224,\n",
       "             'seconds': 58,\n",
       "             'well': 901,\n",
       "             'much': 1013,\n",
       "             'played': 499,\n",
       "             'fault': 58,\n",
       "             'hamburg': 1,\n",
       "             'show': 414,\n",
       "             'popular': 145,\n",
       "             'way': 916,\n",
       "             'playing': 264,\n",
       "             'weekend': 47,\n",
       "             'rate': 62,\n",
       "             'trying': 396,\n",
       "             'class': 110,\n",
       "             'judgmental': 1,\n",
       "             'would': 1001,\n",
       "             'music': 276,\n",
       "             'digs': 8,\n",
       "             'new': 688,\n",
       "             'basis': 49,\n",
       "             'heard': 130,\n",
       "             'america': 119,\n",
       "             'luggage': 6,\n",
       "             'greg': 31,\n",
       "             'visit': 62,\n",
       "             'things': 531,\n",
       "             'deniros': 4,\n",
       "             'score': 151,\n",
       "             'wives': 11,\n",
       "             'joined': 25,\n",
       "             'uncomfortable': 29,\n",
       "             'family': 314,\n",
       "             'first': 922,\n",
       "             'something': 650,\n",
       "             'affable': 10,\n",
       "             'lifes': 10,\n",
       "             'china': 31,\n",
       "             'game': 180,\n",
       "             'simply': 303,\n",
       "             'arise': 17,\n",
       "             'meet': 161,\n",
       "             'sisters': 29,\n",
       "             'last': 531,\n",
       "             'awkward': 41,\n",
       "             'attend': 15,\n",
       "             'even': 1163,\n",
       "             'true': 282,\n",
       "             'demonstrate': 18,\n",
       "             'go': 652,\n",
       "             'unlucky': 4,\n",
       "             'months': 80,\n",
       "             'certain': 158,\n",
       "             'comedy': 451,\n",
       "             'ready': 93,\n",
       "             'film': 1562,\n",
       "             'comment': 27,\n",
       "             'wedding': 66,\n",
       "             'given': 366,\n",
       "             'difficult': 160,\n",
       "             'artificially': 8,\n",
       "             'instead': 418,\n",
       "             'secrets': 25,\n",
       "             'reason': 323,\n",
       "             'part': 474,\n",
       "             'may': 526,\n",
       "             'familiarone': 1,\n",
       "             'see': 877,\n",
       "             'listens': 11,\n",
       "             'problems': 212,\n",
       "             'threatening': 45,\n",
       "             'byrnes': 5,\n",
       "             'along': 399,\n",
       "             'questions': 121,\n",
       "             'fascistic': 1,\n",
       "             'tables': 21,\n",
       "             'tightly': 14,\n",
       "             'right': 528,\n",
       "             'suspicious': 33,\n",
       "             'perhaps': 336,\n",
       "             'coincidences': 10,\n",
       "             'focker': 1,\n",
       "             'relationships': 62,\n",
       "             'national': 44,\n",
       "             'mothersinlaw': 1,\n",
       "             'humor': 261,\n",
       "             'understand': 142,\n",
       "             'nature': 139,\n",
       "             'decency': 11,\n",
       "             'incompetent': 17,\n",
       "             'find': 512,\n",
       "             'polo': 2,\n",
       "             'story': 953,\n",
       "             'man': 684,\n",
       "             'blythe': 6,\n",
       "             'borrow': 9,\n",
       "             'script': 490,\n",
       "             'mistakes': 24,\n",
       "             'john': 424,\n",
       "             'gregs': 2,\n",
       "             'get': 979,\n",
       "             'favorable': 4,\n",
       "             'viceversa': 2,\n",
       "             'people': 760,\n",
       "             'games': 49,\n",
       "             'frequently': 60,\n",
       "             'strong': 195,\n",
       "             'written': 274,\n",
       "             'expressions': 28,\n",
       "             'many': 705,\n",
       "             'newman': 18,\n",
       "             'father': 274,\n",
       "             'works': 283,\n",
       "             'mix': 68,\n",
       "             'screen': 458,\n",
       "             'slapstick': 48,\n",
       "             'getting': 304,\n",
       "             'could': 785,\n",
       "             'imagination': 61,\n",
       "             'main': 302,\n",
       "             'ten': 122,\n",
       "             'uneasy': 12,\n",
       "             'audience': 554,\n",
       "             'subjective': 9,\n",
       "             'lost': 261,\n",
       "             'debbies': 1,\n",
       "             'clothing': 24,\n",
       "             'seem': 400,\n",
       "             'however': 581,\n",
       "             'love': 571,\n",
       "             'robert': 170,\n",
       "             'source': 52,\n",
       "             'discover': 92,\n",
       "             'plays': 528,\n",
       "             'makes': 645,\n",
       "             'league': 30,\n",
       "             'basic': 99,\n",
       "             'performance': 538,\n",
       "             'parents': 135,\n",
       "             'climax': 101,\n",
       "             'one': 1567,\n",
       "             'indecent': 4,\n",
       "             'protege': 3,\n",
       "             'flat': 106,\n",
       "             'impression': 73,\n",
       "             'consciousness': 8,\n",
       "             'tone': 112,\n",
       "             'fight': 190,\n",
       "             'fashion': 80,\n",
       "             'filmmakers': 156,\n",
       "             'lavatorial': 1,\n",
       "             'anyone': 327,\n",
       "             'publicity': 17,\n",
       "             'reappears': 7,\n",
       "             'terminally': 13,\n",
       "             'blend': 23,\n",
       "             'vehicle': 55,\n",
       "             'hes': 549,\n",
       "             'useless': 23,\n",
       "             'thats': 493,\n",
       "             'claim': 24,\n",
       "             'somebody': 32,\n",
       "             'park': 84,\n",
       "             'bowler': 10,\n",
       "             'acting': 470,\n",
       "             'modern': 111,\n",
       "             'tries': 282,\n",
       "             'beard': 12,\n",
       "             'pausing': 2,\n",
       "             'hmm': 6,\n",
       "             'sentimental': 31,\n",
       "             'give': 409,\n",
       "             'direction': 238,\n",
       "             'shifting': 11,\n",
       "             'reno': 14,\n",
       "             'amateur': 11,\n",
       "             'bring': 185,\n",
       "             'years': 612,\n",
       "             'kitsch': 2,\n",
       "             'movie': 1380,\n",
       "             'rather': 431,\n",
       "             'wait': 112,\n",
       "             'forward': 69,\n",
       "             'opens': 146,\n",
       "             'wear': 44,\n",
       "             'woody': 62,\n",
       "             'strictly': 32,\n",
       "             'friend': 268,\n",
       "             'soundtrack': 115,\n",
       "             'shameless': 11,\n",
       "             'bland': 76,\n",
       "             'wry': 11,\n",
       "             'humour': 55,\n",
       "             'place': 433,\n",
       "             'derisive': 3,\n",
       "             'renaissance': 7,\n",
       "             'together': 388,\n",
       "             'unfocused': 7,\n",
       "             'throwing': 41,\n",
       "             'arent': 203,\n",
       "             'roys': 3,\n",
       "             'old': 472,\n",
       "             'kickstarting': 1,\n",
       "             'slimy': 18,\n",
       "             'proponents': 2,\n",
       "             'fair': 83,\n",
       "             'striptease': 4,\n",
       "             'mascara': 2,\n",
       "             'dollar': 41,\n",
       "             'shame': 87,\n",
       "             'enough': 598,\n",
       "             'prepare': 12,\n",
       "             'rating': 107,\n",
       "             'glass': 27,\n",
       "             'cheap': 102,\n",
       "             'bill': 107,\n",
       "             'dumb': 105,\n",
       "             'smoking': 30,\n",
       "             'sense': 373,\n",
       "             'set': 399,\n",
       "             'full': 236,\n",
       "             'dupes': 1,\n",
       "             'rubber': 16,\n",
       "             'mainstream': 40,\n",
       "             'ridiculous': 113,\n",
       "             'ern': 1,\n",
       "             'hams': 6,\n",
       "             'staying': 36,\n",
       "             'nothing': 524,\n",
       "             'hope': 197,\n",
       "             'grip': 16,\n",
       "             'invigorating': 7,\n",
       "             'seems': 623,\n",
       "             'rose': 39,\n",
       "             'prosthetic': 1,\n",
       "             'picking': 19,\n",
       "             'comes': 527,\n",
       "             'mcracken': 1,\n",
       "             'otherwise': 124,\n",
       "             'quarter': 14,\n",
       "             'flying': 67,\n",
       "             'halfthoughtthrough': 1,\n",
       "             'hand': 248,\n",
       "             'guy': 362,\n",
       "             'tv': 204,\n",
       "             'fast': 110,\n",
       "             'rise': 54,\n",
       "             'edge': 76,\n",
       "             'actually': 533,\n",
       "             'bumbles': 2,\n",
       "             'proceedings': 51,\n",
       "             'harrelson': 21,\n",
       "             'oldfashioned': 18,\n",
       "             'takes': 479,\n",
       "             'hands': 123,\n",
       "             'semen': 3,\n",
       "             'stink': 5,\n",
       "             'gaffer': 1,\n",
       "             'yes': 196,\n",
       "             'bowling': 17,\n",
       "             'broadside': 1,\n",
       "             'video': 199,\n",
       "             'amish': 3,\n",
       "             'waters': 21,\n",
       "             'lounge': 17,\n",
       "             'plugs': 7,\n",
       "             'nohoper': 1,\n",
       "             'theres': 568,\n",
       "             'lurches': 3,\n",
       "             'bits': 40,\n",
       "             'tournament': 5,\n",
       "             'jokes': 156,\n",
       "             'science': 102,\n",
       "             'gags': 73,\n",
       "             'wouldnt': 157,\n",
       "             'roy': 11,\n",
       "             'weird': 69,\n",
       "             'ideas': 108,\n",
       "             'material': 184,\n",
       "             'ball': 44,\n",
       "             'implausible': 21,\n",
       "             'convincing': 106,\n",
       "             'connoisseurs': 3,\n",
       "             'exit': 16,\n",
       "             'random': 36,\n",
       "             'perfection': 39,\n",
       "             'loser': 32,\n",
       "             'according': 45,\n",
       "             'munson': 2,\n",
       "             'job': 377,\n",
       "             'delectably': 1,\n",
       "             'dont': 712,\n",
       "             'vanessa': 12,\n",
       "             'anything': 456,\n",
       "             'long': 534,\n",
       "             'directors': 129,\n",
       "             'fever': 12,\n",
       "             'twice': 80,\n",
       "             'spoof': 26,\n",
       "             'roadtrip': 1,\n",
       "             'hilarious': 160,\n",
       "             'reinspired': 1,\n",
       "             'either': 296,\n",
       "             'big': 549,\n",
       "             'ishmael': 2,\n",
       "             'fat': 44,\n",
       "             'scoopfuls': 1,\n",
       "             'murray': 25,\n",
       "             'geek': 20,\n",
       "             'quaid': 23,\n",
       "             'minutes': 430,\n",
       "             'like': 1327,\n",
       "             'ham': 6,\n",
       "             'look': 545,\n",
       "             'thanks': 98,\n",
       "             'laughs': 163,\n",
       "             'actors': 475,\n",
       "             'accompanying': 12,\n",
       "             'doubt': 140,\n",
       "             'night': 280,\n",
       "             'american': 292,\n",
       "             'smart': 121,\n",
       "             'angry': 58,\n",
       "             'wisdom': 29,\n",
       "             'take': 601,\n",
       "             'hotshot': 20,\n",
       "             'restore': 14,\n",
       "             'tackyana': 1,\n",
       "             'mccracken': 2,\n",
       "             'pop': 80,\n",
       "             'amazing': 132,\n",
       "             'fairly': 110,\n",
       "             'rightful': 5,\n",
       "             'evercontrary': 1,\n",
       "             'cheesy': 55,\n",
       "             'saturday': 44,\n",
       "             'home': 367,\n",
       "             'system': 81,\n",
       "             'another': 709,\n",
       "             'unhip': 4,\n",
       "             'talent': 175,\n",
       "             'without': 491,\n",
       "             'amishmocking': 1,\n",
       "             'pieces': 77,\n",
       "             'puts': 110,\n",
       "             'quite': 422,\n",
       "             'neighboursocking': 1,\n",
       "             'okay': 98,\n",
       "             'computercreation': 1,\n",
       "             'hustling': 4,\n",
       "             'calls': 85,\n",
       "             'brought': 125,\n",
       "             'taste': 50,\n",
       "             'fishoutofwater': 5,\n",
       "             'bull': 12,\n",
       "             'movies': 731,\n",
       "             'abandons': 9,\n",
       "             'lack': 188,\n",
       "             'certified': 4,\n",
       "             'mangle': 3,\n",
       "             'later': 301,\n",
       "             'plausibly': 1,\n",
       "             'definitive': 11,\n",
       "             'fifties': 6,\n",
       "             'good': 1038,\n",
       "             'two': 933,\n",
       "             'dishing': 1,\n",
       "             'might': 446,\n",
       "             'drive': 72,\n",
       "             'schwarzenegger': 28,\n",
       "             'carrey': 33,\n",
       "             'nipples': 5,\n",
       "             'potent': 22,\n",
       "             'series': 283,\n",
       "             'community': 53,\n",
       "             'angel': 31,\n",
       "             'fall': 195,\n",
       "             'exudes': 9,\n",
       "             'better': 605,\n",
       "             'pretty': 357,\n",
       "             'cynical': 33,\n",
       "             'readers': 14,\n",
       "             'sports': 39,\n",
       "             'latch': 5,\n",
       "             'kids': 202,\n",
       "             'situations': 109,\n",
       "             'gives': 346,\n",
       "             'unchristian': 1,\n",
       "             'hair': 87,\n",
       "             'unfunny': 72,\n",
       "             'hopeless': 12,\n",
       "             'buildup': 16,\n",
       "             'million': 123,\n",
       "             'stale': 31,\n",
       "             'bastion': 1,\n",
       "             'know': 678,\n",
       "             'bobby': 25,\n",
       "             'dumber': 18,\n",
       "             'car': 202,\n",
       "             'melodrama': 26,\n",
       "             'makeup': 51,\n",
       "             'ceaseless': 2,\n",
       "             'trouble': 127,\n",
       "             'stock': 50,\n",
       "             'indeed': 115,\n",
       "             'proposal': 8,\n",
       "             'sardonic': 4,\n",
       "             'innocent': 80,\n",
       "             'cityboy': 1,\n",
       "             'bold': 22,\n",
       "             'meets': 166,\n",
       "             'artist': 63,\n",
       "             'creaky': 15,\n",
       "             'claudia': 5,\n",
       "             'please': 83,\n",
       "             'stuff': 164,\n",
       "             'peter': 174,\n",
       "             'hustler': 9,\n",
       "             'attempt': 197,\n",
       "             'saying': 139,\n",
       "             'seventies': 12,\n",
       "             'mob': 40,\n",
       "             'nineties': 11,\n",
       "             'gotcha': 14,\n",
       "             'enhanced': 19,\n",
       "             'dad': 60,\n",
       "             'distended': 1,\n",
       "             'farrelly': 12,\n",
       "             'favours': 1,\n",
       "             'slaparound': 1,\n",
       "             'inkpots': 6,\n",
       "             'aforementioned': 49,\n",
       "             'straitlaced': 1,\n",
       "             'balding': 2,\n",
       "             'share': 93,\n",
       "             'still': 629,\n",
       "             'promises': 30,\n",
       "             'digestgumpian': 1,\n",
       "             'kingpin': 14,\n",
       "             'funny': 445,\n",
       "             'chic': 5,\n",
       "             'smell': 12,\n",
       "             'laxative': 1,\n",
       "             'suaku': 1,\n",
       "             'unimaginative': 12,\n",
       "             'drinking': 34,\n",
       "             'break': 133,\n",
       "             'bereft': 5,\n",
       "             'sequence': 245,\n",
       "             'prostitute': 24,\n",
       "             'tattoos': 7,\n",
       "             'cycling': 1,\n",
       "             'pit': 4,\n",
       "             'painful': 49,\n",
       "             'wellplaced': 2,\n",
       "             'voice': 147,\n",
       "             'send': 60,\n",
       "             'dimly': 2,\n",
       "             'whose': 322,\n",
       "             'nifty': 28,\n",
       "             'constantly': 121,\n",
       "             'dweebish': 1,\n",
       "             'runs': 167,\n",
       "             'related': 32,\n",
       "             'suspects': 54,\n",
       "             'molded': 6,\n",
       "             'truth': 108,\n",
       "             'menacing': 27,\n",
       "             'quickly': 192,\n",
       "             'cycles': 2,\n",
       "             'starves': 1,\n",
       "             'died': 65,\n",
       "             'slab': 1,\n",
       "             'uses': 151,\n",
       "             'adjuster': 2,\n",
       "             'indicative': 3,\n",
       "             'means': 146,\n",
       "             'talk': 165,\n",
       "             'roles': 218,\n",
       "             'kind': 368,\n",
       "             'begins': 290,\n",
       "             'include': 95,\n",
       "             'joy': 55,\n",
       "             'jacks': 13,\n",
       "             'partner': 76,\n",
       "             'antihero': 5,\n",
       "             'devoid': 17,\n",
       "             'police': 170,\n",
       "             'feel': 344,\n",
       "             'sylvester': 19,\n",
       "             'name': 284,\n",
       "             'downcast': 1,\n",
       "             'porn': 30,\n",
       "             'flustered': 3,\n",
       "             'thriller': 174,\n",
       "             'tangential': 3,\n",
       "             'words': 167,\n",
       "             'us': 590,\n",
       "             'financial': 22,\n",
       "             'brothers': 119,\n",
       "             'lit': 15,\n",
       "             'offers': 114,\n",
       "             'make': 903,\n",
       "             'business': 138,\n",
       "             'onedimensional': 36,\n",
       "             'previous': 141,\n",
       "             'retrieve': 19,\n",
       "             'moments': 317,\n",
       "             'selfdescribed': 1,\n",
       "             'amounts': 30,\n",
       "             'heavy': 89,\n",
       "             'thugs': 20,\n",
       "             'overcast': 1,\n",
       "             'expect': 166,\n",
       "             'carters': 11,\n",
       "             'youre': 248,\n",
       "             'rainy': 6,\n",
       "             'progress': 28,\n",
       "             'stallone': 22,\n",
       "             'time': 1106,\n",
       "             'circle': 20,\n",
       "             'modus': 2,\n",
       "             'pokes': 7,\n",
       "             'tiring': 6,\n",
       "             'attribute': 3,\n",
       "             'alleys': 4,\n",
       "             'action': 495,\n",
       "             'launches': 3,\n",
       "             'guys': 202,\n",
       "             'tough': 76,\n",
       "             'website': 11,\n",
       "             'gloomy': 14,\n",
       "             'investigation': 41,\n",
       "             'clever': 138,\n",
       "             'watch': 413,\n",
       "             'seen': 566,\n",
       "             'learn': 142,\n",
       "             'generate': 19,\n",
       "             'several': 303,\n",
       "             'weather': 9,\n",
       "             'brooding': 15,\n",
       "             'personality': 90,\n",
       "             'final': 259,\n",
       "             'looking': 303,\n",
       "             'speaks': 42,\n",
       "             'hard': 352,\n",
       "             'shallow': 68,\n",
       "             'owner': 72,\n",
       "             'plot': 777,\n",
       "             'also': 965,\n",
       "             'clues': 28,\n",
       "             'explaining': 38,\n",
       "             'advice': 50,\n",
       "             'needless': 29,\n",
       "             'lead': 201,\n",
       "             'shady': 22,\n",
       "             'exercise': 50,\n",
       "             'put': 326,\n",
       "             'hapless': 29,\n",
       "             'act': 209,\n",
       "             'remember': 159,\n",
       "             'operandi': 2,\n",
       "             'characters': 906,\n",
       "             'body': 195,\n",
       "             'dispense': 1,\n",
       "             'perpetually': 22,\n",
       "             'come': 532,\n",
       "             'says': 191,\n",
       "             'emotion': 66,\n",
       "             'result': 188,\n",
       "             'epiphanies': 2,\n",
       "             'hushed': 3,\n",
       "             'gates': 13,\n",
       "             'stone': 69,\n",
       "             'meanwhile': 111,\n",
       "             'believing': 24,\n",
       "             'death': 275,\n",
       "             'accident': 72,\n",
       "             'gets': 591,\n",
       "             'toughguy': 3,\n",
       "             'impossible': 125,\n",
       "             'needs': 180,\n",
       "             'carrying': 36,\n",
       "             'yet': 423,\n",
       "             'taken': 181,\n",
       "             'alone': 168,\n",
       "             'charisma': 41,\n",
       "             'knows': 221,\n",
       "             'shots': 140,\n",
       "             'hassle': 1,\n",
       "             'brother': 139,\n",
       "             'times': 411,\n",
       "             'want': 397,\n",
       "             'oily': 3,\n",
       "             'pace': 89,\n",
       "             'atmosphere': 113,\n",
       "             'terrace': 3,\n",
       "             'muscle': 10,\n",
       "             'sleuthing': 3,\n",
       "             'numb': 6,\n",
       "             'oddly': 50,\n",
       "             'carter': 44,\n",
       "             'justice': 51,\n",
       "             'around': 603,\n",
       "             'fails': 117,\n",
       "             'deed': 10,\n",
       "             'chase': 107,\n",
       "             'duties': 12,\n",
       "             'chiseled': 5,\n",
       "             'excitement': 46,\n",
       "             'lowlife': 7,\n",
       "             'thrown': 95,\n",
       "             'leaving': 146,\n",
       "             'brains': 28,\n",
       "             'millionaire': 32,\n",
       "             'weathered': 1,\n",
       "             'pedestrian': 12,\n",
       "             'intimidation': 2,\n",
       "             'brawn': 4,\n",
       "             'stirred': 4,\n",
       "             'almost': 525,\n",
       "             'rewarding': 12,\n",
       "             'thug': 9,\n",
       "             'rooms': 31,\n",
       "             'vegas': 48,\n",
       "             'dark': 196,\n",
       "             'admittedly': 33,\n",
       "             'ties': 25,\n",
       "             'tanks': 5,\n",
       "             'fairies': 1,\n",
       "             'nazi': 16,\n",
       "             'example': 237,\n",
       "             'note': 188,\n",
       "             'twodimensional': 7,\n",
       "             'absolutely': 149,\n",
       "             'feature': 159,\n",
       "             'sappy': 26,\n",
       "             'child': 160,\n",
       "             'acted': 57,\n",
       "             'shocking': 54,\n",
       "             'inhabitants': 15,\n",
       "             'atrocities': 6,\n",
       "             'treatment': 40,\n",
       "             'probably': 375,\n",
       "             'counterparts': 15,\n",
       "             'meant': 75,\n",
       "             'destroyed': 42,\n",
       "             'subject': 124,\n",
       "             'light': 149,\n",
       "             'begin': 160,\n",
       "             'contain': 36,\n",
       "             'detracting': 1,\n",
       "             'id': 138,\n",
       "             'promised': 26,\n",
       "             'occur': 49,\n",
       "             'fights': 47,\n",
       "             'embracing': 3,\n",
       "             'dug': 11,\n",
       "             'black': 261,\n",
       "             'hitler': 6,\n",
       "             'humanity': 56,\n",
       "             'battle': 137,\n",
       "             'thought': 283,\n",
       "             'yup': 10,\n",
       "             'wizards': 1,\n",
       "             'scene': 713,\n",
       "             'inspires': 14,\n",
       "             'happened': 136,\n",
       "             'battles': 32,\n",
       "             'fantasy': 69,\n",
       "             'movement': 28,\n",
       "             'technology': 53,\n",
       "             'levity': 7,\n",
       "             'dead': 249,\n",
       "             'line': 300,\n",
       "             'cant': 442,\n",
       "             'head': 263,\n",
       "             'exactly': 240,\n",
       "             'honk': 1,\n",
       "             'nonchalantly': 4,\n",
       "             'epic': 62,\n",
       "             'third': 143,\n",
       "             'hack': 20,\n",
       "             'message': 99,\n",
       "             'sideline': 1,\n",
       "             'minions': 6,\n",
       "             'dramatics': 9,\n",
       "             'weapons': 42,\n",
       "             'advance': 22,\n",
       "             'move': 142,\n",
       "             'narration': 40,\n",
       "             'assume': 39,\n",
       "             'biggest': 127,\n",
       "             'maybe': 245,\n",
       "             'staged': 34,\n",
       "             'twins': 16,\n",
       "             'giving': 167,\n",
       "             'exchange': 39,\n",
       "             'acts': 61,\n",
       "             'anticlimactic': 15,\n",
       "             'reich': 4,\n",
       "             'seemingly': 102,\n",
       "             'proportions': 21,\n",
       "             'world': 516,\n",
       "             'mutation': 5,\n",
       "             'weapon': 44,\n",
       "             'distracted': 17,\n",
       "             'interested': 97,\n",
       "             'drawings': 3,\n",
       "             'bashed': 4,\n",
       "             'luftwaffe': 2,\n",
       "             'point': 438,\n",
       "             'entirely': 102,\n",
       "             'matter': 234,\n",
       "             'projected': 10,\n",
       "             'earth': 145,\n",
       "             'since': 509,\n",
       "             'somewhat': 154,\n",
       "             'globe': 17,\n",
       "             'value': 59,\n",
       "             'enemy': 42,\n",
       "             'blackwolf': 1,\n",
       "             'soon': 293,\n",
       "             'im': 370,\n",
       "             'return': 141,\n",
       "             'populate': 6,\n",
       "             'ive': 264,\n",
       "             'transition': 17,\n",
       "             'submission': 2,\n",
       "             'scenes': 699,\n",
       "             'morning': 59,\n",
       "             'deep': 152,\n",
       "             'told': 167,\n",
       "             'considered': 79,\n",
       "             'vigilant': 2,\n",
       "             'dispirited': 1,\n",
       "             'drove': 5,\n",
       "             'utilizing': 14,\n",
       "             'using': 156,\n",
       "             'enjoyment': 30,\n",
       "             'speeches': 15,\n",
       "             'secret': 136,\n",
       "             'need': 236,\n",
       "             'must': 443,\n",
       "             'seeing': 259,\n",
       "             'avatar': 1,\n",
       "             'thoroughly': 62,\n",
       "             'violence': 195,\n",
       "             'archival': 3,\n",
       "             'fairy': 25,\n",
       "             'adults': 65,\n",
       "             'airplanes': 6,\n",
       "             'needed': 88,\n",
       "             'real': 541,\n",
       "             'army': 68,\n",
       "             'ever': 502,\n",
       "             'saga': 20,\n",
       "             'anywhere': 49,\n",
       "             'animated': 71,\n",
       "             'expectation': 10,\n",
       "             'ultimate': 65,\n",
       "             'cursory': 3,\n",
       "             'remnants': 3,\n",
       "             'bakshi': 2,\n",
       "             'disappointing': 74,\n",
       "             'propaganda': 12,\n",
       "             'trite': 37,\n",
       "             'premise': 164,\n",
       "             'viewer': 139,\n",
       "             'animation': 61,\n",
       "             'formidable': 7,\n",
       "             'seriously': 135,\n",
       "             'back': 641,\n",
       "             'decent': 129,\n",
       "             'care': 236,\n",
       "             'settle': 34,\n",
       "             'particular': 122,\n",
       "             'adolf': 1,\n",
       "             'grow': 54,\n",
       "             'credit': 114,\n",
       "             'color': 69,\n",
       "             'dialog': 38,\n",
       "             'explanation': 51,\n",
       "             'elves': 3,\n",
       "             'couldnt': 155,\n",
       "             'committed': 35,\n",
       "             'suffice': 25,\n",
       "             'apocalyptic': 9,\n",
       "             'art': 131,\n",
       "             'goofylooking': 1,\n",
       "             'magical': 41,\n",
       "             'nazis': 13,\n",
       "             'nazicharged': 1,\n",
       "             'mood': 75,\n",
       "             'armies': 8,\n",
       "             'favorite': 121,\n",
       "             'meaning': 71,\n",
       "             'symbolic': 17,\n",
       "             'silly': 112,\n",
       "             'play': 305,\n",
       "             'across': 175,\n",
       "             'ruined': 28,\n",
       "             'boing': 1,\n",
       "             'wehrmacht': 1,\n",
       "             'gore': 71,\n",
       "             'zany': 17,\n",
       "             'footage': 71,\n",
       "             'theyre': 270,\n",
       "             'ogres': 3,\n",
       "             'watching': 371,\n",
       "             'children': 173,\n",
       "             'original': 377,\n",
       "             'say': 525,\n",
       "             'angle': 43,\n",
       "             'gleaned': 2,\n",
       "             'response': 31,\n",
       "             'sounds': 107,\n",
       "             'mutant': 11,\n",
       "             'ralph': 23,\n",
       "             'director': 717,\n",
       "             'nuclear': 38,\n",
       "             'occurrence': 10,\n",
       "             'deserves': 98,\n",
       "             'notice': 70,\n",
       "             'different': 312,\n",
       "             'bummer': 3,\n",
       "             'radiationinduced': 2,\n",
       "             'everywhere': 40,\n",
       "             'queen': 69,\n",
       "             'generations': 22,\n",
       "             'cuts': 49,\n",
       "             'sure': 362,\n",
       "             'unoriginal': 18,\n",
       "             'trip': 91,\n",
       "             'birth': 34,\n",
       "             'doesnt': 735,\n",
       "             'made': 651,\n",
       "             'learned': 53,\n",
       "             'empire': 20,\n",
       "             'mutants': 2,\n",
       "             'therefore': 65,\n",
       "             'day': 390,\n",
       "             'obvious': 224,\n",
       "             'white': 180,\n",
       "             'inspiring': 12,\n",
       "             'magic': 71,\n",
       "             'expand': 10,\n",
       "             'nationalist': 1,\n",
       "             'already': 236,\n",
       "             'evil': 229,\n",
       "             'sending': 15,\n",
       "             'notion': 39,\n",
       "             'looks': 327,\n",
       "             'connection': 55,\n",
       "             'sky': 45,\n",
       "             'precedence': 1,\n",
       "             'powerful': 133,\n",
       "             'cartoon': 51,\n",
       "             'forces': 78,\n",
       "             'disjointed': 9,\n",
       "             'shockingly': 15,\n",
       "             'heathers': 9,\n",
       "             'gag': 44,\n",
       "             'saps': 2,\n",
       "             'candy': 24,\n",
       "             'entry': 40,\n",
       "             'year': 388,\n",
       "             'hopelessly': 27,\n",
       "             'guilty': 55,\n",
       "             'mired': 2,\n",
       "             'stops': 52,\n",
       "             'effectively': 51,\n",
       "             'observations': 18,\n",
       "             'evans': 11,\n",
       "             'plan': 120,\n",
       "             'finally': 262,\n",
       "             'greer': 2,\n",
       "             'dialogue': 354,\n",
       "             'julie': 43,\n",
       "             'varsity': 13,\n",
       "             'shes': 245,\n",
       "             'mayo': 3,\n",
       "             'title': 225,\n",
       "             'misses': 25,\n",
       "             'unintentional': 20,\n",
       "             'generation': 57,\n",
       "             'prolong': 2,\n",
       "             'fullfledged': 5,\n",
       "             'plotting': 32,\n",
       "             'birthday': 27,\n",
       "             'feat': 16,\n",
       "             'murky': 13,\n",
       "             'depths': 19,\n",
       "             'lengths': 19,\n",
       "             'dilemma': 22,\n",
       "             'equally': 89,\n",
       "             'manages': 205,\n",
       "             'mean': 174,\n",
       "             'jawbreaker': 5,\n",
       "             'teen': 80,\n",
       "             'geeky': 10,\n",
       "             'triggering': 2,\n",
       "             'killed': 163,\n",
       "             'elements': 180,\n",
       "             'humorous': 75,\n",
       "             'life': 713,\n",
       "             'word': 177,\n",
       "             'accidentally': 52,\n",
       "             'reagan': 9,\n",
       "             ...})"
      ]
     },
     "execution_count": 26,
     "metadata": {},
     "output_type": "execute_result"
    }
   ],
   "source": [
    "tokenizer.word_docs"
   ]
  },
  {
   "cell_type": "code",
   "execution_count": null,
   "metadata": {},
   "outputs": [
    {
     "ename": "TypeError",
     "evalue": "define_model() missing 1 required positional argument: 'max_length'",
     "output_type": "error",
     "traceback": [
      "\u001b[0;31m---------------------------------------------------------------------------\u001b[0m",
      "\u001b[0;31mTypeError\u001b[0m                                 Traceback (most recent call last)",
      "Cell \u001b[0;32mIn[27], line 3\u001b[0m\n\u001b[1;32m      1\u001b[0m \u001b[38;5;66;03m# define network\u001b[39;00m\n\u001b[1;32m      2\u001b[0m n_words \u001b[38;5;241m=\u001b[39m x_train\u001b[38;5;241m.\u001b[39mshape[\u001b[38;5;241m1\u001b[39m]\n\u001b[0;32m----> 3\u001b[0m model \u001b[38;5;241m=\u001b[39m define_model(n_words)\n",
      "\u001b[0;31mTypeError\u001b[0m: define_model() missing 1 required positional argument: 'max_length'"
     ]
    }
   ],
   "source": [
    "# define network\n",
    "n_words = x_train.shape[1]\n",
    "model = define_model(n_words)"
   ]
  },
  {
   "cell_type": "code",
   "execution_count": null,
   "metadata": {},
   "outputs": [
    {
     "name": "stdout",
     "output_type": "stream",
     "text": [
      "Epoch 1/10\n",
      "181/181 [==============================] - 4s 17ms/step - loss: 0.4194 - accuracy: 0.8055\n",
      "Epoch 2/10\n",
      "181/181 [==============================] - 3s 16ms/step - loss: 0.0228 - accuracy: 0.9983\n",
      "Epoch 3/10\n",
      "181/181 [==============================] - 3s 16ms/step - loss: 0.0046 - accuracy: 1.0000\n",
      "Epoch 4/10\n",
      "181/181 [==============================] - 3s 17ms/step - loss: 0.0018 - accuracy: 1.0000\n",
      "Epoch 5/10\n",
      "181/181 [==============================] - 3s 16ms/step - loss: 6.9212e-04 - accuracy: 1.0000\n",
      "Epoch 6/10\n",
      "181/181 [==============================] - 3s 16ms/step - loss: 3.4783e-04 - accuracy: 1.0000\n",
      "Epoch 7/10\n",
      "181/181 [==============================] - 3s 16ms/step - loss: 2.1718e-04 - accuracy: 1.0000\n",
      "Epoch 8/10\n",
      "181/181 [==============================] - 3s 16ms/step - loss: 1.4772e-04 - accuracy: 1.0000\n",
      "Epoch 9/10\n",
      "181/181 [==============================] - 3s 16ms/step - loss: 1.0616e-04 - accuracy: 1.0000\n",
      "Epoch 10/10\n",
      "181/181 [==============================] - 3s 16ms/step - loss: 7.9914e-05 - accuracy: 1.0000\n"
     ]
    },
    {
     "data": {
      "text/plain": [
       "<keras.src.callbacks.History at 0x7f06d6b332d0>"
      ]
     },
     "execution_count": 52,
     "metadata": {},
     "output_type": "execute_result"
    }
   ],
   "source": [
    "model.fit(x_train, np.array(train_labels), epochs = 10, batch_size=10)"
   ]
  },
  {
   "cell_type": "code",
   "execution_count": null,
   "metadata": {},
   "outputs": [
    {
     "data": {
      "image/png": "[encoded data removed]",
      "text/plain": [
       "<IPython.core.display.Image object>"
      ]
     },
     "execution_count": 53,
     "metadata": {},
     "output_type": "execute_result"
    }
   ],
   "source": [
    "plot_model(model, show_dtype=True, show_layer_activations = True, show_shapes = True, show_layer_names=True)"
   ]
  },
  {
   "cell_type": "code",
   "execution_count": null,
   "metadata": {},
   "outputs": [
    {
     "name": "stdout",
     "output_type": "stream",
     "text": [
      "200/200 [==============================] - 1s 4ms/step - loss: 0.2192 - accuracy: 0.9200\n"
     ]
    },
    {
     "data": {
      "text/plain": [
       "[0.21917930245399475, 0.9200000166893005]"
      ]
     },
     "execution_count": 54,
     "metadata": {},
     "output_type": "execute_result"
    }
   ],
   "source": [
    "model.evaluate(x_test,np.array(test_labels), batch_size=1)"
   ]
  },
  {
   "cell_type": "code",
   "execution_count": null,
   "metadata": {},
   "outputs": [],
   "source": [
    "text1 = 'Best movie ever! It was great, I will definitely recommend it.'\n",
    "text2 = 'This is a bad movie.'\n",
    "text3 = 'This is a best movie'\n",
    "text4 = 'The acting was bad in this movie'"
   ]
  },
  {
   "cell_type": "code",
   "execution_count": null,
   "metadata": {},
   "outputs": [],
   "source": [
    "def predict(text):\n",
    "  tokens = clean_doc(text)\n",
    "  text = \" \".join(tokens)\n",
    "  x_test = tokenizer.texts_to_matrix([text], mode = 'binary')\n",
    "  prediction = model.predict(x_test)\n",
    "  if prediction >= 0.5:\n",
    "    return 'Positive'\n",
    "  else:\n",
    "     return 'Negative'"
   ]
  },
  {
   "cell_type": "code",
   "execution_count": null,
   "metadata": {},
   "outputs": [
    {
     "name": "stdout",
     "output_type": "stream",
     "text": [
      "1/1 [==============================] - 0s 95ms/step\n"
     ]
    },
    {
     "data": {
      "text/plain": [
       "'Positive'"
      ]
     },
     "execution_count": 57,
     "metadata": {},
     "output_type": "execute_result"
    }
   ],
   "source": [
    "predict(text1)"
   ]
  },
  {
   "cell_type": "code",
   "execution_count": null,
   "metadata": {},
   "outputs": [
    {
     "name": "stdout",
     "output_type": "stream",
     "text": [
      "1/1 [==============================] - 0s 27ms/step\n"
     ]
    },
    {
     "data": {
      "text/plain": [
       "'Negative'"
      ]
     },
     "execution_count": 58,
     "metadata": {},
     "output_type": "execute_result"
    }
   ],
   "source": [
    "predict(text2)"
   ]
  },
  {
   "cell_type": "code",
   "execution_count": null,
   "metadata": {},
   "outputs": [
    {
     "name": "stdout",
     "output_type": "stream",
     "text": [
      "1/1 [==============================] - 0s 27ms/step\n"
     ]
    },
    {
     "data": {
      "text/plain": [
       "'Positive'"
      ]
     },
     "execution_count": 59,
     "metadata": {},
     "output_type": "execute_result"
    }
   ],
   "source": [
    "predict(text3)"
   ]
  },
  {
   "cell_type": "code",
   "execution_count": null,
   "metadata": {},
   "outputs": [
    {
     "name": "stdout",
     "output_type": "stream",
     "text": [
      "1/1 [==============================] - 0s 37ms/step\n"
     ]
    },
    {
     "data": {
      "text/plain": [
       "'Negative'"
      ]
     },
     "execution_count": 60,
     "metadata": {},
     "output_type": "execute_result"
    }
   ],
   "source": [
    "predict(text4)"
   ]
  },
  {
   "cell_type": "code",
   "execution_count": null,
   "metadata": {},
   "outputs": [],
   "source": [
    "# classify a review a negative or positive\n",
    "def predict_sentiment(review):\n",
    "  #clean\n",
    "  tokens = clean_doc(review)\n",
    "  # Convert to line\n",
    "  line = ' '.join(tokens)\n",
    "  # encode\n",
    "  encoded = tokenizer.texts_to_matrix([line], mode = 'binary')\n",
    "  # predict sentiment\n",
    "  yhat = model.predict(encoded, verbose=0)\n",
    "  # retrieve predicted percentage and lable\n",
    "  percent_pos = yhat[0 ,0]\n",
    "  if round(percent_pos) == 0:\n",
    "    return (1-percent_pos), 'NEGATIVE'\n",
    "  return percent_pos, \"POSITIVE\""
   ]
  },
  {
   "cell_type": "code",
   "execution_count": null,
   "metadata": {},
   "outputs": [
    {
     "name": "stdout",
     "output_type": "stream",
     "text": [
      "Review: [Best movie ever! It was great, I will definitely recommend it.]\n",
      " Sentiment: POSITIVE (0.704%)\n"
     ]
    }
   ],
   "source": [
    "percent, sentiment = predict_sentiment(text1)\n",
    "print('Review: [%s]\\n Sentiment: %s (%.3f%%)' % (text1, sentiment, percent))"
   ]
  },
  {
   "cell_type": "code",
   "execution_count": null,
   "metadata": {},
   "outputs": [
    {
     "name": "stdout",
     "output_type": "stream",
     "text": [
      "Review: [Best movie ever! It was great, I will definitely recommend it.]\n",
      " Sentiment: NEGATIVE (0.665%)\n"
     ]
    }
   ],
   "source": [
    "percent, sentiment = predict_sentiment(text2)\n",
    "print(f'Review: [{text1}]\\n Sentiment: {sentiment} ({percent:.3f}%)')"
   ]
  },
  {
   "cell_type": "code",
   "execution_count": null,
   "metadata": {},
   "outputs": [
    {
     "data": {
      "text/plain": [
       "(0.5264906, 'POSITIVE')"
      ]
     },
     "execution_count": 64,
     "metadata": {},
     "output_type": "execute_result"
    }
   ],
   "source": [
    "predict_sentiment(text3)"
   ]
  },
  {
   "cell_type": "code",
   "execution_count": null,
   "metadata": {},
   "outputs": [
    {
     "data": {
      "text/plain": [
       "(0.7086470723152161, 'NEGATIVE')"
      ]
     },
     "execution_count": 65,
     "metadata": {},
     "output_type": "execute_result"
    }
   ],
   "source": [
    "predict_sentiment(text4)"
   ]
  }
 ],
 "metadata": {
  "kernelspec": {
   "display_name": "NLP",
   "language": "python",
   "name": "python3"
  },
  "language_info": {
   "codemirror_mode": {
    "name": "ipython",
    "version": 3
   },
   "file_extension": ".py",
   "mimetype": "text/x-python",
   "name": "python",
   "nbconvert_exporter": "python",
   "pygments_lexer": "ipython3",
   "version": "3.11.6"
  }
 },
 "nbformat": 4,
 "nbformat_minor": 2
}
