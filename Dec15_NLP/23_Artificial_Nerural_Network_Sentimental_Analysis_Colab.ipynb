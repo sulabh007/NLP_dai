{
  "cells": [
    {
      "cell_type": "code",
      "execution_count": 13,
      "metadata": {
        "colab": {
          "base_uri": "https://localhost:8080/"
        },
        "id": "dr5VCh5p5tLT",
        "outputId": "4b95ea72-8f60-4218-c6b0-85402836954c"
      },
      "outputs": [
        {
          "name": "stdout",
          "output_type": "stream",
          "text": [
            "Drive already mounted at /content/drive; to attempt to forcibly remount, call drive.mount(\"/content/drive\", force_remount=True).\n"
          ]
        }
      ],
      "source": [
        "from google.colab import drive\n",
        "drive.mount('/content/drive')"
      ]
    },
    {
      "cell_type": "code",
      "execution_count": 14,
      "metadata": {
        "id": "A3-6tCyY5pwb"
      },
      "outputs": [],
      "source": [
        "import string\n",
        "import re\n",
        "from os import listdir\n",
        "from nltk.corpus import stopwords\n",
        "from keras.preprocessing.text import Tokenizer\n",
        "from keras.utils import plot_model\n",
        "import numpy as np\n",
        "import nltk"
      ]
    },
    {
      "cell_type": "code",
      "execution_count": 15,
      "metadata": {
        "colab": {
          "base_uri": "https://localhost:8080/"
        },
        "id": "uJUMzlnh6PnT",
        "outputId": "3ad721ca-8987-4e61-8a22-0e8b5ecdf415"
      },
      "outputs": [
        {
          "name": "stderr",
          "output_type": "stream",
          "text": [
            "[nltk_data] Downloading package stopwords to /root/nltk_data...\n",
            "[nltk_data]   Package stopwords is already up-to-date!\n"
          ]
        },
        {
          "data": {
            "text/plain": [
              "True"
            ]
          },
          "execution_count": 15,
          "metadata": {},
          "output_type": "execute_result"
        }
      ],
      "source": [
        "nltk.download('stopwords')\n",
        "\n"
      ]
    },
    {
      "cell_type": "code",
      "execution_count": 16,
      "metadata": {
        "id": "0pyafzjv7DNT"
      },
      "outputs": [],
      "source": [
        "# load doc into memory\n",
        "def load_doc(filename):\n",
        "  # open the file as read only\n",
        "  file = open(filename,'r')\n",
        "  #read all text\n",
        "  text = file.read()\n",
        "  #close the file\n",
        "  file.close()\n",
        "  return text"
      ]
    },
    {
      "cell_type": "code",
      "execution_count": 17,
      "metadata": {
        "colab": {
          "base_uri": "https://localhost:8080/",
          "height": 105
        },
        "id": "5zN5UEib8zyn",
        "outputId": "8f99f4d5-95cc-491a-a54f-953a3aa7e104"
      },
      "outputs": [
        {
          "data": {
            "application/vnd.google.colaboratory.intrinsic+json": {
              "type": "string"
            },
            "text/plain": [
              "'for those of us who weren\\'t yet born when the 1960\\'s rock \\'n\\' rolled around , monterey pop affords an affectionate glimpse of the music that influenced our parents to be hippies . \\nfrom otis redding to jimi hendrix , janis joplin to the mamas and the papas , and jefferson airplane to the who , this documentary is jam-packed with contagious energy . \\nbut i give fair warning that i will reveal the ending , which does not do the rest of the film the justice it deserves . \\nshot in 1969 at an outdoor concert that precluded woodstock , the film defies the stereotype of the general population at the time . \\nsure , some have painted their faces and smoke joints , but d . a . \\npennebaker ( the war room , moon over broadway ) surprisingly chooses to show a broad spectrum of the audience . \\nno matter who is watching , it all comes back to the talented musicians that stir your soul . \\nthe excitement starts before the music even begins . \\na young girl is cleaning thousands of seats and when asked why by an interviewer , she replies that she feels lucky to do so . \\nthere are moments of organized craziness as john phillips , leader of the mamas and the papas and one of the concert organizers , tries to get in touch with dionne warwick . \\nand when one band is tuning up , a member remarks , \" finally , a decent sound system ! \" \\nyou can tell just by watching these first few moments that this show isn\\'t about vanity , it\\'s about playing the music you love to those who have an appreciation for it , a two-way street . \\nthis interaction between audience and performer continues throughout the film and becomes infectious to the audience . \\nit\\'s impossible to tear your eyes away from janis joplin as she belts out her ballad about love being a ball and chain . \\nand while the lyrics to \" wild thing \" may not be all that complicated , watching jimi hendrix mime having sex with his guitar is as captivating as otis redding singing about love . \\neven if you don\\'t recognize every band you see on stage , you can imagine being as enthralled by their work as the public sitting in those seats . \\nthe only drawback to the film is the ending , which unfortunately i must reveal . \\nall the other bands , big names then and still today , got approximately 7 to 10 minutes of screen time . \\nin contrast , the last band on camera , a wholly forgettable one , gets an entire 18 minutes of screen time . \\nfor a film that\\'s only 78 minutes long , that\\'s too large of a chunk , especially when previous acts are much more stimulating . \\nall in all , monterey pop is a precious , rare look at a time period that still holds sway over us . \\nthe variety of music , as well as the beautifully shot performances , are easy to become immersed in . \\nif there was ever any question as to why most of these bands were so popular , this is quickly dispelled . \\nit\\'s almost depressing to think that music this moving doesn\\'t get made much anymore . \\ninstead we\\'re stuck with * nsync , the backstreet boys , and jennifer lopez , all of whom should have stuck with modeling . \\n'"
            ]
          },
          "execution_count": 17,
          "metadata": {},
          "output_type": "execute_result"
        }
      ],
      "source": [
        "text = load_doc('drive/MyDrive/review_polarity/txt_sentoken/pos/cv026_29325.txt')\n",
        "text"
      ]
    },
    {
      "cell_type": "code",
      "execution_count": 18,
      "metadata": {
        "id": "h3pXO-hz_aIh"
      },
      "outputs": [],
      "source": [
        "# turn a doc into clean tokens\n",
        "def clean_doc(doc):\n",
        "    # split into tokens by white space\n",
        "    tokens = doc.split()\n",
        "    # prepare regex for char filtering\n",
        "    re_punc = re.compile('[%s]' % re.escape(string.punctuation))\n",
        "    # remove puctuation from each word\n",
        "    tokens = [re_punc.sub('', w) for w in tokens]\n",
        "    # remove reamaning tokens that are not alphabetic\n",
        "    tokens = [word for word in tokens if word.isalpha()]\n",
        "    # filter out stop words\n",
        "    stop_words = set(stopwords.words('english'))\n",
        "    tokens = [w for w in tokens if not w in stop_words]\n",
        "    # filter out short tokens\n",
        "    tokens = [word for word in tokens if len(word) > 1]\n",
        "    return tokens"
      ]
    },
    {
      "cell_type": "code",
      "execution_count": 19,
      "metadata": {
        "colab": {
          "base_uri": "https://localhost:8080/"
        },
        "id": "_jdVEl3oABiP",
        "outputId": "9ebb3a13-dba8-47df-96ce-1bbd98669934"
      },
      "outputs": [
        {
          "data": {
            "text/plain": [
              "261"
            ]
          },
          "execution_count": 19,
          "metadata": {},
          "output_type": "execute_result"
        }
      ],
      "source": [
        "clean = clean_doc(text)\n",
        "len(clean)"
      ]
    },
    {
      "cell_type": "code",
      "execution_count": 20,
      "metadata": {
        "id": "LAE5X5xjCxHM"
      },
      "outputs": [],
      "source": [
        "# load_doc, clean and return line of tokens\n",
        "def doc_to_line(filename, vocab):\n",
        "  # load the doc\n",
        "  doc = load_doc(filename)\n",
        "  # clean doc\n",
        "  tokens = clean_doc(doc)\n",
        "  # filter by vocab\n",
        "  tokens = [w for w in tokens if w in vocab]\n",
        "  return \" \".join(tokens)"
      ]
    },
    {
      "cell_type": "code",
      "execution_count": 21,
      "metadata": {
        "id": "ELv5M6usFq-y"
      },
      "outputs": [],
      "source": [
        "def process_train(directory, vocab):\n",
        "  documents = list()\n",
        "  for filename in listdir(directory):\n",
        "    if not filename.startswith('cv9'):\n",
        "      path = directory + '/' + filename\n",
        "      doc = load_doc(path)\n",
        "      tokens = doc_to_line(doc, vocab)\n",
        "      documents.append(tokens)\n",
        "    return documents\n",
        "\n",
        "def process_test(directory, vocab):\n",
        "  documents = list()\n",
        "  for filename in listdir(directory):\n",
        "    if filename.startswith('cv9'):\n",
        "      path = directory + '/' + filename\n",
        "      doc = load_doc(path)\n",
        "      tokens = doc_to_line(doc, vocab)\n",
        "      documents.append(tokens)\n",
        "    return documents"
      ]
    },
    {
      "cell_type": "code",
      "execution_count": 22,
      "metadata": {
        "id": "gVac32GFHs5u"
      },
      "outputs": [],
      "source": [
        "# load all docs in a directory\n",
        "def process_docs(directory, vocab, is_train):\n",
        "    documents = list()\n",
        "    # walk through all files in the folder\n",
        "    for filename in listdir(directory):\n",
        "        # skip any review in the test set\n",
        "        if is_train and filename.startswith('cv9'):\n",
        "            continue\n",
        "        if not is_train and not filename.startswith('cv9'):\n",
        "            continue\n",
        "        # create the full path of file to open\n",
        "        path  = directory + '/' + filename\n",
        "        # load the doc\n",
        "        doc = load_doc(path)\n",
        "        # clean doc\n",
        "        tokens = clean_doc(doc)\n",
        "        # add to list\n",
        "        documents.append(tokens)\n",
        "    return documents"
      ]
    },
    {
      "cell_type": "code",
      "execution_count": 23,
      "metadata": {
        "id": "E1dIh0swD4ZQ"
      },
      "outputs": [],
      "source": [
        "vocab = open('/content/vocab.txt')\n",
        "vocab = vocab.read().split()"
      ]
    },
    {
      "cell_type": "code",
      "execution_count": 24,
      "metadata": {
        "colab": {
          "base_uri": "https://localhost:8080/",
          "height": 105
        },
        "id": "C8v-KgZ2EYqT",
        "outputId": "ed9afbae-d07c-4a0d-fd3e-c7eb072f99a2"
      },
      "outputs": [
        {
          "data": {
            "application/vnd.google.colaboratory.intrinsic+json": {
              "type": "string"
            },
            "text/plain": [
              "'us werent yet born rock rolled around monterey pop affectionate glimpse music influenced parents hippies otis redding jimi hendrix janis joplin mamas papas jefferson airplane documentary jampacked contagious energy give fair warning reveal ending rest film justice deserves shot outdoor concert film defies stereotype general population time sure painted faces smoke joints war room moon broadway surprisingly chooses show broad spectrum audience matter watching comes back talented musicians stir soul excitement starts music even begins young girl cleaning thousands seats asked interviewer replies feels lucky moments organized craziness john phillips leader mamas papas one concert tries get touch one band tuning member remarks finally decent sound system tell watching first moments show isnt vanity playing music love appreciation street interaction audience performer continues throughout film becomes infectious audience impossible tear eyes away janis joplin belts ballad love ball chain lyrics wild thing may complicated watching jimi hendrix mime sex guitar captivating otis redding singing love even dont recognize every band see stage imagine enthralled work public sitting seats drawback film ending unfortunately must reveal bands big names still today got approximately minutes screen time contrast last band camera wholly forgettable one gets entire minutes screen time film thats minutes long thats large chunk especially previous acts much stimulating monterey pop precious rare look time period still holds sway us variety music well beautifully shot performances easy become immersed ever question bands popular quickly almost depressing think music moving doesnt get made much anymore instead stuck backstreet boys jennifer lopez stuck modeling'"
            ]
          },
          "execution_count": 24,
          "metadata": {},
          "output_type": "execute_result"
        }
      ],
      "source": [
        "doc_to_line('drive/MyDrive/review_polarity/txt_sentoken/pos/cv026_29325.txt', vocab)"
      ]
    },
    {
      "cell_type": "code",
      "execution_count": 25,
      "metadata": {
        "colab": {
          "base_uri": "https://localhost:8080/"
        },
        "id": "IHf3ofkgKH1B",
        "outputId": "418518f0-acc3-43fc-d7af-764528ab129e"
      },
      "outputs": [
        {
          "data": {
            "text/plain": [
              "900"
            ]
          },
          "execution_count": 25,
          "metadata": {},
          "output_type": "execute_result"
        }
      ],
      "source": [
        "lines = process_docs('drive/MyDrive/review_polarity/txt_sentoken/pos', vocab, True)\n",
        "len(lines)"
      ]
    },
    {
      "cell_type": "code",
      "execution_count": 26,
      "metadata": {
        "colab": {
          "base_uri": "https://localhost:8080/"
        },
        "id": "i9UatpHrJtZe",
        "outputId": "da9254e5-70da-4cd5-9be4-49ac7acf6f4e"
      },
      "outputs": [
        {
          "data": {
            "text/plain": [
              "100"
            ]
          },
          "execution_count": 26,
          "metadata": {},
          "output_type": "execute_result"
        }
      ],
      "source": [
        "lines = process_docs('drive/MyDrive/review_polarity/txt_sentoken/pos', vocab, False)\n",
        "len(lines)"
      ]
    },
    {
      "cell_type": "code",
      "execution_count": 27,
      "metadata": {
        "id": "8xs2AOVlL9Zh"
      },
      "outputs": [],
      "source": [
        "# load and clean a dataset\n",
        "def load_clean_dataset(vocab, is_train):\n",
        "    # load documents\n",
        "    neg = process_docs('drive/MyDrive/review_polarity/txt_sentoken/neg', vocab, is_train)\n",
        "    pos = process_docs('drive/MyDrive/review_polarity/txt_sentoken/pos', vocab, is_train)\n",
        "\n",
        "    docs = neg + pos\n",
        "    #prepare lables\n",
        "    labels = [0 for _ in range(len(neg))] + [1 for _ in range(len(pos))]\n",
        "    return docs, labels"
      ]
    },
    {
      "cell_type": "code",
      "execution_count": 28,
      "metadata": {
        "colab": {
          "base_uri": "https://localhost:8080/"
        },
        "id": "wLj4C0rFMJsv",
        "outputId": "3b20a2d4-44db-40da-a629-83eafd79b2c6"
      },
      "outputs": [
        {
          "data": {
            "text/plain": [
              "(1810, 1810, 200, 200)"
            ]
          },
          "execution_count": 28,
          "metadata": {},
          "output_type": "execute_result"
        }
      ],
      "source": [
        "train, train_labels = load_clean_dataset(vocab, True)\n",
        "test, test_labels = load_clean_dataset(vocab, False)\n",
        "\n",
        "len(train), len(train_labels),len(test), len(test_labels)"
      ]
    },
    {
      "cell_type": "code",
      "execution_count": 29,
      "metadata": {
        "id": "xRhw0PN-NPi5"
      },
      "outputs": [],
      "source": [
        "from keras.models import Sequential\n",
        "from keras.layers import Dense"
      ]
    },
    {
      "cell_type": "code",
      "execution_count": 30,
      "metadata": {
        "id": "5q8BexvCNfKW"
      },
      "outputs": [],
      "source": [
        "# define the model\n",
        "def define_model(n_words):\n",
        "  # define network\n",
        "  model = Sequential()\n",
        "  model.add(Dense(50, input_shape = (n_words,), activation = 'relu'))\n",
        "  model.add(Dense(1,  activation = 'sigmoid'))\n",
        "  # compile network\n",
        "  model.compile(loss = 'binary_crossentropy', optimizer = 'adam', metrics = ['accuracy'])\n",
        "  # summerize defined model\n",
        "  model.summary()\n",
        "  plot_model(model, to_file='model.png',show_shapes=True)\n",
        "  return model"
      ]
    },
    {
      "cell_type": "code",
      "execution_count": 31,
      "metadata": {
        "colab": {
          "base_uri": "https://localhost:8080/"
        },
        "id": "D5hqPHknOgnK",
        "outputId": "362b12e8-2779-461d-e0ee-d54c3d6a818f"
      },
      "outputs": [
        {
          "name": "stdout",
          "output_type": "stream",
          "text": [
            "Model: \"sequential\"\n",
            "_________________________________________________________________\n",
            " Layer (type)                Output Shape              Param #   \n",
            "=================================================================\n",
            " dense (Dense)               (None, 50)                5050      \n",
            "                                                                 \n",
            " dense_1 (Dense)             (None, 1)                 51        \n",
            "                                                                 \n",
            "=================================================================\n",
            "Total params: 5101 (19.93 KB)\n",
            "Trainable params: 5101 (19.93 KB)\n",
            "Non-trainable params: 0 (0.00 Byte)\n",
            "_________________________________________________________________\n"
          ]
        },
        {
          "data": {
            "text/plain": [
              "<keras.src.engine.sequential.Sequential at 0x7a566bd1e050>"
            ]
          },
          "execution_count": 31,
          "metadata": {},
          "output_type": "execute_result"
        }
      ],
      "source": [
        "define_model(100)"
      ]
    },
    {
      "cell_type": "code",
      "execution_count": 32,
      "metadata": {
        "id": "bsLy5IKSPKek"
      },
      "outputs": [],
      "source": [
        "def create_tokenizer(lines):\n",
        "  tokenizer = Tokenizer()\n",
        "  tokenizer.fit_on_texts(lines)\n",
        "  return tokenizer"
      ]
    },
    {
      "cell_type": "code",
      "execution_count": 33,
      "metadata": {
        "id": "Wx_feYSPPYKu"
      },
      "outputs": [],
      "source": [
        "# create the tokenizer\n",
        "tokenizer = create_tokenizer(train)"
      ]
    },
    {
      "cell_type": "code",
      "execution_count": 34,
      "metadata": {
        "colab": {
          "base_uri": "https://localhost:8080/"
        },
        "id": "L4rKSuyWPfOc",
        "outputId": "01bcb570-2872-4ca4-cdb1-4084465b6836"
      },
      "outputs": [
        {
          "data": {
            "text/plain": [
              "(1810, 44277)"
            ]
          },
          "execution_count": 34,
          "metadata": {},
          "output_type": "execute_result"
        }
      ],
      "source": [
        "# enocde data\n",
        "x_train = tokenizer.texts_to_matrix(train, mode = 'binary')\n",
        "x_train.shape"
      ]
    },
    {
      "cell_type": "code",
      "execution_count": 35,
      "metadata": {
        "colab": {
          "base_uri": "https://localhost:8080/"
        },
        "id": "IgFGZkm6PtlA",
        "outputId": "d6219bf5-449c-4c97-901b-7a359a83d0e0"
      },
      "outputs": [
        {
          "data": {
            "text/plain": [
              "(200, 44277)"
            ]
          },
          "execution_count": 35,
          "metadata": {},
          "output_type": "execute_result"
        }
      ],
      "source": [
        "x_test = tokenizer.texts_to_matrix(test, mode = 'binary')\n",
        "x_test.shape"
      ]
    },
    {
      "cell_type": "code",
      "execution_count": 36,
      "metadata": {
        "colab": {
          "base_uri": "https://localhost:8080/"
        },
        "id": "6kdN9kGeRENV",
        "outputId": "b33fe1bb-45b3-46e4-cebe-58a8177670ae"
      },
      "outputs": [
        {
          "data": {
            "text/plain": [
              "defaultdict(int,\n",
              "            {'ask': 116,\n",
              "             'depraved': 5,\n",
              "             'finally': 262,\n",
              "             'enmeshed': 1,\n",
              "             'goes': 473,\n",
              "             'covering': 23,\n",
              "             'forever': 76,\n",
              "             'horror': 192,\n",
              "             'big': 549,\n",
              "             'need': 236,\n",
              "             'vision': 56,\n",
              "             'something': 650,\n",
              "             'wholesome': 11,\n",
              "             'joel': 43,\n",
              "             'sordid': 10,\n",
              "             'matteroffactly': 2,\n",
              "             'particularly': 206,\n",
              "             'along': 399,\n",
              "             'condemn': 5,\n",
              "             'offensive': 52,\n",
              "             'interesting': 430,\n",
              "             'even': 1163,\n",
              "             'cover': 76,\n",
              "             'drags': 38,\n",
              "             'beneath': 29,\n",
              "             'unsavory': 4,\n",
              "             'eyes': 207,\n",
              "             'fairly': 110,\n",
              "             'bigtown': 1,\n",
              "             'films': 944,\n",
              "             'ways': 153,\n",
              "             'private': 89,\n",
              "             'phoenix': 13,\n",
              "             'making': 418,\n",
              "             'condone': 5,\n",
              "             'supposed': 236,\n",
              "             'quite': 422,\n",
              "             'catherine': 46,\n",
              "             'found': 292,\n",
              "             'snake': 27,\n",
              "             'neatly': 13,\n",
              "             'girls': 103,\n",
              "             'far': 424,\n",
              "             'get': 979,\n",
              "             'standard': 91,\n",
              "             'toll': 8,\n",
              "             'killed': 163,\n",
              "             'ugly': 59,\n",
              "             'robin': 100,\n",
              "             'walkers': 3,\n",
              "             'rrated': 14,\n",
              "             'determine': 25,\n",
              "             'drama': 207,\n",
              "             'almost': 525,\n",
              "             'hollywood': 321,\n",
              "             'batman': 66,\n",
              "             'documentaries': 9,\n",
              "             'time': 1106,\n",
              "             'credit': 114,\n",
              "             'george': 127,\n",
              "             'played': 499,\n",
              "             'lovely': 52,\n",
              "             'assignment': 19,\n",
              "             'obsessed': 57,\n",
              "             'snippets': 5,\n",
              "             'sexual': 133,\n",
              "             'threatening': 45,\n",
              "             'wont': 211,\n",
              "             'client': 14,\n",
              "             'millimeter': 1,\n",
              "             'makes': 645,\n",
              "             'sprockets': 1,\n",
              "             'familiar': 149,\n",
              "             'thing': 526,\n",
              "             'twothirds': 6,\n",
              "             'doesnt': 735,\n",
              "             'everyday': 28,\n",
              "             'americana': 1,\n",
              "             'skills': 57,\n",
              "             'whole': 357,\n",
              "             'life': 713,\n",
              "             'business': 138,\n",
              "             'easy': 167,\n",
              "             'winding': 5,\n",
              "             'investigation': 41,\n",
              "             'specialized': 2,\n",
              "             'influence': 33,\n",
              "             'camera': 223,\n",
              "             'talking': 137,\n",
              "             'kill': 202,\n",
              "             'investigator': 20,\n",
              "             'conventional': 42,\n",
              "             'tanks': 5,\n",
              "             'whos': 203,\n",
              "             'trust': 71,\n",
              "             'digs': 8,\n",
              "             'cage': 44,\n",
              "             'course': 440,\n",
              "             'frustrated': 22,\n",
              "             'welles': 14,\n",
              "             'horrid': 9,\n",
              "             'yet': 423,\n",
              "             'deviants': 2,\n",
              "             'indeed': 115,\n",
              "             'widow': 10,\n",
              "             'waste': 116,\n",
              "             'plays': 528,\n",
              "             'whirs': 1,\n",
              "             'wife': 343,\n",
              "             'eight': 44,\n",
              "             'home': 367,\n",
              "             'exploits': 16,\n",
              "             'pieces': 77,\n",
              "             'occasionally': 100,\n",
              "             'husband': 135,\n",
              "             'surface': 56,\n",
              "             'tags': 9,\n",
              "             'hired': 43,\n",
              "             'victims': 59,\n",
              "             'kinds': 31,\n",
              "             'fall': 195,\n",
              "             'california': 37,\n",
              "             'sick': 51,\n",
              "             'andrew': 42,\n",
              "             'show': 414,\n",
              "             'reel': 23,\n",
              "             'task': 86,\n",
              "             'subject': 124,\n",
              "             'run': 208,\n",
              "             'bubbling': 7,\n",
              "             'dont': 712,\n",
              "             'schumacher': 16,\n",
              "             'face': 237,\n",
              "             'good': 1038,\n",
              "             'like': 1327,\n",
              "             'becoming': 90,\n",
              "             'better': 605,\n",
              "             'max': 50,\n",
              "             'cops': 67,\n",
              "             'budget': 92,\n",
              "             'loses': 72,\n",
              "             'recent': 171,\n",
              "             'core': 53,\n",
              "             'flickering': 2,\n",
              "             'obviously': 188,\n",
              "             'product': 80,\n",
              "             'experience': 192,\n",
              "             'spending': 40,\n",
              "             'world': 516,\n",
              "             'albeit': 47,\n",
              "             'demented': 12,\n",
              "             'im': 370,\n",
              "             'seedy': 16,\n",
              "             'clues': 28,\n",
              "             'husbands': 30,\n",
              "             'footage': 71,\n",
              "             'necessarily': 51,\n",
              "             'kevin': 148,\n",
              "             'little': 831,\n",
              "             'joaquin': 10,\n",
              "             'turn': 261,\n",
              "             'position': 58,\n",
              "             'hints': 28,\n",
              "             'wealthy': 47,\n",
              "             'selfrighteous': 6,\n",
              "             'two': 933,\n",
              "             'nicolas': 21,\n",
              "             'documents': 4,\n",
              "             'lot': 458,\n",
              "             'sight': 89,\n",
              "             'desires': 21,\n",
              "             'revelation': 32,\n",
              "             'irony': 37,\n",
              "             'want': 397,\n",
              "             'hardcore': 14,\n",
              "             'training': 28,\n",
              "             'really': 783,\n",
              "             'scribe': 10,\n",
              "             'values': 49,\n",
              "             'matter': 234,\n",
              "             'sound': 180,\n",
              "             'satisfy': 25,\n",
              "             'keener': 12,\n",
              "             'underworld': 19,\n",
              "             'persons': 25,\n",
              "             'projector': 3,\n",
              "             'neither': 129,\n",
              "             'murder': 160,\n",
              "             'tom': 145,\n",
              "             'schraders': 5,\n",
              "             'safe': 54,\n",
              "             'explodes': 14,\n",
              "             'rather': 431,\n",
              "             'puzzle': 20,\n",
              "             'reminding': 8,\n",
              "             'snuff': 10,\n",
              "             'look': 545,\n",
              "             'pornography': 12,\n",
              "             'see': 877,\n",
              "             'pa': 3,\n",
              "             'first': 922,\n",
              "             'taking': 183,\n",
              "             'surveillance': 8,\n",
              "             'young': 444,\n",
              "             'shocking': 54,\n",
              "             'monsters': 31,\n",
              "             'philadelphia': 9,\n",
              "             'place': 433,\n",
              "             'brutalized': 2,\n",
              "             'becomes': 377,\n",
              "             'screened': 12,\n",
              "             'probably': 375,\n",
              "             'think': 544,\n",
              "             'seven': 78,\n",
              "             'stop': 194,\n",
              "             'hours': 186,\n",
              "             'lane': 17,\n",
              "             'unpleasant': 33,\n",
              "             'head': 263,\n",
              "             'missing': 94,\n",
              "             'super': 32,\n",
              "             'short': 223,\n",
              "             'movies': 731,\n",
              "             'adult': 81,\n",
              "             'man': 684,\n",
              "             'film': 1562,\n",
              "             'violence': 195,\n",
              "             'deeper': 46,\n",
              "             'character': 922,\n",
              "             'whether': 175,\n",
              "             'never': 757,\n",
              "             'people': 760,\n",
              "             'director': 717,\n",
              "             'sleazy': 32,\n",
              "             'unwind': 3,\n",
              "             'firstrun': 2,\n",
              "             'certainly': 277,\n",
              "             'late': 192,\n",
              "             'paul': 146,\n",
              "             'toilet': 30,\n",
              "             'theres': 568,\n",
              "             'limited': 70,\n",
              "             'harrisburg': 2,\n",
              "             'ridiculous': 113,\n",
              "             'finale': 70,\n",
              "             'later': 301,\n",
              "             'flunky': 1,\n",
              "             'bookstore': 14,\n",
              "             'cleveland': 3,\n",
              "             'twisted': 49,\n",
              "             'order': 215,\n",
              "             'splitlevel': 1,\n",
              "             'scott': 108,\n",
              "             'kind': 368,\n",
              "             'banality': 6,\n",
              "             'hideaway': 3,\n",
              "             'originality': 50,\n",
              "             'foreignguywhomispronouncesenglish': 1,\n",
              "             'right': 528,\n",
              "             'double': 50,\n",
              "             'included': 60,\n",
              "             'elaborate': 53,\n",
              "             'fluttered': 1,\n",
              "             'jim': 105,\n",
              "             'nervous': 33,\n",
              "             'else': 288,\n",
              "             'williams': 103,\n",
              "             'goldblum': 14,\n",
              "             'vodka': 3,\n",
              "             'everything': 352,\n",
              "             'decided': 89,\n",
              "             'forced': 166,\n",
              "             'humor': 261,\n",
              "             'dreadful': 26,\n",
              "             'unfulfilled': 3,\n",
              "             'unamusing': 4,\n",
              "             'artist': 63,\n",
              "             'bucks': 33,\n",
              "             'pass': 85,\n",
              "             'high': 314,\n",
              "             'cat': 39,\n",
              "             'yakov': 1,\n",
              "             'say': 525,\n",
              "             'uninspired': 30,\n",
              "             'complete': 159,\n",
              "             'delivery': 32,\n",
              "             'eyelashes': 4,\n",
              "             'joan': 36,\n",
              "             'stereotype': 23,\n",
              "             'mess': 130,\n",
              "             'jeff': 52,\n",
              "             'one': 1567,\n",
              "             'jokes': 156,\n",
              "             'somewhere': 106,\n",
              "             'heads': 83,\n",
              "             'know': 678,\n",
              "             'year': 388,\n",
              "             'low': 90,\n",
              "             'disbelief': 36,\n",
              "             'starring': 143,\n",
              "             'line': 300,\n",
              "             'bring': 185,\n",
              "             'kid': 115,\n",
              "             'may': 526,\n",
              "             'anyway': 154,\n",
              "             'pregnant': 38,\n",
              "             'terrible': 107,\n",
              "             'hid': 4,\n",
              "             'stupid': 174,\n",
              "             'arnie': 7,\n",
              "             'especially': 341,\n",
              "             'point': 438,\n",
              "             'birth': 34,\n",
              "             'oralsexprostitution': 1,\n",
              "             'since': 509,\n",
              "             'ten': 122,\n",
              "             'friends': 268,\n",
              "             'dinosaur': 9,\n",
              "             'commitment': 16,\n",
              "             'russian': 38,\n",
              "             'laughs': 163,\n",
              "             'intelligence': 95,\n",
              "             'groan': 9,\n",
              "             'nine': 28,\n",
              "             'long': 534,\n",
              "             'none': 182,\n",
              "             'pussy': 2,\n",
              "             'funny': 445,\n",
              "             'old': 472,\n",
              "             'carreyannoying': 1,\n",
              "             'failed': 79,\n",
              "             'spend': 126,\n",
              "             'exactly': 240,\n",
              "             'book': 183,\n",
              "             'draw': 59,\n",
              "             'obstetrician': 4,\n",
              "             'sorry': 58,\n",
              "             'dads': 6,\n",
              "             'longing': 9,\n",
              "             'simultaneously': 25,\n",
              "             'accent': 78,\n",
              "             'plot': 777,\n",
              "             'sunset': 3,\n",
              "             'parallels': 20,\n",
              "             'everyone': 330,\n",
              "             'possibly': 104,\n",
              "             'much': 1013,\n",
              "             'hugh': 17,\n",
              "             'paves': 2,\n",
              "             'arrest': 18,\n",
              "             'felt': 146,\n",
              "             'huge': 134,\n",
              "             'hence': 25,\n",
              "             'months': 80,\n",
              "             'olds': 10,\n",
              "             'desire': 53,\n",
              "             'equally': 89,\n",
              "             'boulevard': 3,\n",
              "             'inject': 18,\n",
              "             'lapa': 1,\n",
              "             'recently': 114,\n",
              "             'usual': 126,\n",
              "             'veterinary': 1,\n",
              "             'unauthentic': 1,\n",
              "             'hand': 248,\n",
              "             'psychologist': 20,\n",
              "             'bugs': 31,\n",
              "             'scene': 713,\n",
              "             'store': 92,\n",
              "             'arnold': 33,\n",
              "             'least': 487,\n",
              "             'offers': 114,\n",
              "             'asshole': 7,\n",
              "             'reaction': 52,\n",
              "             'lunacy': 7,\n",
              "             'following': 148,\n",
              "             'cookiecutter': 6,\n",
              "             'annoying': 136,\n",
              "             'anyone': 327,\n",
              "             'room': 187,\n",
              "             'cacophonous': 1,\n",
              "             'responds': 18,\n",
              "             'loud': 82,\n",
              "             'caughtwithhispantsdown': 1,\n",
              "             'please': 83,\n",
              "             'hairs': 2,\n",
              "             'attitude': 78,\n",
              "             'tells': 205,\n",
              "             'theaters': 77,\n",
              "             'friend': 268,\n",
              "             'exchange': 39,\n",
              "             'take': 601,\n",
              "             'fistfight': 3,\n",
              "             'money': 318,\n",
              "             'entendres': 5,\n",
              "             'comedy': 451,\n",
              "             'grant': 43,\n",
              "             'fear': 105,\n",
              "             'joke': 100,\n",
              "             'beats': 26,\n",
              "             'switch': 27,\n",
              "             'predictable': 142,\n",
              "             'costumed': 7,\n",
              "             'adam': 44,\n",
              "             'eye': 108,\n",
              "             'mr': 147,\n",
              "             'wasted': 104,\n",
              "             'smirnov': 1,\n",
              "             'doctor': 73,\n",
              "             'ithinkiactuallyhave': 1,\n",
              "             'sandlerannoying': 1,\n",
              "             'nonetheless': 44,\n",
              "             'includes': 89,\n",
              "             'acting': 470,\n",
              "             'pregnancychild': 1,\n",
              "             'flutters': 1,\n",
              "             'someone': 283,\n",
              "             'child': 160,\n",
              "             'leave': 184,\n",
              "             'culminating': 10,\n",
              "             'werent': 61,\n",
              "             'onejoke': 11,\n",
              "             'many': 705,\n",
              "             'bad': 688,\n",
              "             'dork': 3,\n",
              "             'every': 611,\n",
              "             'smiles': 12,\n",
              "             'movie': 1380,\n",
              "             'size': 35,\n",
              "             'beside': 15,\n",
              "             'also': 965,\n",
              "             'away': 461,\n",
              "             'english': 103,\n",
              "             'nasty': 64,\n",
              "             'thats': 493,\n",
              "             'volvo': 1,\n",
              "             'slapstick': 48,\n",
              "             'girlfriend': 142,\n",
              "             'needlessly': 11,\n",
              "             'provides': 97,\n",
              "             'way': 916,\n",
              "             'gag': 44,\n",
              "             'adults': 65,\n",
              "             'obscene': 7,\n",
              "             'audience': 554,\n",
              "             'except': 171,\n",
              "             'fact': 525,\n",
              "             'cusacks': 4,\n",
              "             'scriptwriters': 3,\n",
              "             'finds': 258,\n",
              "             'toy': 32,\n",
              "             'paid': 40,\n",
              "             'simultaneous': 3,\n",
              "             'favorite': 121,\n",
              "             'failure': 63,\n",
              "             'shakes': 10,\n",
              "             'didnt': 387,\n",
              "             'unfunny': 72,\n",
              "             'grants': 10,\n",
              "             'coat': 18,\n",
              "             'another': 709,\n",
              "             'faces': 77,\n",
              "             'minutes': 430,\n",
              "             'smile': 64,\n",
              "             'could': 785,\n",
              "             'medicine': 12,\n",
              "             'successful': 147,\n",
              "             'talent': 175,\n",
              "             'obstetrics': 2,\n",
              "             'referring': 18,\n",
              "             'possible': 201,\n",
              "             'psychiatrist': 20,\n",
              "             'stick': 57,\n",
              "             'sentimental': 31,\n",
              "             'cool': 141,\n",
              "             'sentimentality': 13,\n",
              "             'gooding': 14,\n",
              "             'career': 180,\n",
              "             'gorillaslive': 1,\n",
              "             'united': 63,\n",
              "             'prison': 93,\n",
              "             'dubious': 20,\n",
              "             'powell': 4,\n",
              "             'learn': 142,\n",
              "             'convicted': 24,\n",
              "             'furthering': 2,\n",
              "             'donald': 24,\n",
              "             'real': 541,\n",
              "             'airport': 20,\n",
              "             'touch': 92,\n",
              "             'beyond': 149,\n",
              "             'credibility': 28,\n",
              "             'anthony': 50,\n",
              "             'back': 641,\n",
              "             'incapable': 13,\n",
              "             'conversation': 40,\n",
              "             'name': 284,\n",
              "             'touching': 74,\n",
              "             'prove': 88,\n",
              "             'sutherland': 19,\n",
              "             'african': 25,\n",
              "             'day': 390,\n",
              "             'psychotic': 34,\n",
              "             'yoda': 6,\n",
              "             'paragraph': 16,\n",
              "             'told': 167,\n",
              "             'purposefully': 6,\n",
              "             'shrink': 14,\n",
              "             'graphic': 69,\n",
              "             'chick': 24,\n",
              "             'lets': 163,\n",
              "             'eugene': 27,\n",
              "             'hopkins': 26,\n",
              "             'dr': 123,\n",
              "             'detracts': 5,\n",
              "             'allegedly': 11,\n",
              "             'merely': 126,\n",
              "             'project': 135,\n",
              "             'simply': 303,\n",
              "             'purpose': 119,\n",
              "             'review': 217,\n",
              "             'winner': 55,\n",
              "             'theme': 98,\n",
              "             'stands': 94,\n",
              "             'maguire': 17,\n",
              "             'anthropologist': 6,\n",
              "             'states': 82,\n",
              "             'caring': 39,\n",
              "             'phenomenon': 23,\n",
              "             'jon': 49,\n",
              "             'aptly': 14,\n",
              "             'starts': 240,\n",
              "             'john': 424,\n",
              "             'would': 1001,\n",
              "             'dreams': 86,\n",
              "             'aims': 13,\n",
              "             'incompetent': 17,\n",
              "             'brimming': 6,\n",
              "             'silence': 33,\n",
              "             'telling': 102,\n",
              "             'scenery': 35,\n",
              "             'instinct': 33,\n",
              "             'gross': 32,\n",
              "             'harmony': 6,\n",
              "             'heretofore': 6,\n",
              "             'still': 629,\n",
              "             'cuba': 23,\n",
              "             'whilst': 11,\n",
              "             'promotion': 13,\n",
              "             'actually': 533,\n",
              "             'audiences': 152,\n",
              "             'feeling': 167,\n",
              "             'problems': 212,\n",
              "             'screen': 458,\n",
              "             'caulder': 2,\n",
              "             'sympathize': 25,\n",
              "             'mentor': 17,\n",
              "             'hurt': 59,\n",
              "             'vehicle': 55,\n",
              "             'questions': 121,\n",
              "             'alone': 168,\n",
              "             'flaw': 50,\n",
              "             'pego': 3,\n",
              "             'controlled': 27,\n",
              "             'form': 159,\n",
              "             'pointed': 27,\n",
              "             'ultimate': 65,\n",
              "             'tears': 40,\n",
              "             'committing': 10,\n",
              "             'screenwriter': 112,\n",
              "             'delightful': 43,\n",
              "             'assigned': 29,\n",
              "             'actors': 475,\n",
              "             'caulders': 2,\n",
              "             'animals': 42,\n",
              "             'flick': 140,\n",
              "             'prominent': 25,\n",
              "             'aloud': 3,\n",
              "             'instance': 63,\n",
              "             'potential': 139,\n",
              "             'label': 16,\n",
              "             'seem': 400,\n",
              "             'futility': 5,\n",
              "             'powerful': 133,\n",
              "             'threateningly': 1,\n",
              "             'inspire': 10,\n",
              "             'sign': 71,\n",
              "             'depiction': 20,\n",
              "             'filmmakers': 156,\n",
              "             'acts': 61,\n",
              "             'blatantly': 23,\n",
              "             'wonder': 196,\n",
              "             'disappeared': 18,\n",
              "             'talk': 165,\n",
              "             'contrary': 22,\n",
              "             'lambs': 16,\n",
              "             'adams': 39,\n",
              "             'meanie': 2,\n",
              "             'common': 105,\n",
              "             'ethan': 25,\n",
              "             'inevitable': 53,\n",
              "             'story': 953,\n",
              "             'gets': 591,\n",
              "             'greatest': 107,\n",
              "             'worldrenowned': 3,\n",
              "             'cares': 59,\n",
              "             'made': 651,\n",
              "             'surprisingly': 160,\n",
              "             'present': 142,\n",
              "             'patch': 22,\n",
              "             'mainstream': 40,\n",
              "             'bully': 11,\n",
              "             'performance': 538,\n",
              "             'insult': 34,\n",
              "             'discourage': 3,\n",
              "             'instincts': 21,\n",
              "             'part': 474,\n",
              "             'love': 571,\n",
              "             'coming': 206,\n",
              "             'unacceptable': 4,\n",
              "             'says': 191,\n",
              "             'shamelessly': 11,\n",
              "             'come': 532,\n",
              "             'tone': 112,\n",
              "             'sense': 373,\n",
              "             'fixed': 6,\n",
              "             'filmmaker': 60,\n",
              "             'straight': 137,\n",
              "             'completely': 314,\n",
              "             'today': 87,\n",
              "             'jr': 58,\n",
              "             'excuse': 63,\n",
              "             'patient': 33,\n",
              "             'great': 620,\n",
              "             'resort': 17,\n",
              "             'trying': 396,\n",
              "             'beginning': 213,\n",
              "             'reads': 36,\n",
              "             'nature': 139,\n",
              "             'figure': 152,\n",
              "             'brilliant': 140,\n",
              "             'bright': 79,\n",
              "             'save': 204,\n",
              "             'esophagus': 2,\n",
              "             'years': 612,\n",
              "             'chews': 7,\n",
              "             'arent': 203,\n",
              "             'policemen': 7,\n",
              "             'make': 903,\n",
              "             'believe': 276,\n",
              "             'guy': 362,\n",
              "             'experienced': 32,\n",
              "             'brutal': 41,\n",
              "             'execution': 39,\n",
              "             'moviegoers': 25,\n",
              "             'novikov': 3,\n",
              "             'listen': 34,\n",
              "             'venture': 25,\n",
              "             'ward': 18,\n",
              "             'asks': 97,\n",
              "             'dares': 11,\n",
              "             'hearts': 23,\n",
              "             'gerald': 5,\n",
              "             'di': 8,\n",
              "             'authorities': 25,\n",
              "             'jungles': 4,\n",
              "             'abovepar': 2,\n",
              "             'evaluation': 4,\n",
              "             'deal': 168,\n",
              "             'capture': 45,\n",
              "             'prisons': 5,\n",
              "             'psychotics': 3,\n",
              "             'regular': 50,\n",
              "             'rebel': 16,\n",
              "             'somebody': 32,\n",
              "             'shred': 9,\n",
              "             'theo': 3,\n",
              "             'sort': 214,\n",
              "             'inspired': 78,\n",
              "             'undoubtedly': 20,\n",
              "             'murdered': 47,\n",
              "             'liked': 124,\n",
              "             'ever': 502,\n",
              "             'fails': 117,\n",
              "             'appalls': 1,\n",
              "             'well': 901,\n",
              "             'however': 581,\n",
              "             'brings': 163,\n",
              "             'helping': 34,\n",
              "             'literally': 85,\n",
              "             'insulting': 25,\n",
              "             'already': 236,\n",
              "             'unfortunately': 291,\n",
              "             'travolta': 41,\n",
              "             'inexperienced': 5,\n",
              "             'seen': 566,\n",
              "             'turteltaub': 1,\n",
              "             'looks': 327,\n",
              "             'demonstrated': 14,\n",
              "             'oscar': 139,\n",
              "             'killer': 135,\n",
              "             'research': 37,\n",
              "             'heartless': 14,\n",
              "             'vomit': 5,\n",
              "             'example': 237,\n",
              "             'runnings': 2,\n",
              "             'jerry': 70,\n",
              "             'characters': 906,\n",
              "             'africa': 23,\n",
              "             'mentioned': 69,\n",
              "             'pronounced': 9,\n",
              "             'cant': 442,\n",
              "             'beaten': 23,\n",
              "             'producers': 66,\n",
              "             'unrelated': 12,\n",
              "             'bregman': 2,\n",
              "             'unique': 90,\n",
              "             'fbi': 53,\n",
              "             'medium': 21,\n",
              "             'penchant': 15,\n",
              "             'bo': 8,\n",
              "             'solve': 28,\n",
              "             'mic': 1,\n",
              "             'perhaps': 336,\n",
              "             'use': 292,\n",
              "             'aside': 102,\n",
              "             'laughable': 63,\n",
              "             'dietl': 2,\n",
              "             'investigated': 4,\n",
              "             'gershon': 9,\n",
              "             'death': 275,\n",
              "             'lacks': 76,\n",
              "             'gambling': 23,\n",
              "             'performances': 329,\n",
              "             'screams': 37,\n",
              "             'michael': 239,\n",
              "             'agents': 34,\n",
              "             'twice': 80,\n",
              "             'parking': 13,\n",
              "             'association': 10,\n",
              "             'partner': 76,\n",
              "             'picture': 366,\n",
              "             'stories': 115,\n",
              "             'afternoon': 16,\n",
              "             'asked': 80,\n",
              "             'loser': 32,\n",
              "             'ammo': 2,\n",
              "             'hardass': 4,\n",
              "             'though': 574,\n",
              "             'job': 377,\n",
              "             'saw': 187,\n",
              "             'tracking': 18,\n",
              "             'decent': 129,\n",
              "             'impression': 73,\n",
              "             'wanted': 117,\n",
              "             'baldwin': 36,\n",
              "             'sidney': 24,\n",
              "             'accept': 59,\n",
              "             'near': 140,\n",
              "             'providing': 42,\n",
              "             'fine': 219,\n",
              "             'problem': 297,\n",
              "             'whatever': 119,\n",
              "             'mesh': 6,\n",
              "             'pretty': 357,\n",
              "             'sean': 64,\n",
              "             'early': 217,\n",
              "             'lumet': 6,\n",
              "             'mix': 68,\n",
              "             'ny': 7,\n",
              "             'addicted': 13,\n",
              "             'brother': 139,\n",
              "             'solved': 11,\n",
              "             'create': 143,\n",
              "             'guess': 174,\n",
              "             'classic': 207,\n",
              "             'mafia': 23,\n",
              "             'hoping': 66,\n",
              "             'woman': 323,\n",
              "             'case': 284,\n",
              "             'nun': 6,\n",
              "             'explain': 81,\n",
              "             'formulaic': 31,\n",
              "             'middle': 161,\n",
              "             'penn': 21,\n",
              "             'raped': 19,\n",
              "             'shifts': 25,\n",
              "             'mcglone': 1,\n",
              "             'able': 264,\n",
              "             'boom': 8,\n",
              "             'mind': 310,\n",
              "             'isnt': 557,\n",
              "             'miserably': 23,\n",
              "             'produced': 101,\n",
              "             'times': 411,\n",
              "             'sure': 362,\n",
              "             'drunk': 44,\n",
              "             'fatale': 9,\n",
              "             'spends': 77,\n",
              "             'half': 261,\n",
              "             'slips': 23,\n",
              "             'dog': 120,\n",
              "             'pop': 80,\n",
              "             'alec': 23,\n",
              "             'stay': 138,\n",
              "             'title': 225,\n",
              "             'renegade': 14,\n",
              "             'trapped': 41,\n",
              "             'top': 217,\n",
              "             'shot': 216,\n",
              "             'throw': 76,\n",
              "             'deedle': 2,\n",
              "             'marty': 8,\n",
              "             'lumets': 7,\n",
              "             'guys': 202,\n",
              "             'lacking': 53,\n",
              "             'duke': 11,\n",
              "             'tough': 76,\n",
              "             'mafioso': 5,\n",
              "             'warned': 23,\n",
              "             'immune': 6,\n",
              "             'neat': 30,\n",
              "             'sex': 227,\n",
              "             'issue': 42,\n",
              "             'frame': 56,\n",
              "             'due': 151,\n",
              "             'femme': 18,\n",
              "             'new': 688,\n",
              "             'tickets': 16,\n",
              "             'collecting': 6,\n",
              "             'nothing': 524,\n",
              "             'focus': 123,\n",
              "             'try': 230,\n",
              "             'notice': 70,\n",
              "             'masterful': 23,\n",
              "             'hour': 209,\n",
              "             'serpico': 5,\n",
              "             'cop': 99,\n",
              "             'hero': 173,\n",
              "             'plenty': 100,\n",
              "             'greenlight': 4,\n",
              "             'credits': 151,\n",
              "             'dune': 7,\n",
              "             'safety': 27,\n",
              "             'tossed': 24,\n",
              "             'machine': 74,\n",
              "             'experts': 5,\n",
              "             'incite': 3,\n",
              "             'travoltas': 14,\n",
              "             'bill': 107,\n",
              "             'radioactive': 3,\n",
              "             'runner': 19,\n",
              "             'titled': 22,\n",
              "             'gunandplane': 1,\n",
              "             'behavior': 44,\n",
              "             'manages': 205,\n",
              "             'attain': 3,\n",
              "             'cross': 52,\n",
              "             'humans': 82,\n",
              "             'taken': 181,\n",
              "             'rest': 331,\n",
              "             'lumbering': 4,\n",
              "             'independence': 39,\n",
              "             'lines': 241,\n",
              "             'dutch': 8,\n",
              "             'necessary': 83,\n",
              "             'letting': 38,\n",
              "             'soleil': 1,\n",
              "             'cast': 482,\n",
              "             'beast': 36,\n",
              "             'forces': 78,\n",
              "             'terel': 1,\n",
              "             'small': 295,\n",
              "             'captured': 51,\n",
              "             'end': 663,\n",
              "             'blade': 35,\n",
              "             'beastmaster': 1,\n",
              "             'star': 358,\n",
              "             'become': 377,\n",
              "             'novels': 20,\n",
              "             'either': 296,\n",
              "             'exposed': 21,\n",
              "             'feature': 159,\n",
              "             'costs': 20,\n",
              "             'terels': 1,\n",
              "             'circumventing': 1,\n",
              "             'race': 79,\n",
              "             'named': 262,\n",
              "             'matrix': 35,\n",
              "             'ability': 114,\n",
              "             'jamaican': 6,\n",
              "             'city': 211,\n",
              "             'flair': 29,\n",
              "             'attempts': 175,\n",
              "             'american': 292,\n",
              "             'basketball': 24,\n",
              "             'barbarino': 1,\n",
              "             'battle': 137,\n",
              "             'fly': 54,\n",
              "             'klingon': 6,\n",
              "             'harrier': 1,\n",
              "             'psychlo': 5,\n",
              "             'revolt': 3,\n",
              "             'hasnt': 81,\n",
              "             'subplot': 101,\n",
              "             'wipe': 6,\n",
              "             'cities': 21,\n",
              "             'mining': 20,\n",
              "             'group': 239,\n",
              "             'slave': 27,\n",
              "             'omega': 3,\n",
              "             'christian': 40,\n",
              "             'achieving': 11,\n",
              "             'obnoxious': 41,\n",
              "             'episodes': 36,\n",
              "             'extras': 21,\n",
              "             'base': 38,\n",
              "             'assumed': 11,\n",
              "             'weird': 69,\n",
              "             'scifi': 77,\n",
              "             'goodboy': 4,\n",
              "             'tricky': 12,\n",
              "             'rented': 12,\n",
              "             'sounds': 107,\n",
              "             'jonnie': 3,\n",
              "             'uncover': 16,\n",
              "             'alien': 119,\n",
              "             'concludes': 10,\n",
              "             'left': 337,\n",
              "             'fight': 190,\n",
              "             'wallace': 14,\n",
              "             'particular': 122,\n",
              "             'working': 170,\n",
              "             'jet': 20,\n",
              "             'aliens': 87,\n",
              "             'perfect': 220,\n",
              "             'prisoner': 31,\n",
              "             'dwell': 5,\n",
              "             'sciencefiction': 15,\n",
              "             'ensemble': 45,\n",
              "             'conquest': 4,\n",
              "             'called': 267,\n",
              "             'clown': 21,\n",
              "             'located': 11,\n",
              "             'miningslave': 1,\n",
              "             'truth': 108,\n",
              "             'tyler': 22,\n",
              "             'guild': 3,\n",
              "             'stripmining': 1,\n",
              "             'maximumsecurity': 1,\n",
              "             'battlefield': 17,\n",
              "             'reminded': 50,\n",
              "             'airwolf': 2,\n",
              "             'caves': 4,\n",
              "             'ambitious': 27,\n",
              "             'vein': 13,\n",
              "             'bloated': 12,\n",
              "             'convinces': 28,\n",
              "             'trigonometry': 1,\n",
              "             'must': 443,\n",
              "             'teeth': 31,\n",
              "             'leader': 84,\n",
              "             'tools': 7,\n",
              "             'security': 59,\n",
              "             'several': 303,\n",
              "             'roger': 76,\n",
              "             'teaches': 20,\n",
              "             'heres': 61,\n",
              "             'apes': 17,\n",
              "             'angle': 43,\n",
              "             'band': 68,\n",
              "             'teaching': 25,\n",
              "             'shoots': 35,\n",
              "             'earth': 145,\n",
              "             'william': 123,\n",
              "             'rogue': 13,\n",
              "             'ends': 213,\n",
              "             'avoid': 81,\n",
              "             'escape': 118,\n",
              "             'dramatic': 146,\n",
              "             'placed': 61,\n",
              "             'maybe': 245,\n",
              "             'rockies': 4,\n",
              "             'johnnie': 1,\n",
              "             'difficult': 160,\n",
              "             'rights': 28,\n",
              "             'gun': 91,\n",
              "             'underhanded': 3,\n",
              "             'white': 180,\n",
              "             'actor': 350,\n",
              "             'endangered': 7,\n",
              "             'reason': 323,\n",
              "             'tight': 40,\n",
              "             'disbeliefs': 1,\n",
              "             'disaster': 82,\n",
              "             'act': 209,\n",
              "             'achieve': 29,\n",
              "             'human': 260,\n",
              "             'always': 388,\n",
              "             'species': 41,\n",
              "             ...})"
            ]
          },
          "execution_count": 36,
          "metadata": {},
          "output_type": "execute_result"
        }
      ],
      "source": [
        "tokenizer.word_docs"
      ]
    },
    {
      "cell_type": "code",
      "execution_count": 37,
      "metadata": {
        "colab": {
          "base_uri": "https://localhost:8080/"
        },
        "id": "koN9PPHyRBJN",
        "outputId": "af70157e-0715-4591-84cd-c7e6a24917a9"
      },
      "outputs": [
        {
          "name": "stdout",
          "output_type": "stream",
          "text": [
            "Model: \"sequential_1\"\n",
            "_________________________________________________________________\n",
            " Layer (type)                Output Shape              Param #   \n",
            "=================================================================\n",
            " dense_2 (Dense)             (None, 50)                2213900   \n",
            "                                                                 \n",
            " dense_3 (Dense)             (None, 1)                 51        \n",
            "                                                                 \n",
            "=================================================================\n",
            "Total params: 2213951 (8.45 MB)\n",
            "Trainable params: 2213951 (8.45 MB)\n",
            "Non-trainable params: 0 (0.00 Byte)\n",
            "_________________________________________________________________\n"
          ]
        }
      ],
      "source": [
        "# define network\n",
        "n_words = x_train.shape[1]\n",
        "model = define_model(n_words)"
      ]
    },
    {
      "cell_type": "code",
      "execution_count": 38,
      "metadata": {
        "colab": {
          "base_uri": "https://localhost:8080/"
        },
        "id": "4EisSPMKRMVe",
        "outputId": "9a620810-2f07-4362-bfca-32c512aab417"
      },
      "outputs": [
        {
          "name": "stdout",
          "output_type": "stream",
          "text": [
            "Epoch 1/10\n",
            "362/362 [==============================] - 3s 3ms/step - loss: 0.4223 - accuracy: 0.7994\n",
            "Epoch 2/10\n",
            "362/362 [==============================] - 1s 3ms/step - loss: 0.0203 - accuracy: 0.9967\n",
            "Epoch 3/10\n",
            "362/362 [==============================] - 1s 4ms/step - loss: 0.0029 - accuracy: 1.0000\n",
            "Epoch 4/10\n",
            "362/362 [==============================] - 2s 4ms/step - loss: 9.6478e-04 - accuracy: 1.0000\n",
            "Epoch 5/10\n",
            "362/362 [==============================] - 1s 4ms/step - loss: 3.8530e-04 - accuracy: 1.0000\n",
            "Epoch 6/10\n",
            "362/362 [==============================] - 1s 4ms/step - loss: 2.0071e-04 - accuracy: 1.0000\n",
            "Epoch 7/10\n",
            "362/362 [==============================] - 1s 3ms/step - loss: 1.2303e-04 - accuracy: 1.0000\n",
            "Epoch 8/10\n",
            "362/362 [==============================] - 1s 3ms/step - loss: 8.0805e-05 - accuracy: 1.0000\n",
            "Epoch 9/10\n",
            "362/362 [==============================] - 1s 3ms/step - loss: 5.5683e-05 - accuracy: 1.0000\n",
            "Epoch 10/10\n",
            "362/362 [==============================] - 1s 3ms/step - loss: 3.9913e-05 - accuracy: 1.0000\n"
          ]
        },
        {
          "data": {
            "text/plain": [
              "<keras.src.callbacks.History at 0x7a566bd1d120>"
            ]
          },
          "execution_count": 38,
          "metadata": {},
          "output_type": "execute_result"
        }
      ],
      "source": [
        "model.fit(x_train, np.array(train_labels), epochs = 10, batch_size=5)"
      ]
    },
    {
      "cell_type": "code",
      "execution_count": 39,
      "metadata": {
        "colab": {
          "base_uri": "https://localhost:8080/",
          "height": 404
        },
        "id": "lTwBiJCyjSjm",
        "outputId": "ff74c519-de7a-4bf2-eaac-864de60858f6"
      },
      "outputs": [
        {
          "data": {
            "image/png": "[encoded data removed]",
            "text/plain": [
              "<IPython.core.display.Image object>"
            ]
          },
          "execution_count": 39,
          "metadata": {},
          "output_type": "execute_result"
        }
      ],
      "source": [
        "plot_model(model, show_dtype=True, show_layer_activations = True, show_shapes = True, show_layer_names=True)"
      ]
    },
    {
      "cell_type": "code",
      "execution_count": 40,
      "metadata": {
        "colab": {
          "base_uri": "https://localhost:8080/"
        },
        "id": "zh_KU9pNjjKR",
        "outputId": "4720fde0-b57b-4b7a-8f59-66c02317664d"
      },
      "outputs": [
        {
          "name": "stdout",
          "output_type": "stream",
          "text": [
            "200/200 [==============================] - 1s 2ms/step - loss: 0.2460 - accuracy: 0.9100\n"
          ]
        },
        {
          "data": {
            "text/plain": [
              "[0.24600547552108765, 0.9100000262260437]"
            ]
          },
          "execution_count": 40,
          "metadata": {},
          "output_type": "execute_result"
        }
      ],
      "source": [
        "model.evaluate(x_test,np.array(test_labels), batch_size=1)"
      ]
    },
    {
      "cell_type": "code",
      "execution_count": 78,
      "metadata": {
        "id": "CVsvTFm2nPro"
      },
      "outputs": [],
      "source": [
        "text1 = 'Best movie ever! It was great, I will definitely recommend it.'\n",
        "text2 = 'This is a bad movie.'\n",
        "text3 = 'This is a best movie'\n",
        "text4 = 'The acting was bad in this movie'"
      ]
    },
    {
      "cell_type": "code",
      "execution_count": 63,
      "metadata": {
        "colab": {
          "base_uri": "https://localhost:8080/"
        },
        "id": "E_cQlj4rn6gH",
        "outputId": "d5eb4ef5-576d-43a3-c0c3-736d64de3f5d"
      },
      "outputs": [
        {
          "data": {
            "text/plain": [
              "(200, 44277)"
            ]
          },
          "execution_count": 63,
          "metadata": {},
          "output_type": "execute_result"
        }
      ],
      "source": [
        "x_test = tokenizer.texts_to_matrix(test, mode = 'binary')\n",
        "x_test.shape"
      ]
    },
    {
      "cell_type": "code",
      "execution_count": 71,
      "metadata": {
        "id": "Tr32fyTSn7Dq"
      },
      "outputs": [],
      "source": [
        "def predict(text):\n",
        "  tokens = clean_doc(text)\n",
        "  text = \" \".join(tokens)\n",
        "  x_test = tokenizer.texts_to_matrix([text], mode = 'binary')\n",
        "  prediction = model.predict(x_test)\n",
        "  if prediction >= 0.5:\n",
        "    return 'Positive'\n",
        "  else:\n",
        "     return 'Negative'\n"
      ]
    },
    {
      "cell_type": "code",
      "execution_count": 72,
      "metadata": {
        "colab": {
          "base_uri": "https://localhost:8080/",
          "height": 53
        },
        "id": "yKI4poDDoFTt",
        "outputId": "82a91137-4f2b-4824-ab7a-df3c160a93a0"
      },
      "outputs": [
        {
          "name": "stdout",
          "output_type": "stream",
          "text": [
            "1/1 [==============================] - 0s 25ms/step\n"
          ]
        },
        {
          "data": {
            "application/vnd.google.colaboratory.intrinsic+json": {
              "type": "string"
            },
            "text/plain": [
              "'Positive'"
            ]
          },
          "execution_count": 72,
          "metadata": {},
          "output_type": "execute_result"
        }
      ],
      "source": [
        "predict(text1)"
      ]
    },
    {
      "cell_type": "code",
      "execution_count": 73,
      "metadata": {
        "colab": {
          "base_uri": "https://localhost:8080/",
          "height": 53
        },
        "id": "6K-8_QhLpors",
        "outputId": "3ae193b7-9b9e-46b6-ca98-dd0da56aaed8"
      },
      "outputs": [
        {
          "name": "stdout",
          "output_type": "stream",
          "text": [
            "1/1 [==============================] - 0s 19ms/step\n"
          ]
        },
        {
          "data": {
            "application/vnd.google.colaboratory.intrinsic+json": {
              "type": "string"
            },
            "text/plain": [
              "'Negative'"
            ]
          },
          "execution_count": 73,
          "metadata": {},
          "output_type": "execute_result"
        }
      ],
      "source": [
        "predict(text2)"
      ]
    },
    {
      "cell_type": "code",
      "execution_count": 79,
      "metadata": {
        "colab": {
          "base_uri": "https://localhost:8080/",
          "height": 53
        },
        "id": "cnx0ETKTp__R",
        "outputId": "b3a32463-3e12-4479-a016-967f4ecd36da"
      },
      "outputs": [
        {
          "name": "stdout",
          "output_type": "stream",
          "text": [
            "1/1 [==============================] - 0s 18ms/step\n"
          ]
        },
        {
          "data": {
            "application/vnd.google.colaboratory.intrinsic+json": {
              "type": "string"
            },
            "text/plain": [
              "'Positive'"
            ]
          },
          "execution_count": 79,
          "metadata": {},
          "output_type": "execute_result"
        }
      ],
      "source": [
        "predict(text3)"
      ]
    },
    {
      "cell_type": "code",
      "execution_count": 75,
      "metadata": {
        "colab": {
          "base_uri": "https://localhost:8080/",
          "height": 53
        },
        "id": "vDGylpSzqaUV",
        "outputId": "17a85578-afc6-4ba5-8002-e4115ffb01d7"
      },
      "outputs": [
        {
          "name": "stdout",
          "output_type": "stream",
          "text": [
            "1/1 [==============================] - 0s 28ms/step\n"
          ]
        },
        {
          "data": {
            "application/vnd.google.colaboratory.intrinsic+json": {
              "type": "string"
            },
            "text/plain": [
              "'Negative'"
            ]
          },
          "execution_count": 75,
          "metadata": {},
          "output_type": "execute_result"
        }
      ],
      "source": [
        "predict(text4)"
      ]
    },
    {
      "cell_type": "code",
      "execution_count": 80,
      "metadata": {
        "id": "sRNI6mcqq_M6"
      },
      "outputs": [],
      "source": [
        "# classify a review a negative or positive\n",
        "def predict_sentiment(review):\n",
        "  #clean\n",
        "  tokens = clean_doc(review)\n",
        "  # Convert to line\n",
        "  line = ' '.join(tokens)\n",
        "  # encode\n",
        "  encoded = tokenizer.texts_to_matrix([line], mode = 'binary')\n",
        "  # predict sentiment\n",
        "  yhat = model.predict(encoded, verbose=0)\n",
        "  # retrieve predicted percentage and lable\n",
        "  percent_pos = yhat[0 ,0]\n",
        "  if round(percent_pos) == 0:\n",
        "    return (1-percent_pos), 'NEGATIVE'\n",
        "  return percent_pos, \"POSITIVE\""
      ]
    },
    {
      "cell_type": "code",
      "execution_count": null,
      "metadata": {
        "colab": {
          "base_uri": "https://localhost:8080/"
        },
        "id": "nqurY1j7sDQc",
        "outputId": "1725189f-8ea9-4f01-9c71-b3959fc82a71"
      },
      "outputs": [
        {
          "name": "stdout",
          "output_type": "stream",
          "text": [
            "Review: [%s]\n",
            " Sentiment: &s (%.3f%%) Best movie ever! It was great, I will definitely recommend it. POSITIVE 0.72520405\n"
          ]
        }
      ],
      "source": [
        "percent, sentiment = predict_sentiment(text1)\n",
        "print('Review: [%s]\\n Sentiment: %s (%.3f%%)' % (text1, sentiment, percent))"
      ]
    },
    {
      "cell_type": "code",
      "execution_count": 82,
      "metadata": {
        "colab": {
          "base_uri": "https://localhost:8080/"
        },
        "id": "jbi_y8oIsIPj",
        "outputId": "199a13de-14a4-43c2-a5ab-db6989f9bb36"
      },
      "outputs": [
        {
          "data": {
            "text/plain": [
              "(0.6657558083534241, 'NEGATIVE')"
            ]
          },
          "execution_count": 82,
          "metadata": {},
          "output_type": "execute_result"
        }
      ],
      "source": [
        "percent, sentiment = predict_sentiment(text2)\n",
        "print(f'Review: [{text1}]\\n Sentiment: {sentiment} ({percent:.3f}%)')"
      ]
    },
    {
      "cell_type": "code",
      "execution_count": 83,
      "metadata": {
        "colab": {
          "base_uri": "https://localhost:8080/"
        },
        "id": "nn0oMfRrsKSD",
        "outputId": "aefae063-d34f-42bc-e81b-7a24e62b0297"
      },
      "outputs": [
        {
          "data": {
            "text/plain": [
              "(0.5419083, 'POSITIVE')"
            ]
          },
          "execution_count": 83,
          "metadata": {},
          "output_type": "execute_result"
        }
      ],
      "source": [
        "predict_sentiment(text3)"
      ]
    },
    {
      "cell_type": "code",
      "execution_count": 84,
      "metadata": {
        "colab": {
          "base_uri": "https://localhost:8080/"
        },
        "id": "t7d3ebFfsMda",
        "outputId": "2a728be0-83de-4f47-c054-7aa176138661"
      },
      "outputs": [
        {
          "data": {
            "text/plain": [
              "(0.7179630398750305, 'NEGATIVE')"
            ]
          },
          "execution_count": 84,
          "metadata": {},
          "output_type": "execute_result"
        }
      ],
      "source": [
        "predict_sentiment(text4)"
      ]
    }
  ],
  "metadata": {
    "accelerator": "GPU",
    "colab": {
      "gpuType": "T4",
      "provenance": []
    },
    "kernelspec": {
      "display_name": "Python 3",
      "name": "python3"
    },
    "language_info": {
      "codemirror_mode": {
        "name": "ipython",
        "version": 3
      },
      "file_extension": ".py",
      "mimetype": "text/x-python",
      "name": "python",
      "nbconvert_exporter": "python",
      "pygments_lexer": "ipython3",
      "version": "3.11.5"
    }
  },
  "nbformat": 4,
  "nbformat_minor": 0
}
