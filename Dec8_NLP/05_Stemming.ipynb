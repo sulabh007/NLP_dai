{
 "cells": [
  {
   "cell_type": "markdown",
   "metadata": {},
   "source": [
    "#### Porter Stemmer"
   ]
  },
  {
   "cell_type": "code",
   "execution_count": 2,
   "metadata": {},
   "outputs": [],
   "source": [
    "word1 = 'cat', 'catty', 'catlike', 'cats'\n",
    "word2 = 'playing', 'plays', 'played', 'players'\n",
    "word3 = 'go', 'went', 'gone', 'going', 'goes'\n",
    "word4 = 'goods', 'better', 'best', 'fasting', 'reachable'\n",
    "word5 = 'program', 'programmed', 'programming', 'programatic'"
   ]
  },
  {
   "cell_type": "code",
   "execution_count": 3,
   "metadata": {},
   "outputs": [],
   "source": [
    "from nltk.stem import PorterStemmer"
   ]
  },
  {
   "cell_type": "code",
   "execution_count": 4,
   "metadata": {},
   "outputs": [],
   "source": [
    "ps = PorterStemmer()"
   ]
  },
  {
   "cell_type": "code",
   "execution_count": 14,
   "metadata": {},
   "outputs": [
    {
     "data": {
      "text/plain": [
       "'program'"
      ]
     },
     "execution_count": 14,
     "metadata": {},
     "output_type": "execute_result"
    }
   ],
   "source": [
    "ps.stem(word5[1])"
   ]
  },
  {
   "cell_type": "code",
   "execution_count": 24,
   "metadata": {},
   "outputs": [
    {
     "name": "stdout",
     "output_type": "stream",
     "text": [
      "cat  -  cat\n",
      "catty  -  catti\n",
      "catlike  -  catlik\n",
      "cats  -  cat\n"
     ]
    }
   ],
   "source": [
    "for word in word1:\n",
    "    print(word,' - ',ps.stem(word))"
   ]
  },
  {
   "cell_type": "code",
   "execution_count": 23,
   "metadata": {},
   "outputs": [
    {
     "name": "stdout",
     "output_type": "stream",
     "text": [
      "playing  -  play\n",
      "plays  -  play\n",
      "played  -  play\n",
      "players  -  player\n"
     ]
    }
   ],
   "source": [
    "for word in word2:\n",
    "    print(word,' - ',ps.stem(word))"
   ]
  },
  {
   "cell_type": "code",
   "execution_count": 22,
   "metadata": {},
   "outputs": [
    {
     "name": "stdout",
     "output_type": "stream",
     "text": [
      "go  -  go\n",
      "went  -  went\n",
      "gone  -  gone\n",
      "going  -  go\n",
      "goes  -  goe\n"
     ]
    }
   ],
   "source": [
    "for word in word3:\n",
    "    print(word,' - ',ps.stem(word))"
   ]
  },
  {
   "cell_type": "code",
   "execution_count": 21,
   "metadata": {},
   "outputs": [
    {
     "name": "stdout",
     "output_type": "stream",
     "text": [
      "goods  -  good\n",
      "better  -  better\n",
      "best  -  best\n",
      "fasting  -  fast\n",
      "reachable  -  reachabl\n"
     ]
    }
   ],
   "source": [
    "for word in word4:\n",
    "    print(word,' - ',ps.stem(word))"
   ]
  },
  {
   "cell_type": "code",
   "execution_count": 20,
   "metadata": {},
   "outputs": [
    {
     "name": "stdout",
     "output_type": "stream",
     "text": [
      "program  -  program\n",
      "programmed  -  program\n",
      "programming  -  program\n",
      "programatic  -  programat\n"
     ]
    }
   ],
   "source": [
    "for word in word5:\n",
    "    print(word,' - ',ps.stem(word))"
   ]
  },
  {
   "cell_type": "markdown",
   "metadata": {},
   "source": [
    "#### Lancaster Stemmer"
   ]
  },
  {
   "cell_type": "code",
   "execution_count": 25,
   "metadata": {},
   "outputs": [],
   "source": [
    "from nltk.stem import LancasterStemmer"
   ]
  },
  {
   "cell_type": "code",
   "execution_count": 26,
   "metadata": {},
   "outputs": [],
   "source": [
    "ls = LancasterStemmer()"
   ]
  },
  {
   "cell_type": "code",
   "execution_count": 28,
   "metadata": {},
   "outputs": [
    {
     "name": "stdout",
     "output_type": "stream",
     "text": [
      "cat  -  cat\n",
      "catty  -  catty\n",
      "catlike  -  catlik\n",
      "cats  -  cat\n"
     ]
    }
   ],
   "source": [
    "for word in word1:\n",
    "    print(word,' - ',ls.stem(word))"
   ]
  },
  {
   "cell_type": "code",
   "execution_count": 29,
   "metadata": {},
   "outputs": [
    {
     "name": "stdout",
     "output_type": "stream",
     "text": [
      "playing  -  play\n",
      "plays  -  play\n",
      "played  -  play\n",
      "players  -  play\n"
     ]
    }
   ],
   "source": [
    "for word in word2:\n",
    "    print(word,' - ',ls.stem(word))"
   ]
  },
  {
   "cell_type": "code",
   "execution_count": 30,
   "metadata": {},
   "outputs": [
    {
     "name": "stdout",
     "output_type": "stream",
     "text": [
      "go  -  go\n",
      "went  -  went\n",
      "gone  -  gon\n",
      "going  -  going\n",
      "goes  -  goe\n"
     ]
    }
   ],
   "source": [
    "for word in word3:\n",
    "    print(word,' - ',ls.stem(word))"
   ]
  },
  {
   "cell_type": "code",
   "execution_count": 31,
   "metadata": {},
   "outputs": [
    {
     "name": "stdout",
     "output_type": "stream",
     "text": [
      "goods  -  good\n",
      "better  -  bet\n",
      "best  -  best\n",
      "fasting  -  fast\n",
      "reachable  -  reach\n"
     ]
    }
   ],
   "source": [
    "for word in word4:\n",
    "    print(word,' - ',ls.stem(word))"
   ]
  },
  {
   "cell_type": "code",
   "execution_count": 32,
   "metadata": {},
   "outputs": [
    {
     "name": "stdout",
     "output_type": "stream",
     "text": [
      "program  -  program\n",
      "programmed  -  program\n",
      "programming  -  program\n",
      "programatic  -  program\n"
     ]
    }
   ],
   "source": [
    "for word in word5:\n",
    "    print(word,' - ',ls.stem(word))"
   ]
  }
 ],
 "metadata": {
  "kernelspec": {
   "display_name": "NLP",
   "language": "python",
   "name": "python3"
  },
  "language_info": {
   "codemirror_mode": {
    "name": "ipython",
    "version": 3
   },
   "file_extension": ".py",
   "mimetype": "text/x-python",
   "name": "python",
   "nbconvert_exporter": "python",
   "pygments_lexer": "ipython3",
   "version": "3.11.5"
  }
 },
 "nbformat": 4,
 "nbformat_minor": 2
}
