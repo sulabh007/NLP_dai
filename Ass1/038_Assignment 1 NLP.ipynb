{
 "cells": [
  {
   "cell_type": "markdown",
   "metadata": {},
   "source": [
    "# <center>Assignment 1</center> "
   ]
  },
  {
   "cell_type": "markdown",
   "metadata": {},
   "source": [
    "Name : Viraj Patil\n",
    "\n",
    "PRN  : 230940128038 "
   ]
  },
  {
   "cell_type": "markdown",
   "metadata": {},
   "source": [
    "Q.1\n",
    "\n",
    "sent = 'They told that their ages are 23, 25 and 29 respectively.'\n",
    "\n",
    "#1. Find the average of ages.\n",
    "\n",
    "#2. Count total number of words starts with 't'/'T'\n",
    "\n",
    "#3. Count total punctuation symbols.\n",
    "\n",
    "#4. Print the words in capital letter which ends with 'd'\n",
    "\n",
    "#5. Merge all the words and print (no punctuations)"
   ]
  },
  {
   "cell_type": "code",
   "execution_count": 1,
   "metadata": {},
   "outputs": [
    {
     "data": {
      "text/plain": [
       "'!\"#$%&\\'()*+,-./:;<=>?@[\\\\]^_`{|}~'"
      ]
     },
     "execution_count": 1,
     "metadata": {},
     "output_type": "execute_result"
    }
   ],
   "source": [
    "from nltk.tokenize import word_tokenize\n",
    "import string\n",
    "string.punctuation"
   ]
  },
  {
   "cell_type": "markdown",
   "metadata": {},
   "source": [
    "#1. Find the average of ages."
   ]
  },
  {
   "cell_type": "code",
   "execution_count": 2,
   "metadata": {},
   "outputs": [
    {
     "data": {
      "text/plain": [
       "['They',\n",
       " 'told',\n",
       " 'that',\n",
       " 'their',\n",
       " 'ages',\n",
       " 'are',\n",
       " '23',\n",
       " ',',\n",
       " '25',\n",
       " 'and',\n",
       " '29',\n",
       " 'respectively',\n",
       " '.']"
      ]
     },
     "execution_count": 2,
     "metadata": {},
     "output_type": "execute_result"
    }
   ],
   "source": [
    "sent = 'They told that their ages are 23, 25 and 29 respectively.'\n",
    "lst = word_tokenize(sent)\n",
    "lst"
   ]
  },
  {
   "cell_type": "code",
   "execution_count": 3,
   "metadata": {},
   "outputs": [
    {
     "data": {
      "text/plain": [
       "[23, 25, 29]"
      ]
     },
     "execution_count": 3,
     "metadata": {},
     "output_type": "execute_result"
    }
   ],
   "source": [
    "num = []\n",
    "for i in lst:\n",
    "    if i.isnumeric():\n",
    "        num.append(int(i))\n",
    "        \n",
    "num"
   ]
  },
  {
   "cell_type": "code",
   "execution_count": 4,
   "metadata": {},
   "outputs": [
    {
     "data": {
      "text/plain": [
       "25.666666666666668"
      ]
     },
     "execution_count": 4,
     "metadata": {},
     "output_type": "execute_result"
    }
   ],
   "source": [
    "avg = sum(num)/len(num)\n",
    "avg"
   ]
  },
  {
   "cell_type": "markdown",
   "metadata": {},
   "source": [
    "#2. Count total number of words starts with 't'/'T'"
   ]
  },
  {
   "cell_type": "code",
   "execution_count": 5,
   "metadata": {},
   "outputs": [
    {
     "data": {
      "text/plain": [
       "4"
      ]
     },
     "execution_count": 5,
     "metadata": {},
     "output_type": "execute_result"
    }
   ],
   "source": [
    "cnt = 0\n",
    "for i in lst:\n",
    "    if i.startswith(('t','T')):\n",
    "        cnt += 1\n",
    "        \n",
    "cnt"
   ]
  },
  {
   "cell_type": "markdown",
   "metadata": {},
   "source": [
    "#3. Count total punctuation symbols."
   ]
  },
  {
   "cell_type": "code",
   "execution_count": 6,
   "metadata": {},
   "outputs": [
    {
     "data": {
      "text/plain": [
       "2"
      ]
     },
     "execution_count": 6,
     "metadata": {},
     "output_type": "execute_result"
    }
   ],
   "source": [
    "cnt = 0\n",
    "for i in lst:\n",
    "    if i in string.punctuation:\n",
    "        cnt += 1\n",
    "        \n",
    "cnt"
   ]
  },
  {
   "cell_type": "markdown",
   "metadata": {},
   "source": [
    "#4. Print the words in capital letter which ends with 'd'"
   ]
  },
  {
   "cell_type": "code",
   "execution_count": 7,
   "metadata": {},
   "outputs": [],
   "source": [
    "for i in lst:\n",
    "    if i.isupper():\n",
    "        if i.endswith('d'):\n",
    "            print(i)"
   ]
  },
  {
   "cell_type": "markdown",
   "metadata": {},
   "source": [
    "#5. Merge all the words and print (no punctuations)"
   ]
  },
  {
   "cell_type": "code",
   "execution_count": 12,
   "metadata": {},
   "outputs": [
    {
     "name": "stdout",
     "output_type": "stream",
     "text": [
      "Theytoldthattheiragesare2325and29respectively\n"
     ]
    }
   ],
   "source": [
    "words = str()\n",
    "for i in lst:\n",
    "    if i not in string.punctuation:\n",
    "        words += i\n",
    "print(words)"
   ]
  },
  {
   "cell_type": "markdown",
   "metadata": {},
   "source": [
    "Q.2\n",
    "\n",
    "#Open the wikipedia page of Indian flag and perform following analysis\n",
    "\n",
    "#Count total number of Words\n",
    "\n",
    "#Count percentage of punctuation marks\n",
    "\n",
    "#Print total number of lines\n",
    "\n",
    "#How many words are in title case?\n",
    "\n",
    "#Remove the numbers and print the text"
   ]
  },
  {
   "cell_type": "code",
   "execution_count": 15,
   "metadata": {},
   "outputs": [],
   "source": [
    "flag_sent = '''The national flag of India, colloquially called Tiraṅgā (the tricolour), is a horizontal rectangular tricolour flag, the colours being of India saffron, white and India green; with the Ashoka Chakra, a 24-spoke wheel, in navy blue at its centre.[1][2] It was adopted in its present form during a meeting of the Constituent Assembly held on 22 July 1947, and it became the official flag of the Union of India on 15 August 1947. The flag was subsequently retained as that of the Republic of India. In India, the term \"tricolour\" almost always refers to the Indian national flag.\n",
    "The flag is based on the Swaraj flag, a flag of the Indian National Congress adopted by Mahatma Gandhi after making significant modifications to the design proposed by Pingali Venkayya.[3] This flag included charkha which was replaced with chakra in 1947 by Jawaharlal Nehru.[4]\n",
    "Before the amendment of the flag code in 2021, the flag was by law only to be made of khadi; a special type of hand-spun cloth or silk, made popular by Mahatma Gandhi. The manufacturing process and specifications for the flag are laid out by the Bureau of Indian Standards. The right to manufacture the flag is held by the Khadi Development and Village Industries Commission, which allocates it to regional groups. As of 2023, there are 4 units in India that are licensed to manufacture the flag.\n",
    "Usage of the flag is governed by the Flag Code of India and other laws relating to the national emblems. The original code prohibited use of the flag by private citizens except on national days such as the Independence day and the Republic Day. In 2002, on hearing an appeal from a private citizen, Naveen Jindal, the Supreme Court of India directed the Government of India to amend the code to allow flag usage by private citizens. Subsequently, the Union Cabinet of India amended the code to allow limited usage. The code was amended once more in 2005 to allow some additional use including adaptations on certain forms of clothing. The flag code also governs the protocol of flying the flag and its use in conjunction with other national and non-national flags.\n",
    "'''"
   ]
  },
  {
   "cell_type": "markdown",
   "metadata": {},
   "source": [
    "#Count total number of Words"
   ]
  },
  {
   "cell_type": "code",
   "execution_count": 16,
   "metadata": {},
   "outputs": [
    {
     "data": {
      "text/plain": [
       "['The',\n",
       " 'national',\n",
       " 'flag',\n",
       " 'of',\n",
       " 'India',\n",
       " ',',\n",
       " 'colloquially',\n",
       " 'called',\n",
       " 'Tiraṅgā',\n",
       " '(',\n",
       " 'the',\n",
       " 'tricolour',\n",
       " ')',\n",
       " ',',\n",
       " 'is',\n",
       " 'a',\n",
       " 'horizontal',\n",
       " 'rectangular',\n",
       " 'tricolour',\n",
       " 'flag',\n",
       " ',',\n",
       " 'the',\n",
       " 'colours',\n",
       " 'being',\n",
       " 'of',\n",
       " 'India',\n",
       " 'saffron',\n",
       " ',',\n",
       " 'white',\n",
       " 'and',\n",
       " 'India',\n",
       " 'green',\n",
       " ';',\n",
       " 'with',\n",
       " 'the',\n",
       " 'Ashoka',\n",
       " 'Chakra',\n",
       " ',',\n",
       " 'a',\n",
       " '24-spoke',\n",
       " 'wheel',\n",
       " ',',\n",
       " 'in',\n",
       " 'navy',\n",
       " 'blue',\n",
       " 'at',\n",
       " 'its',\n",
       " 'centre',\n",
       " '.',\n",
       " '[',\n",
       " '1',\n",
       " ']',\n",
       " '[',\n",
       " '2',\n",
       " ']',\n",
       " 'It',\n",
       " 'was',\n",
       " 'adopted',\n",
       " 'in',\n",
       " 'its',\n",
       " 'present',\n",
       " 'form',\n",
       " 'during',\n",
       " 'a',\n",
       " 'meeting',\n",
       " 'of',\n",
       " 'the',\n",
       " 'Constituent',\n",
       " 'Assembly',\n",
       " 'held',\n",
       " 'on',\n",
       " '22',\n",
       " 'July',\n",
       " '1947',\n",
       " ',',\n",
       " 'and',\n",
       " 'it',\n",
       " 'became',\n",
       " 'the',\n",
       " 'official',\n",
       " 'flag',\n",
       " 'of',\n",
       " 'the',\n",
       " 'Union',\n",
       " 'of',\n",
       " 'India',\n",
       " 'on',\n",
       " '15',\n",
       " 'August',\n",
       " '1947',\n",
       " '.',\n",
       " 'The',\n",
       " 'flag',\n",
       " 'was',\n",
       " 'subsequently',\n",
       " 'retained',\n",
       " 'as',\n",
       " 'that',\n",
       " 'of',\n",
       " 'the',\n",
       " 'Republic',\n",
       " 'of',\n",
       " 'India',\n",
       " '.',\n",
       " 'In',\n",
       " 'India',\n",
       " ',',\n",
       " 'the',\n",
       " 'term',\n",
       " '``',\n",
       " 'tricolour',\n",
       " \"''\",\n",
       " 'almost',\n",
       " 'always',\n",
       " 'refers',\n",
       " 'to',\n",
       " 'the',\n",
       " 'Indian',\n",
       " 'national',\n",
       " 'flag',\n",
       " '.',\n",
       " 'The',\n",
       " 'flag',\n",
       " 'is',\n",
       " 'based',\n",
       " 'on',\n",
       " 'the',\n",
       " 'Swaraj',\n",
       " 'flag',\n",
       " ',',\n",
       " 'a',\n",
       " 'flag',\n",
       " 'of',\n",
       " 'the',\n",
       " 'Indian',\n",
       " 'National',\n",
       " 'Congress',\n",
       " 'adopted',\n",
       " 'by',\n",
       " 'Mahatma',\n",
       " 'Gandhi',\n",
       " 'after',\n",
       " 'making',\n",
       " 'significant',\n",
       " 'modifications',\n",
       " 'to',\n",
       " 'the',\n",
       " 'design',\n",
       " 'proposed',\n",
       " 'by',\n",
       " 'Pingali',\n",
       " 'Venkayya',\n",
       " '.',\n",
       " '[',\n",
       " '3',\n",
       " ']',\n",
       " 'This',\n",
       " 'flag',\n",
       " 'included',\n",
       " 'charkha',\n",
       " 'which',\n",
       " 'was',\n",
       " 'replaced',\n",
       " 'with',\n",
       " 'chakra',\n",
       " 'in',\n",
       " '1947',\n",
       " 'by',\n",
       " 'Jawaharlal',\n",
       " 'Nehru',\n",
       " '.',\n",
       " '[',\n",
       " '4',\n",
       " ']',\n",
       " 'Before',\n",
       " 'the',\n",
       " 'amendment',\n",
       " 'of',\n",
       " 'the',\n",
       " 'flag',\n",
       " 'code',\n",
       " 'in',\n",
       " '2021',\n",
       " ',',\n",
       " 'the',\n",
       " 'flag',\n",
       " 'was',\n",
       " 'by',\n",
       " 'law',\n",
       " 'only',\n",
       " 'to',\n",
       " 'be',\n",
       " 'made',\n",
       " 'of',\n",
       " 'khadi',\n",
       " ';',\n",
       " 'a',\n",
       " 'special',\n",
       " 'type',\n",
       " 'of',\n",
       " 'hand-spun',\n",
       " 'cloth',\n",
       " 'or',\n",
       " 'silk',\n",
       " ',',\n",
       " 'made',\n",
       " 'popular',\n",
       " 'by',\n",
       " 'Mahatma',\n",
       " 'Gandhi',\n",
       " '.',\n",
       " 'The',\n",
       " 'manufacturing',\n",
       " 'process',\n",
       " 'and',\n",
       " 'specifications',\n",
       " 'for',\n",
       " 'the',\n",
       " 'flag',\n",
       " 'are',\n",
       " 'laid',\n",
       " 'out',\n",
       " 'by',\n",
       " 'the',\n",
       " 'Bureau',\n",
       " 'of',\n",
       " 'Indian',\n",
       " 'Standards',\n",
       " '.',\n",
       " 'The',\n",
       " 'right',\n",
       " 'to',\n",
       " 'manufacture',\n",
       " 'the',\n",
       " 'flag',\n",
       " 'is',\n",
       " 'held',\n",
       " 'by',\n",
       " 'the',\n",
       " 'Khadi',\n",
       " 'Development',\n",
       " 'and',\n",
       " 'Village',\n",
       " 'Industries',\n",
       " 'Commission',\n",
       " ',',\n",
       " 'which',\n",
       " 'allocates',\n",
       " 'it',\n",
       " 'to',\n",
       " 'regional',\n",
       " 'groups',\n",
       " '.',\n",
       " 'As',\n",
       " 'of',\n",
       " '2023',\n",
       " ',',\n",
       " 'there',\n",
       " 'are',\n",
       " '4',\n",
       " 'units',\n",
       " 'in',\n",
       " 'India',\n",
       " 'that',\n",
       " 'are',\n",
       " 'licensed',\n",
       " 'to',\n",
       " 'manufacture',\n",
       " 'the',\n",
       " 'flag',\n",
       " '.',\n",
       " 'Usage',\n",
       " 'of',\n",
       " 'the',\n",
       " 'flag',\n",
       " 'is',\n",
       " 'governed',\n",
       " 'by',\n",
       " 'the',\n",
       " 'Flag',\n",
       " 'Code',\n",
       " 'of',\n",
       " 'India',\n",
       " 'and',\n",
       " 'other',\n",
       " 'laws',\n",
       " 'relating',\n",
       " 'to',\n",
       " 'the',\n",
       " 'national',\n",
       " 'emblems',\n",
       " '.',\n",
       " 'The',\n",
       " 'original',\n",
       " 'code',\n",
       " 'prohibited',\n",
       " 'use',\n",
       " 'of',\n",
       " 'the',\n",
       " 'flag',\n",
       " 'by',\n",
       " 'private',\n",
       " 'citizens',\n",
       " 'except',\n",
       " 'on',\n",
       " 'national',\n",
       " 'days',\n",
       " 'such',\n",
       " 'as',\n",
       " 'the',\n",
       " 'Independence',\n",
       " 'day',\n",
       " 'and',\n",
       " 'the',\n",
       " 'Republic',\n",
       " 'Day',\n",
       " '.',\n",
       " 'In',\n",
       " '2002',\n",
       " ',',\n",
       " 'on',\n",
       " 'hearing',\n",
       " 'an',\n",
       " 'appeal',\n",
       " 'from',\n",
       " 'a',\n",
       " 'private',\n",
       " 'citizen',\n",
       " ',',\n",
       " 'Naveen',\n",
       " 'Jindal',\n",
       " ',',\n",
       " 'the',\n",
       " 'Supreme',\n",
       " 'Court',\n",
       " 'of',\n",
       " 'India',\n",
       " 'directed',\n",
       " 'the',\n",
       " 'Government',\n",
       " 'of',\n",
       " 'India',\n",
       " 'to',\n",
       " 'amend',\n",
       " 'the',\n",
       " 'code',\n",
       " 'to',\n",
       " 'allow',\n",
       " 'flag',\n",
       " 'usage',\n",
       " 'by',\n",
       " 'private',\n",
       " 'citizens',\n",
       " '.',\n",
       " 'Subsequently',\n",
       " ',',\n",
       " 'the',\n",
       " 'Union',\n",
       " 'Cabinet',\n",
       " 'of',\n",
       " 'India',\n",
       " 'amended',\n",
       " 'the',\n",
       " 'code',\n",
       " 'to',\n",
       " 'allow',\n",
       " 'limited',\n",
       " 'usage',\n",
       " '.',\n",
       " 'The',\n",
       " 'code',\n",
       " 'was',\n",
       " 'amended',\n",
       " 'once',\n",
       " 'more',\n",
       " 'in',\n",
       " '2005',\n",
       " 'to',\n",
       " 'allow',\n",
       " 'some',\n",
       " 'additional',\n",
       " 'use',\n",
       " 'including',\n",
       " 'adaptations',\n",
       " 'on',\n",
       " 'certain',\n",
       " 'forms',\n",
       " 'of',\n",
       " 'clothing',\n",
       " '.',\n",
       " 'The',\n",
       " 'flag',\n",
       " 'code',\n",
       " 'also',\n",
       " 'governs',\n",
       " 'the',\n",
       " 'protocol',\n",
       " 'of',\n",
       " 'flying',\n",
       " 'the',\n",
       " 'flag',\n",
       " 'and',\n",
       " 'its',\n",
       " 'use',\n",
       " 'in',\n",
       " 'conjunction',\n",
       " 'with',\n",
       " 'other',\n",
       " 'national',\n",
       " 'and',\n",
       " 'non-national',\n",
       " 'flags',\n",
       " '.']"
      ]
     },
     "execution_count": 16,
     "metadata": {},
     "output_type": "execute_result"
    }
   ],
   "source": [
    "lst = word_tokenize(flag_sent)\n",
    "lst"
   ]
  },
  {
   "cell_type": "code",
   "execution_count": 47,
   "metadata": {},
   "outputs": [
    {
     "name": "stdout",
     "output_type": "stream",
     "text": [
      "Total Number of Words is 349\n"
     ]
    }
   ],
   "source": [
    "cnt = 0\n",
    "for i in lst:\n",
    "    if i.isalpha():\n",
    "        cnt += 1\n",
    "        \n",
    "print('Total Number of Words is',cnt)"
   ]
  },
  {
   "cell_type": "markdown",
   "metadata": {},
   "source": [
    "#Count percentage of punctuation marks"
   ]
  },
  {
   "cell_type": "code",
   "execution_count": 49,
   "metadata": {},
   "outputs": [
    {
     "name": "stdout",
     "output_type": "stream",
     "text": [
      "Percentage of Punctuation Marks is 11.28%\n"
     ]
    }
   ],
   "source": [
    "cnt = 0\n",
    "for i in lst:\n",
    "    if i in string.punctuation:\n",
    "        cnt += 1\n",
    "        \n",
    "punc_percent = cnt/len(lst) * 100\n",
    "print('Percentage of Punctuation Marks is',\"{:.2f}%\".format(punc_percent))"
   ]
  },
  {
   "cell_type": "markdown",
   "metadata": {},
   "source": [
    "#Print total number of lines"
   ]
  },
  {
   "cell_type": "code",
   "execution_count": 36,
   "metadata": {},
   "outputs": [
    {
     "name": "stdout",
     "output_type": "stream",
     "text": [
      "Total Number of lines: 5\n"
     ]
    }
   ],
   "source": [
    "lines = flag_sent.split(\"\\n\")\n",
    "num_of_lines = len(lines)\n",
    "print('Total Number of lines:', num_of_lines)"
   ]
  },
  {
   "cell_type": "markdown",
   "metadata": {},
   "source": [
    "#How many words are in title case?"
   ]
  },
  {
   "cell_type": "code",
   "execution_count": 45,
   "metadata": {},
   "outputs": [
    {
     "name": "stdout",
     "output_type": "stream",
     "text": [
      "Number of words in title case: 69\n"
     ]
    }
   ],
   "source": [
    "words = word_tokenize(flag_sent)\n",
    "\n",
    "title_case_words = []\n",
    "for word in words:\n",
    "    if word.isalpha():\n",
    "        if word.title() == word:\n",
    "            title_case_words.append(word)\n",
    "print('Number of words in title case:', len(title_case_words))"
   ]
  },
  {
   "cell_type": "markdown",
   "metadata": {},
   "source": [
    "#Remove the numbers and print the text"
   ]
  },
  {
   "cell_type": "code",
   "execution_count": 33,
   "metadata": {},
   "outputs": [
    {
     "name": "stdout",
     "output_type": "stream",
     "text": [
      "The national flag of India , colloquially called Tiraṅgā ( the tricolour ) , is a horizontal rectangular tricolour flag , the colours being of India saffron , white and India green ; with the Ashoka Chakra , a 24-spoke wheel , in navy blue at its centre . [ ] [ ] It was adopted in its present form during a meeting of the Constituent Assembly held on July , and it became the official flag of the Union of India on August . The flag was subsequently retained as that of the Republic of India . In India , the term `` tricolour '' almost always refers to the Indian national flag . The flag is based on the Swaraj flag , a flag of the Indian National Congress adopted by Mahatma Gandhi after making significant modifications to the design proposed by Pingali Venkayya . [ ] This flag included charkha which was replaced with chakra in by Jawaharlal Nehru . [ ] Before the amendment of the flag code in , the flag was by law only to be made of khadi ; a special type of hand-spun cloth or silk , made popular by Mahatma Gandhi . The manufacturing process and specifications for the flag are laid out by the Bureau of Indian Standards . The right to manufacture the flag is held by the Khadi Development and Village Industries Commission , which allocates it to regional groups . As of , there are units in India that are licensed to manufacture the flag . Usage of the flag is governed by the Flag Code of India and other laws relating to the national emblems . The original code prohibited use of the flag by private citizens except on national days such as the Independence day and the Republic Day . In , on hearing an appeal from a private citizen , Naveen Jindal , the Supreme Court of India directed the Government of India to amend the code to allow flag usage by private citizens . Subsequently , the Union Cabinet of India amended the code to allow limited usage . The code was amended once more in to allow some additional use including adaptations on certain forms of clothing . The flag code also governs the protocol of flying the flag and its use in conjunction with other national and non-national flags .\n"
     ]
    }
   ],
   "source": [
    "without_num = []\n",
    "for i in lst:\n",
    "    if not(i.isnumeric()):\n",
    "        without_num.append(i)\n",
    "        \n",
    "print(' '.join(without_num))"
   ]
  }
 ],
 "metadata": {
  "kernelspec": {
   "display_name": "NLP",
   "language": "python",
   "name": "python3"
  },
  "language_info": {
   "codemirror_mode": {
    "name": "ipython",
    "version": 3
   },
   "file_extension": ".py",
   "mimetype": "text/x-python",
   "name": "python",
   "nbconvert_exporter": "python",
   "pygments_lexer": "ipython3",
   "version": "3.11.5"
  }
 },
 "nbformat": 4,
 "nbformat_minor": 2
}
