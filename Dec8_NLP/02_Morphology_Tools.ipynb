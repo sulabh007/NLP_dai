{
 "cells": [
  {
   "cell_type": "code",
   "execution_count": 15,
   "metadata": {},
   "outputs": [],
   "source": [
    "# pip install morfessor polyglot PyICU pycld2"
   ]
  },
  {
   "cell_type": "code",
   "execution_count": 16,
   "metadata": {},
   "outputs": [],
   "source": [
    "# %%bash\n",
    "# polyglot download morph2.en morph2.mr"
   ]
  },
  {
   "cell_type": "code",
   "execution_count": 17,
   "metadata": {},
   "outputs": [
    {
     "name": "stdout",
     "output_type": "stream",
     "text": [
      "  1. Kapampangan                2. Italian                    3. Upper Sorbian            \n",
      "  4. Sakha                      5. Hindi                      6. French                   \n",
      "  7. Spanish; Castilian         8. Vietnamese                 9. Arabic                   \n",
      " 10. Macedonian                11. Pashto, Pushto            12. Bosnian-Croatian-Serbian \n",
      " 13. Egyptian Arabic           14. Norwegian Nynorsk         15. Sundanese                \n",
      " 16. Sicilian                  17. Azerbaijani               18. Bulgarian                \n",
      " 19. Yoruba                    20. Tajik                     21. Georgian                 \n",
      " 22. Tatar                     23. Galician                  24. Malagasy                 \n",
      " 25. Uighur, Uyghur            26. Amharic                   27. Venetian                 \n",
      " 28. Yiddish                   29. Norwegian                 30. Alemannic                \n",
      " 31. Estonian                  32. West Flemish              33. Divehi; Dhivehi; Mald... \n",
      " 34. Japanese                  35. Ilokano                   36. Haitian; Haitian Creole  \n",
      " 37. Belarusian                38. Greek, Modern             39. Ossetian, Ossetic        \n",
      " 40. Welsh                     41. Malayalam                 42. Albanian                 \n",
      " 43. Marathi (Marāṭhī)         44. Armenian                  45. Slovene                  \n",
      " 46. Korean                    47. Breton                    48. Irish                    \n",
      " 49. Luxembourgish, Letzeb...  50. Bengali                   51. Serbian                  \n",
      " 52. Fiji Hindi                53. Javanese                  54. Finnish                  \n",
      " 55. Gan Chinese               56. Kirghiz, Kyrgyz           57. Catalan; Valencian       \n",
      " 58. Quechua                   59. Croatian                  60. Dutch                    \n",
      " 61. Swedish                   62. Ido                       63. Tagalog                  \n",
      " 64. Sanskrit (Saṁskṛta)       65. Piedmontese language      66. Asturian                 \n",
      " 67. Danish                    68. Cebuano                   69. Western Frisian          \n",
      " 70. Kannada                   71. Scots                     72. Maltese                  \n",
      " 73. Swahili                   74. Limburgish, Limburgan...  75. Waray-Waray              \n",
      " 76. Lombard language          77. Uzbek                     78. Kurdish                  \n",
      " 79. Latvian                   80. Burmese                   81. Aragonese                \n",
      " 82. Volapük                   83. Northern Sami             84. Faroese                  \n",
      " 85. Kazakh                    86. Telugu                    87. Ukrainian                \n",
      " 88. Assamese                  89. Chuvash                   90. Silesian                 \n",
      " 91. Turkmen                   92. Romanian, Moldavian, ...  93. Persian                  \n",
      " 94. Tibetan Standard, Tib...  95. Latin                     96. Slovak                   \n",
      " 97. Sinhala, Sinhalese        98. Bavarian                  99. Icelandic                \n",
      "100. Mongolian                101. Walloon                  102. Portuguese               \n",
      "103. Urdu                     104. Gujarati                 105. Manx                     \n",
      "106. Tamil                    107. Khmer                    108. English                  \n",
      "109. Malay                    110. Chechen                  111. Bishnupriya Manipuri     \n",
      "112. Afrikaans                113. Basque                   114. Polish                   \n",
      "115. German                   116. Esperanto                117. Indonesian               \n",
      "118. Occitan                  119. Chinese                  120. Czech                    \n",
      "121. Hebrew (modern)          122. Romansh                  123. Lithuanian               \n",
      "124. Turkish                  125. Nepali                   126. Bosnian                  \n",
      "127. Interlingua              128. Zazaki                   129. Oriya                    \n",
      "130. Hungarian                131. Scottish Gaelic; Gaelic  132. Bashkir                  \n",
      "133. Thai                     134. Panjabi, Punjabi         135. Russian                  \n",
      "\n"
     ]
    }
   ],
   "source": [
    "from polyglot.downloader import downloader\n",
    "print(downloader.supported_languages_table(\"morph2\"))"
   ]
  },
  {
   "cell_type": "code",
   "execution_count": 18,
   "metadata": {},
   "outputs": [],
   "source": [
    "from polyglot.text import Text, Word"
   ]
  },
  {
   "cell_type": "code",
   "execution_count": 19,
   "metadata": {},
   "outputs": [
    {
     "name": "stdout",
     "output_type": "stream",
     "text": [
      "cats \t\t ['cat', 's']\n",
      "computing \t\t ['com', 'put', 'ing']\n",
      "assosiation \t\t ['a', 's', 's', 'o', 's', 'i', 'ation']\n",
      "programming \t\t ['program', 'ming']\n",
      "leadership \t\t ['leader', 'ship']\n",
      "miscoummunication \t\t ['mis', 'co', 'um', 'mun', 'ic', 'ation']\n",
      "identifiable \t\t ['identif', 'i', 'able']\n",
      "psycohologically \t\t ['psy', 'co', 'ho', 'logical', 'ly']\n",
      "engineering \t\t ['engine', 'er', 'ing']\n",
      "tabular \t\t ['tab', 'ular']\n",
      "realistic \t\t ['real', 'istic']\n",
      "colorfulness \t\t ['color', 'ful', 'ness']\n"
     ]
    }
   ],
   "source": [
    "words = ['cats', 'computing', 'assosiation', 'programming', 'leadership', 'miscoummunication', 'identifiable', 'psycohologically', 'engineering', 'tabular', 'realistic', 'colorfulness']\n",
    "for w in words:\n",
    "  w= Word(w, language='en')\n",
    "  print(w, '\\t\\t', w.morphemes)"
   ]
  },
  {
   "cell_type": "code",
   "execution_count": 20,
   "metadata": {},
   "outputs": [
    {
     "name": "stdout",
     "output_type": "stream",
     "text": [
      "लिखित \t\t ['लिखित']\n",
      "छापलेल्या \t\t ['छाप', 'लेल्या']\n",
      "कागदापासून \t\t ['कागद', 'ापासून']\n",
      "वर्तमानपत्रे \t\t ['वर्तमानपत्र', 'े']\n",
      "रविवार \t\t ['रवि', 'वार']\n",
      "अचूकता \t\t ['अचूक', 'ता']\n",
      "इलेक्टॉनिक \t\t ['इ', 'ले', 'क्ट', 'ॉन', 'िक']\n",
      "भविष्य \t\t ['भविष्य']\n",
      "पुस्तकाबद्दल \t\t ['पुस्तक', 'ाबद्दल']\n",
      "हस्तलिखिते \t\t ['हस्त', 'लिखित', 'े']\n",
      "महाद्वीप \t\t ['महा', 'द्वीप']\n",
      "बिनचूक \t\t ['बिन', 'चूक']\n"
     ]
    }
   ],
   "source": [
    "words = ['लिखित', 'छापलेल्या', 'कागदापासून', 'वर्तमानपत्रे', 'रविवार', 'अचूकता', 'इलेक्टॉनिक', 'भविष्य', 'पुस्तकाबद्दल', 'हस्तलिखिते', 'महाद्वीप', 'बिनचूक']\n",
    "for w in words:\n",
    "  w= Word(w, language='mr')\n",
    "  print(w, '\\t\\t', w.morphemes)"
   ]
  },
  {
   "cell_type": "code",
   "execution_count": 21,
   "metadata": {},
   "outputs": [],
   "source": [
    "blob = \"Wewillmeettoday.\"\n",
    "text = Text(blob)\n",
    "text.language = 'en'"
   ]
  },
  {
   "cell_type": "code",
   "execution_count": 22,
   "metadata": {},
   "outputs": [
    {
     "data": {
      "text/plain": [
       "WordList(['We', 'will', 'meet', 'to', 'day', '.'])"
      ]
     },
     "execution_count": 22,
     "metadata": {},
     "output_type": "execute_result"
    }
   ],
   "source": [
    "text.morphemes"
   ]
  },
  {
   "cell_type": "code",
   "execution_count": 23,
   "metadata": {},
   "outputs": [],
   "source": [
    "blob = \"Wewillmeetingtoday.\"\n",
    "text = Text(blob)\n",
    "text.language = 'en'"
   ]
  },
  {
   "cell_type": "code",
   "execution_count": 24,
   "metadata": {},
   "outputs": [
    {
     "data": {
      "text/plain": [
       "WordList(['We', 'will', 'meet', 'ing', 'to', 'day', '.'])"
      ]
     },
     "execution_count": 24,
     "metadata": {},
     "output_type": "execute_result"
    }
   ],
   "source": [
    "text.morphemes"
   ]
  }
 ],
 "metadata": {
  "kernelspec": {
   "display_name": "Python 3 (ipykernel)",
   "language": "python",
   "name": "python3"
  },
  "language_info": {
   "codemirror_mode": {
    "name": "ipython",
    "version": 3
   },
   "file_extension": ".py",
   "mimetype": "text/x-python",
   "name": "python",
   "nbconvert_exporter": "python",
   "pygments_lexer": "ipython3",
   "version": "3.11.5"
  }
 },
 "nbformat": 4,
 "nbformat_minor": 4
}
