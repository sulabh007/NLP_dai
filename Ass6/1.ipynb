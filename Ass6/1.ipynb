{
 "cells": [
  {
   "cell_type": "code",
   "execution_count": 1,
   "metadata": {},
   "outputs": [
    {
     "name": "stderr",
     "output_type": "stream",
     "text": [
      "2023-12-20 07:57:05.668945: I tensorflow/core/util/port.cc:113] oneDNN custom operations are on. You may see slightly different numerical results due to floating-point round-off errors from different computation orders. To turn them off, set the environment variable `TF_ENABLE_ONEDNN_OPTS=0`.\n",
      "2023-12-20 07:57:05.672790: I external/local_tsl/tsl/cuda/cudart_stub.cc:31] Could not find cuda drivers on your machine, GPU will not be used.\n",
      "2023-12-20 07:57:05.728387: E external/local_xla/xla/stream_executor/cuda/cuda_dnn.cc:9261] Unable to register cuDNN factory: Attempting to register factory for plugin cuDNN when one has already been registered\n",
      "2023-12-20 07:57:05.728420: E external/local_xla/xla/stream_executor/cuda/cuda_fft.cc:607] Unable to register cuFFT factory: Attempting to register factory for plugin cuFFT when one has already been registered\n",
      "2023-12-20 07:57:05.729798: E external/local_xla/xla/stream_executor/cuda/cuda_blas.cc:1515] Unable to register cuBLAS factory: Attempting to register factory for plugin cuBLAS when one has already been registered\n",
      "2023-12-20 07:57:05.738569: I external/local_tsl/tsl/cuda/cudart_stub.cc:31] Could not find cuda drivers on your machine, GPU will not be used.\n",
      "2023-12-20 07:57:05.739357: I tensorflow/core/platform/cpu_feature_guard.cc:182] This TensorFlow binary is optimized to use available CPU instructions in performance-critical operations.\n",
      "To enable the following instructions: AVX2 AVX512F AVX512_VNNI FMA, in other operations, rebuild TensorFlow with the appropriate compiler flags.\n",
      "2023-12-20 07:57:06.951846: W tensorflow/compiler/tf2tensorrt/utils/py_utils.cc:38] TF-TRT Warning: Could not find TensorRT\n"
     ]
    }
   ],
   "source": [
    "import string\n",
    "import re\n",
    "from os import listdir\n",
    "import tensorflow as tf\n",
    "from nltk.corpus import stopwords\n",
    "from tensorflow.keras.preprocessing.text import Tokenizer\n",
    "from tensorflow.keras.utils import plot_model\n",
    "import numpy as np\n",
    "import nltk\n",
    "import pandas as pd\n",
    "import seaborn as sns\n",
    "import matplotlib.pyplot as plt"
   ]
  },
  {
   "cell_type": "code",
   "execution_count": 2,
   "metadata": {
    "colab": {
     "base_uri": "https://localhost:8080/",
     "height": 424
    },
    "id": "GuKSq9p7DLok",
    "outputId": "190de833-263a-491e-a7ba-78d128acb5f7",
    "scrolled": true
   },
   "outputs": [
    {
     "data": {
      "text/html": [
       "<div>\n",
       "<style scoped>\n",
       "    .dataframe tbody tr th:only-of-type {\n",
       "        vertical-align: middle;\n",
       "    }\n",
       "\n",
       "    .dataframe tbody tr th {\n",
       "        vertical-align: top;\n",
       "    }\n",
       "\n",
       "    .dataframe thead th {\n",
       "        text-align: right;\n",
       "    }\n",
       "</style>\n",
       "<table border=\"1\" class=\"dataframe\">\n",
       "  <thead>\n",
       "    <tr style=\"text-align: right;\">\n",
       "      <th></th>\n",
       "      <th>class</th>\n",
       "      <th>text</th>\n",
       "    </tr>\n",
       "  </thead>\n",
       "  <tbody>\n",
       "    <tr>\n",
       "      <th>0</th>\n",
       "      <td>Household</td>\n",
       "      <td>Paper Plane Design Framed Wall Hanging Motivat...</td>\n",
       "    </tr>\n",
       "    <tr>\n",
       "      <th>1</th>\n",
       "      <td>Household</td>\n",
       "      <td>SAF 'Floral' Framed Painting (Wood, 30 inch x ...</td>\n",
       "    </tr>\n",
       "    <tr>\n",
       "      <th>2</th>\n",
       "      <td>Household</td>\n",
       "      <td>SAF 'UV Textured Modern Art Print Framed' Pain...</td>\n",
       "    </tr>\n",
       "    <tr>\n",
       "      <th>3</th>\n",
       "      <td>Household</td>\n",
       "      <td>SAF Flower Print Framed Painting (Synthetic, 1...</td>\n",
       "    </tr>\n",
       "    <tr>\n",
       "      <th>4</th>\n",
       "      <td>Household</td>\n",
       "      <td>Incredible Gifts India Wooden Happy Birthday U...</td>\n",
       "    </tr>\n",
       "    <tr>\n",
       "      <th>...</th>\n",
       "      <td>...</td>\n",
       "      <td>...</td>\n",
       "    </tr>\n",
       "    <tr>\n",
       "      <th>50420</th>\n",
       "      <td>Electronics</td>\n",
       "      <td>Strontium MicroSD Class 10 8GB Memory Card (Bl...</td>\n",
       "    </tr>\n",
       "    <tr>\n",
       "      <th>50421</th>\n",
       "      <td>Electronics</td>\n",
       "      <td>CrossBeats Wave Waterproof Bluetooth Wireless ...</td>\n",
       "    </tr>\n",
       "    <tr>\n",
       "      <th>50422</th>\n",
       "      <td>Electronics</td>\n",
       "      <td>Karbonn Titanium Wind W4 (White) Karbonn Titan...</td>\n",
       "    </tr>\n",
       "    <tr>\n",
       "      <th>50423</th>\n",
       "      <td>Electronics</td>\n",
       "      <td>Samsung Guru FM Plus (SM-B110E/D, Black) Colou...</td>\n",
       "    </tr>\n",
       "    <tr>\n",
       "      <th>50424</th>\n",
       "      <td>Electronics</td>\n",
       "      <td>Micromax Canvas Win W121 (White)</td>\n",
       "    </tr>\n",
       "  </tbody>\n",
       "</table>\n",
       "<p>50425 rows × 2 columns</p>\n",
       "</div>"
      ],
      "text/plain": [
       "             class                                               text\n",
       "0        Household  Paper Plane Design Framed Wall Hanging Motivat...\n",
       "1        Household  SAF 'Floral' Framed Painting (Wood, 30 inch x ...\n",
       "2        Household  SAF 'UV Textured Modern Art Print Framed' Pain...\n",
       "3        Household  SAF Flower Print Framed Painting (Synthetic, 1...\n",
       "4        Household  Incredible Gifts India Wooden Happy Birthday U...\n",
       "...            ...                                                ...\n",
       "50420  Electronics  Strontium MicroSD Class 10 8GB Memory Card (Bl...\n",
       "50421  Electronics  CrossBeats Wave Waterproof Bluetooth Wireless ...\n",
       "50422  Electronics  Karbonn Titanium Wind W4 (White) Karbonn Titan...\n",
       "50423  Electronics  Samsung Guru FM Plus (SM-B110E/D, Black) Colou...\n",
       "50424  Electronics                   Micromax Canvas Win W121 (White)\n",
       "\n",
       "[50425 rows x 2 columns]"
      ]
     },
     "execution_count": 2,
     "metadata": {},
     "output_type": "execute_result"
    }
   ],
   "source": [
    "df1 = pd.read_csv('ecommerceDatasetNLP.csv', header=None, names=['class','text'])\n",
    "df1"
   ]
  },
  {
   "cell_type": "code",
   "execution_count": 3,
   "metadata": {
    "id": "Gw02dxkfGW_8"
   },
   "outputs": [],
   "source": [
    "\n",
    "\n",
    "df = df1.groupby('class').head(1000).reset_index(drop = True)\n"
   ]
  },
  {
   "cell_type": "code",
   "execution_count": 4,
   "metadata": {
    "colab": {
     "base_uri": "https://localhost:8080/",
     "height": 424
    },
    "id": "YTUwzHh4ZNGp",
    "outputId": "fa1d534b-e59b-486c-ca5a-481ec3d8a8b7"
   },
   "outputs": [
    {
     "data": {
      "text/html": [
       "<div>\n",
       "<style scoped>\n",
       "    .dataframe tbody tr th:only-of-type {\n",
       "        vertical-align: middle;\n",
       "    }\n",
       "\n",
       "    .dataframe tbody tr th {\n",
       "        vertical-align: top;\n",
       "    }\n",
       "\n",
       "    .dataframe thead th {\n",
       "        text-align: right;\n",
       "    }\n",
       "</style>\n",
       "<table border=\"1\" class=\"dataframe\">\n",
       "  <thead>\n",
       "    <tr style=\"text-align: right;\">\n",
       "      <th></th>\n",
       "      <th>class</th>\n",
       "      <th>text</th>\n",
       "    </tr>\n",
       "  </thead>\n",
       "  <tbody>\n",
       "    <tr>\n",
       "      <th>0</th>\n",
       "      <td>Household</td>\n",
       "      <td>Paper Plane Design Framed Wall Hanging Motivat...</td>\n",
       "    </tr>\n",
       "    <tr>\n",
       "      <th>1</th>\n",
       "      <td>Household</td>\n",
       "      <td>SAF 'Floral' Framed Painting (Wood, 30 inch x ...</td>\n",
       "    </tr>\n",
       "    <tr>\n",
       "      <th>2</th>\n",
       "      <td>Household</td>\n",
       "      <td>SAF 'UV Textured Modern Art Print Framed' Pain...</td>\n",
       "    </tr>\n",
       "    <tr>\n",
       "      <th>3</th>\n",
       "      <td>Household</td>\n",
       "      <td>SAF Flower Print Framed Painting (Synthetic, 1...</td>\n",
       "    </tr>\n",
       "    <tr>\n",
       "      <th>4</th>\n",
       "      <td>Household</td>\n",
       "      <td>Incredible Gifts India Wooden Happy Birthday U...</td>\n",
       "    </tr>\n",
       "    <tr>\n",
       "      <th>...</th>\n",
       "      <td>...</td>\n",
       "      <td>...</td>\n",
       "    </tr>\n",
       "    <tr>\n",
       "      <th>3995</th>\n",
       "      <td>Electronics</td>\n",
       "      <td>Cooler Master Silent 120 SI2 (4 in 1) Cooling ...</td>\n",
       "    </tr>\n",
       "    <tr>\n",
       "      <th>3996</th>\n",
       "      <td>Electronics</td>\n",
       "      <td>MAA-KU DC Axial Case Cooling Fan. SIZE : 3.65\"...</td>\n",
       "    </tr>\n",
       "    <tr>\n",
       "      <th>3997</th>\n",
       "      <td>Electronics</td>\n",
       "      <td>Cooler Master 120MM SickleFlow X Led Fan (Colo...</td>\n",
       "    </tr>\n",
       "    <tr>\n",
       "      <th>3998</th>\n",
       "      <td>Electronics</td>\n",
       "      <td>Antec Prizm 120 RGB Case Fan Radiator with Asu...</td>\n",
       "    </tr>\n",
       "    <tr>\n",
       "      <th>3999</th>\n",
       "      <td>Electronics</td>\n",
       "      <td>Cooler Master Sickleflowx Blue Led Cooler Colo...</td>\n",
       "    </tr>\n",
       "  </tbody>\n",
       "</table>\n",
       "<p>4000 rows × 2 columns</p>\n",
       "</div>"
      ],
      "text/plain": [
       "            class                                               text\n",
       "0       Household  Paper Plane Design Framed Wall Hanging Motivat...\n",
       "1       Household  SAF 'Floral' Framed Painting (Wood, 30 inch x ...\n",
       "2       Household  SAF 'UV Textured Modern Art Print Framed' Pain...\n",
       "3       Household  SAF Flower Print Framed Painting (Synthetic, 1...\n",
       "4       Household  Incredible Gifts India Wooden Happy Birthday U...\n",
       "...           ...                                                ...\n",
       "3995  Electronics  Cooler Master Silent 120 SI2 (4 in 1) Cooling ...\n",
       "3996  Electronics  MAA-KU DC Axial Case Cooling Fan. SIZE : 3.65\"...\n",
       "3997  Electronics  Cooler Master 120MM SickleFlow X Led Fan (Colo...\n",
       "3998  Electronics  Antec Prizm 120 RGB Case Fan Radiator with Asu...\n",
       "3999  Electronics  Cooler Master Sickleflowx Blue Led Cooler Colo...\n",
       "\n",
       "[4000 rows x 2 columns]"
      ]
     },
     "execution_count": 4,
     "metadata": {},
     "output_type": "execute_result"
    }
   ],
   "source": [
    "df"
   ]
  },
  {
   "cell_type": "code",
   "execution_count": 5,
   "metadata": {
    "colab": {
     "base_uri": "https://localhost:8080/"
    },
    "id": "p8xsOY8XGsxW",
    "outputId": "d33789c3-0202-4f74-bf67-c3cb2b7ca1e1"
   },
   "outputs": [
    {
     "data": {
      "text/plain": [
       "class\n",
       "Household                 1000\n",
       "Books                     1000\n",
       "Clothing & Accessories    1000\n",
       "Electronics               1000\n",
       "Name: count, dtype: int64"
      ]
     },
     "execution_count": 5,
     "metadata": {},
     "output_type": "execute_result"
    }
   ],
   "source": [
    "df['class'].value_counts()"
   ]
  },
  {
   "cell_type": "code",
   "execution_count": 6,
   "metadata": {
    "colab": {
     "base_uri": "https://localhost:8080/"
    },
    "collapsed": true,
    "id": "WAgUrPwhDLom",
    "jupyter": {
     "outputs_hidden": true
    },
    "outputId": "4772cdfc-3ada-4f57-98bc-5d36c434df23"
   },
   "outputs": [
    {
     "data": {
      "text/plain": [
       "class\n",
       "Household                 1000\n",
       "Books                     1000\n",
       "Clothing & Accessories    1000\n",
       "Electronics               1000\n",
       "Name: count, dtype: int64"
      ]
     },
     "execution_count": 6,
     "metadata": {},
     "output_type": "execute_result"
    }
   ],
   "source": [
    "df['class'].value_counts()"
   ]
  },
  {
   "cell_type": "code",
   "execution_count": 7,
   "metadata": {
    "colab": {
     "base_uri": "https://localhost:8080/",
     "height": 466
    },
    "id": "IXak3sKnDLom",
    "outputId": "45b938ac-54d8-4daa-80a5-3baa7897e81f",
    "scrolled": true
   },
   "outputs": [
    {
     "name": "stderr",
     "output_type": "stream",
     "text": [
      "/home/dai/anaconda3/envs/NLP/lib/python3.11/site-packages/seaborn/_oldcore.py:1498: FutureWarning: is_categorical_dtype is deprecated and will be removed in a future version. Use isinstance(dtype, CategoricalDtype) instead\n",
      "  if pd.api.types.is_categorical_dtype(vector):\n",
      "/home/dai/anaconda3/envs/NLP/lib/python3.11/site-packages/seaborn/_oldcore.py:1498: FutureWarning: is_categorical_dtype is deprecated and will be removed in a future version. Use isinstance(dtype, CategoricalDtype) instead\n",
      "  if pd.api.types.is_categorical_dtype(vector):\n",
      "/home/dai/anaconda3/envs/NLP/lib/python3.11/site-packages/seaborn/_oldcore.py:1498: FutureWarning: is_categorical_dtype is deprecated and will be removed in a future version. Use isinstance(dtype, CategoricalDtype) instead\n",
      "  if pd.api.types.is_categorical_dtype(vector):\n"
     ]
    },
    {
     "data": {
      "text/plain": [
       "<Axes: xlabel='count', ylabel='class'>"
      ]
     },
     "execution_count": 7,
     "metadata": {},
     "output_type": "execute_result"
    },
    {
     "data": {
      "image/png": "[encoded data removed]",
      "text/plain": [
       "<Figure size 640x480 with 1 Axes>"
      ]
     },
     "metadata": {},
     "output_type": "display_data"
    }
   ],
   "source": [
    "sns.countplot(y=df['class'])"
   ]
  },
  {
   "cell_type": "code",
   "execution_count": 8,
   "metadata": {
    "colab": {
     "base_uri": "https://localhost:8080/"
    },
    "id": "V_Plz2yHDLon",
    "outputId": "40850651-7898-481a-d5d2-412e863cf19c"
   },
   "outputs": [
    {
     "data": {
      "text/plain": [
       "class    0\n",
       "text     0\n",
       "dtype: int64"
      ]
     },
     "execution_count": 8,
     "metadata": {},
     "output_type": "execute_result"
    }
   ],
   "source": [
    "df.isnull().sum()"
   ]
  },
  {
   "cell_type": "code",
   "execution_count": 9,
   "metadata": {
    "colab": {
     "base_uri": "https://localhost:8080/"
    },
    "id": "dqhfF2mNDLon",
    "outputId": "b52ec15e-22c9-4117-8a19-68b2ce8c1f1d"
   },
   "outputs": [
    {
     "data": {
      "text/plain": [
       "class    0\n",
       "text     0\n",
       "dtype: int64"
      ]
     },
     "execution_count": 9,
     "metadata": {},
     "output_type": "execute_result"
    }
   ],
   "source": [
    "df.dropna(inplace=True)\n",
    "df.isnull().sum()"
   ]
  },
  {
   "cell_type": "code",
   "execution_count": 10,
   "metadata": {
    "colab": {
     "base_uri": "https://localhost:8080/"
    },
    "id": "OnPje65hZ5Pj",
    "outputId": "a0e097ca-040f-4213-caa4-ab8626e3f3a0"
   },
   "outputs": [],
   "source": [
    "# nltk.download('punkt')\n",
    "# nltk.download('stopwords')\n",
    "# nltk.download('wordnet')\n",
    "# nltk.download('averaged_perceptron_tagger')"
   ]
  },
  {
   "cell_type": "code",
   "execution_count": 11,
   "metadata": {
    "colab": {
     "base_uri": "https://localhost:8080/"
    },
    "id": "KqQBPFbJDLoo",
    "outputId": "f8e1998a-2d31-4cbd-ef90-ec064215d0ec",
    "scrolled": true
   },
   "outputs": [],
   "source": [
    "# df['text'].apply(lambda x: clean_text(x))"
   ]
  },
  {
   "cell_type": "code",
   "execution_count": 12,
   "metadata": {
    "colab": {
     "base_uri": "https://localhost:8080/",
     "height": 424
    },
    "id": "RjlhXsyADLoo",
    "outputId": "12cc32ae-c355-40c7-d1ab-ff41c488ebb8",
    "scrolled": true
   },
   "outputs": [
    {
     "data": {
      "text/html": [
       "<div>\n",
       "<style scoped>\n",
       "    .dataframe tbody tr th:only-of-type {\n",
       "        vertical-align: middle;\n",
       "    }\n",
       "\n",
       "    .dataframe tbody tr th {\n",
       "        vertical-align: top;\n",
       "    }\n",
       "\n",
       "    .dataframe thead th {\n",
       "        text-align: right;\n",
       "    }\n",
       "</style>\n",
       "<table border=\"1\" class=\"dataframe\">\n",
       "  <thead>\n",
       "    <tr style=\"text-align: right;\">\n",
       "      <th></th>\n",
       "      <th>class</th>\n",
       "      <th>text</th>\n",
       "    </tr>\n",
       "  </thead>\n",
       "  <tbody>\n",
       "    <tr>\n",
       "      <th>0</th>\n",
       "      <td>Household</td>\n",
       "      <td>Paper Plane Design Framed Wall Hanging Motivat...</td>\n",
       "    </tr>\n",
       "    <tr>\n",
       "      <th>1</th>\n",
       "      <td>Household</td>\n",
       "      <td>SAF 'Floral' Framed Painting (Wood, 30 inch x ...</td>\n",
       "    </tr>\n",
       "    <tr>\n",
       "      <th>2</th>\n",
       "      <td>Household</td>\n",
       "      <td>SAF 'UV Textured Modern Art Print Framed' Pain...</td>\n",
       "    </tr>\n",
       "    <tr>\n",
       "      <th>3</th>\n",
       "      <td>Household</td>\n",
       "      <td>SAF Flower Print Framed Painting (Synthetic, 1...</td>\n",
       "    </tr>\n",
       "    <tr>\n",
       "      <th>4</th>\n",
       "      <td>Household</td>\n",
       "      <td>Incredible Gifts India Wooden Happy Birthday U...</td>\n",
       "    </tr>\n",
       "    <tr>\n",
       "      <th>...</th>\n",
       "      <td>...</td>\n",
       "      <td>...</td>\n",
       "    </tr>\n",
       "    <tr>\n",
       "      <th>3995</th>\n",
       "      <td>Electronics</td>\n",
       "      <td>Cooler Master Silent 120 SI2 (4 in 1) Cooling ...</td>\n",
       "    </tr>\n",
       "    <tr>\n",
       "      <th>3996</th>\n",
       "      <td>Electronics</td>\n",
       "      <td>MAA-KU DC Axial Case Cooling Fan. SIZE : 3.65\"...</td>\n",
       "    </tr>\n",
       "    <tr>\n",
       "      <th>3997</th>\n",
       "      <td>Electronics</td>\n",
       "      <td>Cooler Master 120MM SickleFlow X Led Fan (Colo...</td>\n",
       "    </tr>\n",
       "    <tr>\n",
       "      <th>3998</th>\n",
       "      <td>Electronics</td>\n",
       "      <td>Antec Prizm 120 RGB Case Fan Radiator with Asu...</td>\n",
       "    </tr>\n",
       "    <tr>\n",
       "      <th>3999</th>\n",
       "      <td>Electronics</td>\n",
       "      <td>Cooler Master Sickleflowx Blue Led Cooler Colo...</td>\n",
       "    </tr>\n",
       "  </tbody>\n",
       "</table>\n",
       "<p>4000 rows × 2 columns</p>\n",
       "</div>"
      ],
      "text/plain": [
       "            class                                               text\n",
       "0       Household  Paper Plane Design Framed Wall Hanging Motivat...\n",
       "1       Household  SAF 'Floral' Framed Painting (Wood, 30 inch x ...\n",
       "2       Household  SAF 'UV Textured Modern Art Print Framed' Pain...\n",
       "3       Household  SAF Flower Print Framed Painting (Synthetic, 1...\n",
       "4       Household  Incredible Gifts India Wooden Happy Birthday U...\n",
       "...           ...                                                ...\n",
       "3995  Electronics  Cooler Master Silent 120 SI2 (4 in 1) Cooling ...\n",
       "3996  Electronics  MAA-KU DC Axial Case Cooling Fan. SIZE : 3.65\"...\n",
       "3997  Electronics  Cooler Master 120MM SickleFlow X Led Fan (Colo...\n",
       "3998  Electronics  Antec Prizm 120 RGB Case Fan Radiator with Asu...\n",
       "3999  Electronics  Cooler Master Sickleflowx Blue Led Cooler Colo...\n",
       "\n",
       "[4000 rows x 2 columns]"
      ]
     },
     "execution_count": 12,
     "metadata": {},
     "output_type": "execute_result"
    }
   ],
   "source": [
    "df"
   ]
  },
  {
   "cell_type": "code",
   "execution_count": 13,
   "metadata": {
    "colab": {
     "base_uri": "https://localhost:8080/",
     "height": 424
    },
    "id": "w2b0hFaWgClJ",
    "outputId": "e00178b1-b540-47a1-f03d-a33c2bf36279"
   },
   "outputs": [
    {
     "name": "stderr",
     "output_type": "stream",
     "text": [
      "/home/dai/anaconda3/envs/NLP/lib/python3.11/site-packages/sklearn/utils/validation.py:605: FutureWarning: is_sparse is deprecated and will be removed in a future version. Check `isinstance(dtype, pd.SparseDtype)` instead.\n",
      "  if is_sparse(pd_dtype):\n",
      "/home/dai/anaconda3/envs/NLP/lib/python3.11/site-packages/sklearn/utils/validation.py:614: FutureWarning: is_sparse is deprecated and will be removed in a future version. Check `isinstance(dtype, pd.SparseDtype)` instead.\n",
      "  if is_sparse(pd_dtype) or not is_extension_array_dtype(pd_dtype):\n"
     ]
    },
    {
     "data": {
      "text/html": [
       "<div>\n",
       "<style scoped>\n",
       "    .dataframe tbody tr th:only-of-type {\n",
       "        vertical-align: middle;\n",
       "    }\n",
       "\n",
       "    .dataframe tbody tr th {\n",
       "        vertical-align: top;\n",
       "    }\n",
       "\n",
       "    .dataframe thead th {\n",
       "        text-align: right;\n",
       "    }\n",
       "</style>\n",
       "<table border=\"1\" class=\"dataframe\">\n",
       "  <thead>\n",
       "    <tr style=\"text-align: right;\">\n",
       "      <th></th>\n",
       "      <th>class</th>\n",
       "      <th>text</th>\n",
       "    </tr>\n",
       "  </thead>\n",
       "  <tbody>\n",
       "    <tr>\n",
       "      <th>0</th>\n",
       "      <td>3</td>\n",
       "      <td>Paper Plane Design Framed Wall Hanging Motivat...</td>\n",
       "    </tr>\n",
       "    <tr>\n",
       "      <th>1</th>\n",
       "      <td>3</td>\n",
       "      <td>SAF 'Floral' Framed Painting (Wood, 30 inch x ...</td>\n",
       "    </tr>\n",
       "    <tr>\n",
       "      <th>2</th>\n",
       "      <td>3</td>\n",
       "      <td>SAF 'UV Textured Modern Art Print Framed' Pain...</td>\n",
       "    </tr>\n",
       "    <tr>\n",
       "      <th>3</th>\n",
       "      <td>3</td>\n",
       "      <td>SAF Flower Print Framed Painting (Synthetic, 1...</td>\n",
       "    </tr>\n",
       "    <tr>\n",
       "      <th>4</th>\n",
       "      <td>3</td>\n",
       "      <td>Incredible Gifts India Wooden Happy Birthday U...</td>\n",
       "    </tr>\n",
       "    <tr>\n",
       "      <th>...</th>\n",
       "      <td>...</td>\n",
       "      <td>...</td>\n",
       "    </tr>\n",
       "    <tr>\n",
       "      <th>3995</th>\n",
       "      <td>2</td>\n",
       "      <td>Cooler Master Silent 120 SI2 (4 in 1) Cooling ...</td>\n",
       "    </tr>\n",
       "    <tr>\n",
       "      <th>3996</th>\n",
       "      <td>2</td>\n",
       "      <td>MAA-KU DC Axial Case Cooling Fan. SIZE : 3.65\"...</td>\n",
       "    </tr>\n",
       "    <tr>\n",
       "      <th>3997</th>\n",
       "      <td>2</td>\n",
       "      <td>Cooler Master 120MM SickleFlow X Led Fan (Colo...</td>\n",
       "    </tr>\n",
       "    <tr>\n",
       "      <th>3998</th>\n",
       "      <td>2</td>\n",
       "      <td>Antec Prizm 120 RGB Case Fan Radiator with Asu...</td>\n",
       "    </tr>\n",
       "    <tr>\n",
       "      <th>3999</th>\n",
       "      <td>2</td>\n",
       "      <td>Cooler Master Sickleflowx Blue Led Cooler Colo...</td>\n",
       "    </tr>\n",
       "  </tbody>\n",
       "</table>\n",
       "<p>4000 rows × 2 columns</p>\n",
       "</div>"
      ],
      "text/plain": [
       "      class                                               text\n",
       "0         3  Paper Plane Design Framed Wall Hanging Motivat...\n",
       "1         3  SAF 'Floral' Framed Painting (Wood, 30 inch x ...\n",
       "2         3  SAF 'UV Textured Modern Art Print Framed' Pain...\n",
       "3         3  SAF Flower Print Framed Painting (Synthetic, 1...\n",
       "4         3  Incredible Gifts India Wooden Happy Birthday U...\n",
       "...     ...                                                ...\n",
       "3995      2  Cooler Master Silent 120 SI2 (4 in 1) Cooling ...\n",
       "3996      2  MAA-KU DC Axial Case Cooling Fan. SIZE : 3.65\"...\n",
       "3997      2  Cooler Master 120MM SickleFlow X Led Fan (Colo...\n",
       "3998      2  Antec Prizm 120 RGB Case Fan Radiator with Asu...\n",
       "3999      2  Cooler Master Sickleflowx Blue Led Cooler Colo...\n",
       "\n",
       "[4000 rows x 2 columns]"
      ]
     },
     "execution_count": 13,
     "metadata": {},
     "output_type": "execute_result"
    }
   ],
   "source": [
    "from sklearn.preprocessing import LabelEncoder\n",
    "le = LabelEncoder()\n",
    "df['class'] = le.fit_transform(df['class'])\n",
    "df"
   ]
  },
  {
   "cell_type": "code",
   "execution_count": 14,
   "metadata": {
    "id": "r60b-REZDLop",
    "scrolled": true
   },
   "outputs": [
    {
     "data": {
      "text/plain": [
       "0       3\n",
       "1       3\n",
       "2       3\n",
       "3       3\n",
       "4       3\n",
       "       ..\n",
       "3995    2\n",
       "3996    2\n",
       "3997    2\n",
       "3998    2\n",
       "3999    2\n",
       "Name: class, Length: 4000, dtype: int64"
      ]
     },
     "execution_count": 14,
     "metadata": {},
     "output_type": "execute_result"
    }
   ],
   "source": [
    "y = df['class']\n",
    "y"
   ]
  },
  {
   "cell_type": "code",
   "execution_count": 15,
   "metadata": {
    "colab": {
     "base_uri": "https://localhost:8080/"
    },
    "id": "ckA7omGhDLop",
    "outputId": "ee498771-d018-4ffc-cce1-8d5b25e6df15",
    "scrolled": true
   },
   "outputs": [
    {
     "data": {
      "text/plain": [
       "0       Paper Plane Design Framed Wall Hanging Motivat...\n",
       "1       SAF 'Floral' Framed Painting (Wood, 30 inch x ...\n",
       "2       SAF 'UV Textured Modern Art Print Framed' Pain...\n",
       "3       SAF Flower Print Framed Painting (Synthetic, 1...\n",
       "4       Incredible Gifts India Wooden Happy Birthday U...\n",
       "                              ...                        \n",
       "3995    Cooler Master Silent 120 SI2 (4 in 1) Cooling ...\n",
       "3996    MAA-KU DC Axial Case Cooling Fan. SIZE : 3.65\"...\n",
       "3997    Cooler Master 120MM SickleFlow X Led Fan (Colo...\n",
       "3998    Antec Prizm 120 RGB Case Fan Radiator with Asu...\n",
       "3999    Cooler Master Sickleflowx Blue Led Cooler Colo...\n",
       "Name: text, Length: 4000, dtype: object"
      ]
     },
     "execution_count": 15,
     "metadata": {},
     "output_type": "execute_result"
    }
   ],
   "source": [
    "x = df['text']\n",
    "x"
   ]
  },
  {
   "cell_type": "code",
   "execution_count": 16,
   "metadata": {
    "id": "LcSeDDrrDLor"
   },
   "outputs": [],
   "source": [
    "# x_vect = tfidf.fit_transform(df['text'])"
   ]
  },
  {
   "cell_type": "code",
   "execution_count": 17,
   "metadata": {
    "id": "D_hIs-9nDLor"
   },
   "outputs": [
    {
     "name": "stderr",
     "output_type": "stream",
     "text": [
      "/home/dai/anaconda3/envs/NLP/lib/python3.11/site-packages/sklearn/utils/validation.py:605: FutureWarning: is_sparse is deprecated and will be removed in a future version. Check `isinstance(dtype, pd.SparseDtype)` instead.\n",
      "  if is_sparse(pd_dtype):\n",
      "/home/dai/anaconda3/envs/NLP/lib/python3.11/site-packages/sklearn/utils/validation.py:614: FutureWarning: is_sparse is deprecated and will be removed in a future version. Check `isinstance(dtype, pd.SparseDtype)` instead.\n",
      "  if is_sparse(pd_dtype) or not is_extension_array_dtype(pd_dtype):\n"
     ]
    }
   ],
   "source": [
    "from sklearn.model_selection import train_test_split\n",
    "\n",
    "\n",
    "x_train, x_test, y_train, y_test = train_test_split(x, y, random_state= 0, stratify= y, test_size=0.25)"
   ]
  },
  {
   "cell_type": "code",
   "execution_count": 18,
   "metadata": {
    "colab": {
     "base_uri": "https://localhost:8080/"
    },
    "id": "s1L5SyobDLos",
    "outputId": "3276fcc6-2295-43d5-8127-fdeafd28945e"
   },
   "outputs": [
    {
     "data": {
      "text/plain": [
       "((3000,), (1000,))"
      ]
     },
     "execution_count": 18,
     "metadata": {},
     "output_type": "execute_result"
    }
   ],
   "source": [
    "x_train.shape, x_test.shape"
   ]
  },
  {
   "cell_type": "code",
   "execution_count": 19,
   "metadata": {},
   "outputs": [],
   "source": [
    "# turn a doc into clean tokens\n",
    "def clean_doc(doc):\n",
    "    # split into tokens by white space\n",
    "    tokens = doc.split()\n",
    "    # prepare regex for char filtering\n",
    "    re_punc = re.compile('[%s]' % re.escape(string.punctuation))\n",
    "    # remove puctuation from each word\n",
    "    tokens = [re_punc.sub('', w) for w in tokens]\n",
    "    # remove reamaning tokens that are not alphabetic\n",
    "    tokens = [word for word in tokens if word.isalpha()]\n",
    "    # filter out stop words\n",
    "    stop_words = set(stopwords.words('english'))\n",
    "    tokens = [w for w in tokens if not w in stop_words]\n",
    "    # filter out short tokens\n",
    "    tokens = [word for word in tokens if len(word) > 1]\n",
    "    return tokens"
   ]
  },
  {
   "cell_type": "code",
   "execution_count": 20,
   "metadata": {},
   "outputs": [],
   "source": [
    "df['text'] = df['text'].apply(lambda x: clean_doc(x))"
   ]
  },
  {
   "cell_type": "code",
   "execution_count": 21,
   "metadata": {},
   "outputs": [
    {
     "data": {
      "text/html": [
       "<div>\n",
       "<style scoped>\n",
       "    .dataframe tbody tr th:only-of-type {\n",
       "        vertical-align: middle;\n",
       "    }\n",
       "\n",
       "    .dataframe tbody tr th {\n",
       "        vertical-align: top;\n",
       "    }\n",
       "\n",
       "    .dataframe thead th {\n",
       "        text-align: right;\n",
       "    }\n",
       "</style>\n",
       "<table border=\"1\" class=\"dataframe\">\n",
       "  <thead>\n",
       "    <tr style=\"text-align: right;\">\n",
       "      <th></th>\n",
       "      <th>class</th>\n",
       "      <th>text</th>\n",
       "    </tr>\n",
       "  </thead>\n",
       "  <tbody>\n",
       "    <tr>\n",
       "      <th>0</th>\n",
       "      <td>3</td>\n",
       "      <td>[Paper, Plane, Design, Framed, Wall, Hanging, ...</td>\n",
       "    </tr>\n",
       "    <tr>\n",
       "      <th>1</th>\n",
       "      <td>3</td>\n",
       "      <td>[SAF, Floral, Framed, Painting, Wood, inch, in...</td>\n",
       "    </tr>\n",
       "    <tr>\n",
       "      <th>2</th>\n",
       "      <td>3</td>\n",
       "      <td>[SAF, UV, Textured, Modern, Art, Print, Framed...</td>\n",
       "    </tr>\n",
       "    <tr>\n",
       "      <th>3</th>\n",
       "      <td>3</td>\n",
       "      <td>[SAF, Flower, Print, Framed, Painting, Synthet...</td>\n",
       "    </tr>\n",
       "    <tr>\n",
       "      <th>4</th>\n",
       "      <td>3</td>\n",
       "      <td>[Incredible, Gifts, India, Wooden, Happy, Birt...</td>\n",
       "    </tr>\n",
       "    <tr>\n",
       "      <th>...</th>\n",
       "      <td>...</td>\n",
       "      <td>...</td>\n",
       "    </tr>\n",
       "    <tr>\n",
       "      <th>3995</th>\n",
       "      <td>2</td>\n",
       "      <td>[Cooler, Master, Silent, Cooling, Fan, Size, C...</td>\n",
       "    </tr>\n",
       "    <tr>\n",
       "      <th>3996</th>\n",
       "      <td>2</td>\n",
       "      <td>[MAAKU, DC, Axial, Case, Cooling, Fan, SIZE, i...</td>\n",
       "    </tr>\n",
       "    <tr>\n",
       "      <th>3997</th>\n",
       "      <td>2</td>\n",
       "      <td>[Cooler, Master, SickleFlow, Led, Fan, Colors,...</td>\n",
       "    </tr>\n",
       "    <tr>\n",
       "      <th>3998</th>\n",
       "      <td>2</td>\n",
       "      <td>[Antec, Prizm, RGB, Case, Fan, Radiator, Asus,...</td>\n",
       "    </tr>\n",
       "    <tr>\n",
       "      <th>3999</th>\n",
       "      <td>2</td>\n",
       "      <td>[Cooler, Master, Sickleflowx, Blue, Led, Coole...</td>\n",
       "    </tr>\n",
       "  </tbody>\n",
       "</table>\n",
       "<p>4000 rows × 2 columns</p>\n",
       "</div>"
      ],
      "text/plain": [
       "      class                                               text\n",
       "0         3  [Paper, Plane, Design, Framed, Wall, Hanging, ...\n",
       "1         3  [SAF, Floral, Framed, Painting, Wood, inch, in...\n",
       "2         3  [SAF, UV, Textured, Modern, Art, Print, Framed...\n",
       "3         3  [SAF, Flower, Print, Framed, Painting, Synthet...\n",
       "4         3  [Incredible, Gifts, India, Wooden, Happy, Birt...\n",
       "...     ...                                                ...\n",
       "3995      2  [Cooler, Master, Silent, Cooling, Fan, Size, C...\n",
       "3996      2  [MAAKU, DC, Axial, Case, Cooling, Fan, SIZE, i...\n",
       "3997      2  [Cooler, Master, SickleFlow, Led, Fan, Colors,...\n",
       "3998      2  [Antec, Prizm, RGB, Case, Fan, Radiator, Asus,...\n",
       "3999      2  [Cooler, Master, Sickleflowx, Blue, Led, Coole...\n",
       "\n",
       "[4000 rows x 2 columns]"
      ]
     },
     "execution_count": 21,
     "metadata": {},
     "output_type": "execute_result"
    }
   ],
   "source": [
    "df"
   ]
  },
  {
   "cell_type": "code",
   "execution_count": 22,
   "metadata": {},
   "outputs": [],
   "source": [
    "from tensorflow.keras.models import Sequential\n",
    "from tensorflow.keras.layers import Dense"
   ]
  },
  {
   "cell_type": "code",
   "execution_count": 23,
   "metadata": {},
   "outputs": [],
   "source": [
    "# define the model\n",
    "def define_model(n_words):\n",
    "  # define network\n",
    "  model = Sequential()\n",
    "  model.add(Dense(100, input_shape = (n_words,), activation = 'relu'))\n",
    "  model.add(Dense(50, activation = 'relu'))\n",
    "  model.add(Dense(1,  activation = 'sigmoid'))\n",
    "  # compile network\n",
    "  model.compile(loss = 'categorical_crossentropy', optimizer = 'adam', metrics = ['accuracy'])\n",
    "  # summerize defined model\n",
    "  model.summary()\n",
    "  plot_model(model, to_file='model.png',show_shapes=True)\n",
    "  return model"
   ]
  },
  {
   "cell_type": "code",
   "execution_count": 24,
   "metadata": {},
   "outputs": [],
   "source": [
    "# pip install pydot graphviz"
   ]
  },
  {
   "cell_type": "code",
   "execution_count": 25,
   "metadata": {},
   "outputs": [
    {
     "name": "stdout",
     "output_type": "stream",
     "text": [
      "Model: \"sequential\"\n",
      "_________________________________________________________________\n",
      " Layer (type)                Output Shape              Param #   \n",
      "=================================================================\n",
      " dense (Dense)               (None, 100)               10100     \n",
      "                                                                 \n",
      " dense_1 (Dense)             (None, 50)                5050      \n",
      "                                                                 \n",
      " dense_2 (Dense)             (None, 1)                 51        \n",
      "                                                                 \n",
      "=================================================================\n",
      "Total params: 15201 (59.38 KB)\n",
      "Trainable params: 15201 (59.38 KB)\n",
      "Non-trainable params: 0 (0.00 Byte)\n",
      "_________________________________________________________________\n"
     ]
    },
    {
     "data": {
      "text/plain": [
       "<keras.src.engine.sequential.Sequential at 0x7fd57ea3ccd0>"
      ]
     },
     "execution_count": 25,
     "metadata": {},
     "output_type": "execute_result"
    }
   ],
   "source": [
    "define_model(100)"
   ]
  },
  {
   "cell_type": "code",
   "execution_count": 26,
   "metadata": {},
   "outputs": [],
   "source": [
    "def create_tokenizer(lines):\n",
    "  tokenizer = Tokenizer()\n",
    "  tokenizer.fit_on_texts(lines)\n",
    "  return tokenizer"
   ]
  },
  {
   "cell_type": "code",
   "execution_count": 27,
   "metadata": {},
   "outputs": [],
   "source": [
    "# create the tokenizer\n",
    "tokenizer = create_tokenizer(x_train) "
   ]
  },
  {
   "cell_type": "code",
   "execution_count": 28,
   "metadata": {},
   "outputs": [
    {
     "data": {
      "text/plain": [
       "(3000, 21039)"
      ]
     },
     "execution_count": 28,
     "metadata": {},
     "output_type": "execute_result"
    }
   ],
   "source": [
    "# enocde data\n",
    "x_train = tokenizer.texts_to_matrix(x_train, mode = 'binary')\n",
    "x_train.shape"
   ]
  },
  {
   "cell_type": "code",
   "execution_count": 29,
   "metadata": {},
   "outputs": [
    {
     "data": {
      "text/plain": [
       "(1000, 21039)"
      ]
     },
     "execution_count": 29,
     "metadata": {},
     "output_type": "execute_result"
    }
   ],
   "source": [
    "x_test = tokenizer.texts_to_matrix(x_test, mode = 'binary')\n",
    "x_test.shape"
   ]
  },
  {
   "cell_type": "code",
   "execution_count": 30,
   "metadata": {},
   "outputs": [],
   "source": [
    "# tokenizer.word_docs"
   ]
  },
  {
   "cell_type": "code",
   "execution_count": 31,
   "metadata": {},
   "outputs": [
    {
     "name": "stdout",
     "output_type": "stream",
     "text": [
      "Model: \"sequential_1\"\n",
      "_________________________________________________________________\n",
      " Layer (type)                Output Shape              Param #   \n",
      "=================================================================\n",
      " dense_3 (Dense)             (None, 100)               2104000   \n",
      "                                                                 \n",
      " dense_4 (Dense)             (None, 50)                5050      \n",
      "                                                                 \n",
      " dense_5 (Dense)             (None, 1)                 51        \n",
      "                                                                 \n",
      "=================================================================\n",
      "Total params: 2109101 (8.05 MB)\n",
      "Trainable params: 2109101 (8.05 MB)\n",
      "Non-trainable params: 0 (0.00 Byte)\n",
      "_________________________________________________________________\n"
     ]
    }
   ],
   "source": [
    "# define network\n",
    "n_words = x_train.shape[1]\n",
    "model = define_model(n_words)"
   ]
  },
  {
   "cell_type": "code",
   "execution_count": 32,
   "metadata": {},
   "outputs": [
    {
     "name": "stdout",
     "output_type": "stream",
     "text": [
      "Epoch 1/100\n"
     ]
    },
    {
     "name": "stderr",
     "output_type": "stream",
     "text": [
      "/home/dai/anaconda3/envs/NLP/lib/python3.11/site-packages/tensorflow/python/util/dispatch.py:1260: SyntaxWarning: In loss categorical_crossentropy, expected y_pred.shape to be (batch_size, num_classes) with num_classes > 1. Received: y_pred.shape=(10, 1). Consider using 'binary_crossentropy' if you only have 2 classes.\n",
      "  return dispatch_target(*args, **kwargs)\n"
     ]
    },
    {
     "name": "stdout",
     "output_type": "stream",
     "text": [
      "300/300 [==============================] - 7s 16ms/step - loss: 0.0000e+00 - accuracy: 0.2870\n",
      "Epoch 2/100\n",
      "300/300 [==============================] - 5s 16ms/step - loss: 0.0000e+00 - accuracy: 0.3213\n",
      "Epoch 3/100\n",
      "300/300 [==============================] - 5s 16ms/step - loss: 0.0000e+00 - accuracy: 0.3307\n",
      "Epoch 4/100\n",
      "300/300 [==============================] - 5s 16ms/step - loss: 0.0000e+00 - accuracy: 0.3320\n",
      "Epoch 5/100\n",
      "300/300 [==============================] - 5s 16ms/step - loss: 0.0000e+00 - accuracy: 0.3350\n",
      "Epoch 6/100\n",
      "300/300 [==============================] - 5s 16ms/step - loss: 0.0000e+00 - accuracy: 0.3347\n",
      "Epoch 7/100\n",
      "300/300 [==============================] - 5s 15ms/step - loss: 0.0000e+00 - accuracy: 0.3350\n",
      "Epoch 8/100\n",
      "300/300 [==============================] - 5s 15ms/step - loss: 0.0000e+00 - accuracy: 0.3377\n",
      "Epoch 9/100\n",
      "300/300 [==============================] - 5s 15ms/step - loss: 0.0000e+00 - accuracy: 0.3367\n",
      "Epoch 10/100\n",
      "300/300 [==============================] - 5s 16ms/step - loss: 0.0000e+00 - accuracy: 0.3390\n",
      "Epoch 11/100\n",
      "300/300 [==============================] - 5s 16ms/step - loss: 0.0000e+00 - accuracy: 0.3397\n",
      "Epoch 12/100\n",
      "300/300 [==============================] - 5s 16ms/step - loss: 0.0000e+00 - accuracy: 0.3390\n",
      "Epoch 13/100\n",
      "300/300 [==============================] - 5s 15ms/step - loss: 0.0000e+00 - accuracy: 0.3383\n",
      "Epoch 14/100\n",
      "300/300 [==============================] - 5s 16ms/step - loss: 0.0000e+00 - accuracy: 0.3390\n",
      "Epoch 15/100\n",
      "300/300 [==============================] - 5s 16ms/step - loss: 0.0000e+00 - accuracy: 0.3400\n",
      "Epoch 16/100\n",
      "300/300 [==============================] - 5s 16ms/step - loss: 0.0000e+00 - accuracy: 0.3383\n",
      "Epoch 17/100\n",
      "300/300 [==============================] - 5s 16ms/step - loss: 0.0000e+00 - accuracy: 0.3390\n",
      "Epoch 18/100\n",
      "300/300 [==============================] - 5s 16ms/step - loss: 0.0000e+00 - accuracy: 0.3390\n",
      "Epoch 19/100\n",
      "300/300 [==============================] - 5s 16ms/step - loss: 0.0000e+00 - accuracy: 0.3407\n",
      "Epoch 20/100\n",
      "300/300 [==============================] - 5s 16ms/step - loss: 0.0000e+00 - accuracy: 0.3420\n",
      "Epoch 21/100\n",
      "300/300 [==============================] - 5s 15ms/step - loss: 0.0000e+00 - accuracy: 0.3417\n",
      "Epoch 22/100\n",
      "300/300 [==============================] - 5s 16ms/step - loss: 0.0000e+00 - accuracy: 0.3423\n",
      "Epoch 23/100\n",
      "300/300 [==============================] - 5s 16ms/step - loss: 0.0000e+00 - accuracy: 0.3420\n",
      "Epoch 24/100\n",
      "300/300 [==============================] - 5s 15ms/step - loss: 0.0000e+00 - accuracy: 0.3413\n",
      "Epoch 25/100\n",
      "300/300 [==============================] - 5s 16ms/step - loss: 0.0000e+00 - accuracy: 0.3437\n",
      "Epoch 26/100\n",
      "300/300 [==============================] - 5s 15ms/step - loss: 0.0000e+00 - accuracy: 0.3433\n",
      "Epoch 27/100\n",
      "300/300 [==============================] - 5s 15ms/step - loss: 0.0000e+00 - accuracy: 0.3433\n",
      "Epoch 28/100\n",
      "300/300 [==============================] - 5s 15ms/step - loss: 0.0000e+00 - accuracy: 0.3433\n",
      "Epoch 29/100\n",
      "300/300 [==============================] - 5s 16ms/step - loss: 0.0000e+00 - accuracy: 0.3437\n",
      "Epoch 30/100\n",
      "300/300 [==============================] - 5s 15ms/step - loss: 0.0000e+00 - accuracy: 0.3437\n",
      "Epoch 31/100\n",
      "300/300 [==============================] - 5s 15ms/step - loss: 0.0000e+00 - accuracy: 0.3430\n",
      "Epoch 32/100\n",
      "300/300 [==============================] - 5s 15ms/step - loss: 0.0000e+00 - accuracy: 0.3437\n",
      "Epoch 33/100\n",
      "300/300 [==============================] - 5s 15ms/step - loss: 0.0000e+00 - accuracy: 0.3440\n",
      "Epoch 34/100\n",
      "300/300 [==============================] - 5s 16ms/step - loss: 0.0000e+00 - accuracy: 0.3437\n",
      "Epoch 35/100\n",
      "300/300 [==============================] - 5s 15ms/step - loss: 0.0000e+00 - accuracy: 0.3437\n",
      "Epoch 36/100\n",
      "300/300 [==============================] - 5s 16ms/step - loss: 0.0000e+00 - accuracy: 0.3437\n",
      "Epoch 37/100\n",
      "300/300 [==============================] - 5s 15ms/step - loss: 0.0000e+00 - accuracy: 0.3437\n",
      "Epoch 38/100\n",
      "300/300 [==============================] - 5s 15ms/step - loss: 0.0000e+00 - accuracy: 0.3440\n",
      "Epoch 39/100\n",
      "300/300 [==============================] - 5s 15ms/step - loss: 0.0000e+00 - accuracy: 0.3440\n",
      "Epoch 40/100\n",
      "300/300 [==============================] - 5s 15ms/step - loss: 0.0000e+00 - accuracy: 0.3440\n",
      "Epoch 41/100\n",
      "300/300 [==============================] - 5s 16ms/step - loss: 0.0000e+00 - accuracy: 0.3447\n",
      "Epoch 42/100\n",
      "300/300 [==============================] - 5s 15ms/step - loss: 0.0000e+00 - accuracy: 0.3440\n",
      "Epoch 43/100\n",
      "300/300 [==============================] - 5s 16ms/step - loss: 0.0000e+00 - accuracy: 0.3440\n",
      "Epoch 44/100\n",
      "300/300 [==============================] - 5s 15ms/step - loss: 0.0000e+00 - accuracy: 0.3440\n",
      "Epoch 45/100\n",
      "300/300 [==============================] - 5s 15ms/step - loss: 0.0000e+00 - accuracy: 0.3440\n",
      "Epoch 46/100\n",
      "300/300 [==============================] - 5s 16ms/step - loss: 0.0000e+00 - accuracy: 0.3443\n",
      "Epoch 47/100\n",
      "300/300 [==============================] - 5s 16ms/step - loss: 0.0000e+00 - accuracy: 0.3447\n",
      "Epoch 48/100\n",
      "300/300 [==============================] - 5s 15ms/step - loss: 0.0000e+00 - accuracy: 0.3443\n",
      "Epoch 49/100\n",
      "300/300 [==============================] - 5s 15ms/step - loss: 0.0000e+00 - accuracy: 0.3440\n",
      "Epoch 50/100\n",
      "300/300 [==============================] - 5s 16ms/step - loss: 0.0000e+00 - accuracy: 0.3443\n",
      "Epoch 51/100\n",
      "300/300 [==============================] - 5s 15ms/step - loss: 0.0000e+00 - accuracy: 0.3447\n",
      "Epoch 52/100\n",
      "300/300 [==============================] - 5s 16ms/step - loss: 0.0000e+00 - accuracy: 0.3447\n",
      "Epoch 53/100\n",
      "300/300 [==============================] - 5s 16ms/step - loss: 0.0000e+00 - accuracy: 0.3447\n",
      "Epoch 54/100\n",
      "300/300 [==============================] - 5s 16ms/step - loss: 0.0000e+00 - accuracy: 0.3447\n",
      "Epoch 55/100\n",
      "300/300 [==============================] - 5s 16ms/step - loss: 0.0000e+00 - accuracy: 0.3447\n",
      "Epoch 56/100\n",
      "300/300 [==============================] - 5s 15ms/step - loss: 0.0000e+00 - accuracy: 0.3447\n",
      "Epoch 57/100\n",
      "300/300 [==============================] - 5s 16ms/step - loss: 0.0000e+00 - accuracy: 0.3447\n",
      "Epoch 58/100\n",
      "300/300 [==============================] - 5s 15ms/step - loss: 0.0000e+00 - accuracy: 0.3447\n",
      "Epoch 59/100\n",
      "300/300 [==============================] - 5s 16ms/step - loss: 0.0000e+00 - accuracy: 0.3447\n",
      "Epoch 60/100\n",
      "300/300 [==============================] - 5s 16ms/step - loss: 0.0000e+00 - accuracy: 0.3447\n",
      "Epoch 61/100\n",
      "300/300 [==============================] - 5s 16ms/step - loss: 0.0000e+00 - accuracy: 0.3447\n",
      "Epoch 62/100\n",
      "300/300 [==============================] - 5s 15ms/step - loss: 0.0000e+00 - accuracy: 0.3447\n",
      "Epoch 63/100\n",
      "300/300 [==============================] - 5s 15ms/step - loss: 0.0000e+00 - accuracy: 0.3447\n",
      "Epoch 64/100\n",
      "300/300 [==============================] - 5s 15ms/step - loss: 0.0000e+00 - accuracy: 0.3447\n",
      "Epoch 65/100\n",
      "300/300 [==============================] - 5s 15ms/step - loss: 0.0000e+00 - accuracy: 0.3447\n",
      "Epoch 66/100\n",
      "300/300 [==============================] - 5s 16ms/step - loss: 0.0000e+00 - accuracy: 0.3447\n",
      "Epoch 67/100\n",
      "300/300 [==============================] - 5s 15ms/step - loss: 0.0000e+00 - accuracy: 0.3447\n",
      "Epoch 68/100\n",
      "300/300 [==============================] - 5s 16ms/step - loss: 0.0000e+00 - accuracy: 0.3447\n",
      "Epoch 69/100\n",
      "300/300 [==============================] - 5s 15ms/step - loss: 0.0000e+00 - accuracy: 0.3447\n",
      "Epoch 70/100\n",
      "300/300 [==============================] - 5s 15ms/step - loss: 0.0000e+00 - accuracy: 0.3447\n",
      "Epoch 71/100\n",
      "300/300 [==============================] - 5s 15ms/step - loss: 0.0000e+00 - accuracy: 0.3447\n",
      "Epoch 72/100\n",
      "300/300 [==============================] - 5s 16ms/step - loss: 0.0000e+00 - accuracy: 0.3447\n",
      "Epoch 73/100\n",
      "300/300 [==============================] - 5s 15ms/step - loss: 0.0000e+00 - accuracy: 0.3447\n",
      "Epoch 74/100\n",
      "300/300 [==============================] - 5s 15ms/step - loss: 0.0000e+00 - accuracy: 0.3447\n",
      "Epoch 75/100\n",
      "300/300 [==============================] - 5s 15ms/step - loss: 0.0000e+00 - accuracy: 0.3447\n",
      "Epoch 76/100\n",
      "300/300 [==============================] - 5s 15ms/step - loss: 0.0000e+00 - accuracy: 0.3447\n",
      "Epoch 77/100\n",
      "300/300 [==============================] - 5s 15ms/step - loss: 0.0000e+00 - accuracy: 0.3447\n",
      "Epoch 78/100\n",
      "300/300 [==============================] - 5s 15ms/step - loss: 0.0000e+00 - accuracy: 0.3447\n",
      "Epoch 79/100\n",
      "300/300 [==============================] - 5s 16ms/step - loss: 0.0000e+00 - accuracy: 0.3447\n",
      "Epoch 80/100\n",
      "300/300 [==============================] - 5s 15ms/step - loss: 0.0000e+00 - accuracy: 0.3447\n",
      "Epoch 81/100\n",
      "300/300 [==============================] - 5s 16ms/step - loss: 0.0000e+00 - accuracy: 0.3447\n",
      "Epoch 82/100\n",
      "300/300 [==============================] - 5s 16ms/step - loss: 0.0000e+00 - accuracy: 0.3447\n",
      "Epoch 83/100\n",
      "300/300 [==============================] - 5s 16ms/step - loss: 0.0000e+00 - accuracy: 0.3447\n",
      "Epoch 84/100\n",
      "300/300 [==============================] - 5s 15ms/step - loss: 0.0000e+00 - accuracy: 0.3447\n",
      "Epoch 85/100\n",
      "300/300 [==============================] - 5s 16ms/step - loss: 0.0000e+00 - accuracy: 0.3447\n",
      "Epoch 86/100\n",
      "300/300 [==============================] - 5s 16ms/step - loss: 0.0000e+00 - accuracy: 0.3447\n",
      "Epoch 87/100\n",
      "300/300 [==============================] - 5s 15ms/step - loss: 0.0000e+00 - accuracy: 0.3447\n",
      "Epoch 88/100\n",
      "300/300 [==============================] - 5s 15ms/step - loss: 0.0000e+00 - accuracy: 0.3447\n",
      "Epoch 89/100\n",
      "300/300 [==============================] - 5s 15ms/step - loss: 0.0000e+00 - accuracy: 0.3447\n",
      "Epoch 90/100\n",
      "300/300 [==============================] - 5s 16ms/step - loss: 0.0000e+00 - accuracy: 0.3447\n",
      "Epoch 91/100\n",
      "300/300 [==============================] - 5s 15ms/step - loss: 0.0000e+00 - accuracy: 0.3447\n",
      "Epoch 92/100\n",
      "300/300 [==============================] - 5s 16ms/step - loss: 0.0000e+00 - accuracy: 0.3450\n",
      "Epoch 93/100\n",
      "300/300 [==============================] - 5s 15ms/step - loss: 0.0000e+00 - accuracy: 0.3447\n",
      "Epoch 94/100\n",
      "300/300 [==============================] - 5s 16ms/step - loss: 0.0000e+00 - accuracy: 0.3447\n",
      "Epoch 95/100\n",
      "300/300 [==============================] - 5s 16ms/step - loss: 0.0000e+00 - accuracy: 0.3447\n",
      "Epoch 96/100\n",
      "300/300 [==============================] - 5s 16ms/step - loss: 0.0000e+00 - accuracy: 0.3447\n",
      "Epoch 97/100\n",
      "300/300 [==============================] - 5s 15ms/step - loss: 0.0000e+00 - accuracy: 0.3447\n",
      "Epoch 98/100\n",
      "300/300 [==============================] - 5s 15ms/step - loss: 0.0000e+00 - accuracy: 0.3447\n",
      "Epoch 99/100\n",
      "300/300 [==============================] - 5s 15ms/step - loss: 0.0000e+00 - accuracy: 0.3447\n",
      "Epoch 100/100\n",
      "300/300 [==============================] - 5s 15ms/step - loss: 0.0000e+00 - accuracy: 0.3447\n"
     ]
    },
    {
     "data": {
      "text/plain": [
       "<keras.src.callbacks.History at 0x7fd57833e8d0>"
      ]
     },
     "execution_count": 32,
     "metadata": {},
     "output_type": "execute_result"
    }
   ],
   "source": [
    "model.fit(x_train, y_train, epochs = 100, batch_size=10)"
   ]
  },
  {
   "cell_type": "code",
   "execution_count": 33,
   "metadata": {},
   "outputs": [
    {
     "data": {
      "image/png": "[encoded data removed]",
      "text/plain": [
       "<IPython.core.display.Image object>"
      ]
     },
     "execution_count": 33,
     "metadata": {},
     "output_type": "execute_result"
    }
   ],
   "source": [
    "plot_model(model, show_dtype=True, show_layer_activations = True, show_shapes = True, show_layer_names=True)"
   ]
  },
  {
   "cell_type": "code",
   "execution_count": 34,
   "metadata": {},
   "outputs": [
    {
     "name": "stdout",
     "output_type": "stream",
     "text": [
      "   1/1000 [..............................] - ETA: 4:28 - loss: 0.0000e+00 - accuracy: 0.0000e+00"
     ]
    },
    {
     "name": "stderr",
     "output_type": "stream",
     "text": [
      "/home/dai/anaconda3/envs/NLP/lib/python3.11/site-packages/tensorflow/python/util/dispatch.py:1260: SyntaxWarning: In loss categorical_crossentropy, expected y_pred.shape to be (batch_size, num_classes) with num_classes > 1. Received: y_pred.shape=(1, 1). Consider using 'binary_crossentropy' if you only have 2 classes.\n",
      "  return dispatch_target(*args, **kwargs)\n"
     ]
    },
    {
     "name": "stdout",
     "output_type": "stream",
     "text": [
      "1000/1000 [==============================] - 4s 4ms/step - loss: 0.0000e+00 - accuracy: 0.3310\n"
     ]
    },
    {
     "data": {
      "text/plain": [
       "[0.0, 0.3310000002384186]"
      ]
     },
     "execution_count": 34,
     "metadata": {},
     "output_type": "execute_result"
    }
   ],
   "source": [
    "model.evaluate(x_test,np.array(y_test), batch_size=1)"
   ]
  },
  {
   "cell_type": "code",
   "execution_count": 35,
   "metadata": {},
   "outputs": [],
   "source": [
    "text1 = 'Best movie ever! It was great, I will definitely recommend it.'\n",
    "text2 = 'This is a bad movie.'\n",
    "text3 = 'This is a best movie'\n",
    "text4 = 'The acting was bad in this movie'"
   ]
  },
  {
   "cell_type": "code",
   "execution_count": 36,
   "metadata": {},
   "outputs": [],
   "source": [
    "def predict(text):\n",
    "  tokens = clean_doc(text)\n",
    "  text = \" \".join(tokens)\n",
    "  x_test = tokenizer.texts_to_matrix([text], mode = 'binary')\n",
    "  prediction = model.predict(x_test)\n",
    "  if prediction >= 0.5:\n",
    "    return 'Positive'\n",
    "  else:\n",
    "     return 'Negative'"
   ]
  },
  {
   "cell_type": "code",
   "execution_count": 37,
   "metadata": {},
   "outputs": [
    {
     "name": "stdout",
     "output_type": "stream",
     "text": [
      "1/1 [==============================] - 0s 111ms/step\n"
     ]
    },
    {
     "data": {
      "text/plain": [
       "'Positive'"
      ]
     },
     "execution_count": 37,
     "metadata": {},
     "output_type": "execute_result"
    }
   ],
   "source": [
    "predict(text1)"
   ]
  },
  {
   "cell_type": "code",
   "execution_count": 38,
   "metadata": {},
   "outputs": [
    {
     "name": "stdout",
     "output_type": "stream",
     "text": [
      "1/1 [==============================] - 0s 33ms/step\n"
     ]
    },
    {
     "data": {
      "text/plain": [
       "'Positive'"
      ]
     },
     "execution_count": 38,
     "metadata": {},
     "output_type": "execute_result"
    }
   ],
   "source": [
    "predict(text2)"
   ]
  },
  {
   "cell_type": "code",
   "execution_count": 39,
   "metadata": {},
   "outputs": [
    {
     "name": "stdout",
     "output_type": "stream",
     "text": [
      "1/1 [==============================] - 0s 27ms/step\n"
     ]
    },
    {
     "data": {
      "text/plain": [
       "'Positive'"
      ]
     },
     "execution_count": 39,
     "metadata": {},
     "output_type": "execute_result"
    }
   ],
   "source": [
    "predict(text3)"
   ]
  },
  {
   "cell_type": "code",
   "execution_count": 40,
   "metadata": {},
   "outputs": [
    {
     "name": "stdout",
     "output_type": "stream",
     "text": [
      "1/1 [==============================] - 0s 29ms/step\n"
     ]
    },
    {
     "data": {
      "text/plain": [
       "'Positive'"
      ]
     },
     "execution_count": 40,
     "metadata": {},
     "output_type": "execute_result"
    }
   ],
   "source": [
    "predict(text4)"
   ]
  },
  {
   "cell_type": "code",
   "execution_count": 41,
   "metadata": {},
   "outputs": [],
   "source": [
    "# classify a review a negative or positive\n",
    "def predict_sentiment(review):\n",
    "  #clean\n",
    "  tokens = clean_doc(review)\n",
    "  # Convert to line\n",
    "  line = ' '.join(tokens)\n",
    "  # encode\n",
    "  encoded = tokenizer.texts_to_matrix([line], mode = 'binary')\n",
    "  # predict sentiment\n",
    "  yhat = model.predict(encoded, verbose=0)\n",
    "  # retrieve predicted percentage and lable\n",
    "  percent_pos = yhat[0 ,0]\n",
    "  if round(percent_pos) == 0:\n",
    "    return (1-percent_pos), 'NEGATIVE'\n",
    "  return percent_pos, \"POSITIVE\""
   ]
  },
  {
   "cell_type": "code",
   "execution_count": 42,
   "metadata": {},
   "outputs": [
    {
     "name": "stdout",
     "output_type": "stream",
     "text": [
      "Review: [Best movie ever! It was great, I will definitely recommend it.]\n",
      " Sentiment: POSITIVE (1.000%)\n"
     ]
    }
   ],
   "source": [
    "percent, sentiment = predict_sentiment(text1)\n",
    "print('Review: [%s]\\n Sentiment: %s (%.3f%%)' % (text1, sentiment, percent))"
   ]
  },
  {
   "cell_type": "code",
   "execution_count": 43,
   "metadata": {},
   "outputs": [
    {
     "name": "stdout",
     "output_type": "stream",
     "text": [
      "Review: [Best movie ever! It was great, I will definitely recommend it.]\n",
      " Sentiment: POSITIVE (1.000%)\n"
     ]
    }
   ],
   "source": [
    "percent, sentiment = predict_sentiment(text2)\n",
    "print(f'Review: [{text1}]\\n Sentiment: {sentiment} ({percent:.3f}%)')"
   ]
  },
  {
   "cell_type": "code",
   "execution_count": 44,
   "metadata": {},
   "outputs": [
    {
     "data": {
      "text/plain": [
       "(1.0, 'POSITIVE')"
      ]
     },
     "execution_count": 44,
     "metadata": {},
     "output_type": "execute_result"
    }
   ],
   "source": [
    "predict_sentiment(text3)"
   ]
  },
  {
   "cell_type": "code",
   "execution_count": 45,
   "metadata": {},
   "outputs": [
    {
     "data": {
      "text/plain": [
       "(1.0, 'POSITIVE')"
      ]
     },
     "execution_count": 45,
     "metadata": {},
     "output_type": "execute_result"
    }
   ],
   "source": [
    "predict_sentiment(text4)"
   ]
  }
 ],
 "metadata": {
  "kernelspec": {
   "display_name": "Python 3 (ipykernel)",
   "language": "python",
   "name": "python3"
  },
  "language_info": {
   "codemirror_mode": {
    "name": "ipython",
    "version": 3
   },
   "file_extension": ".py",
   "mimetype": "text/x-python",
   "name": "python",
   "nbconvert_exporter": "python",
   "pygments_lexer": "ipython3",
   "version": "3.11.6"
  }
 },
 "nbformat": 4,
 "nbformat_minor": 4
}
