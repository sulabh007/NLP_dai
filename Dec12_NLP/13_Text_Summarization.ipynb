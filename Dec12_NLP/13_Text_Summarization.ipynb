{
 "cells": [
  {
   "cell_type": "code",
   "execution_count": 1,
   "metadata": {},
   "outputs": [],
   "source": [
    "# pip install gensim sumy transformers"
   ]
  },
  {
   "cell_type": "code",
   "execution_count": 2,
   "metadata": {},
   "outputs": [],
   "source": [
    "# Import the TextRank summarizer\n",
    "from sumy.summarizers.text_rank import TextRankSummarizer\n",
    "\n",
    "#Importing the parser and tokenizer\n",
    "from sumy.parsers.plaintext import PlaintextParser\n",
    "from sumy.nlp.tokenizers import Tokenizer"
   ]
  },
  {
   "cell_type": "code",
   "execution_count": 3,
   "metadata": {},
   "outputs": [],
   "source": [
    "text = \"\"\"The Bengal tiger is a population of the Panthera tigris tigris subspecies and the nominate tiger subspecies.[1] It ranks among the biggest wild cats alive today.[2][3] It is considered to belong to the world's charismatic megafauna.[4]\n",
    "The tiger is estimated to have been present in the Indian subcontinent since the Late Pleistocene, for about 12,000 to 16,500 years.[5][6][7] Today, it is threatened by poaching, loss and fragmentation of habitat, and was estimated at comprising fewer than 2,500 wild individuals by 2011. None of the Tiger Conservation Landscapes within its range is considered large enough to support an effective population of more than 250 adult individuals.[8]\n",
    "The Bengal tiger's historical range covered the Indus River valley until the early 19th century, almost all of India, Pakistan, southern Nepal, Bangladesh, Bhutan, and southwestern China. Today, it inhabits India, Bangladesh, Nepal, Bhutan, and southwestern China.[6] India's tiger population was estimated at 2,603–3,346 individuals by 2018.[9] Around 300–500 individuals are estimated in Bangladesh,[8] 355 in Nepal by 2022,[10] and 90 individuals in Bhutan by 2015.[11] \n",
    "Felis tigris was the scientific name used by Carl Linnaeus in 1758 for the tiger.[12] It was subordinated to the genus Panthera by Reginald Innes Pocock in 1929. Bengal is the traditional type locality of the species and the nominate subspecies Panthera tigris tigris.[13]\n",
    "The validity of several tiger subspecies in continental Asia was questioned in 1999. Morphologically, tigers from different regions vary little, and gene flow between populations in those regions is considered to have been possible during the Pleistocene. Therefore, it was proposed to recognise only two subspecies as valid, namely P. t. tigris in mainland Asia, and P. t. sondaica in the Greater Sunda Islands and possibly in Sundaland.[14] The nominate subspecies P. t. tigris constitutes two clades: the northern clade comprises the Siberian and Caspian tiger populations, and the southern clade all remaining continental tiger populations.[15] The extinct and living tiger populations in continental Asia have been subsumed to P. t. tigris since the revision of felid taxonomy in 2017.[1]\n",
    "Results of a genetic analysis of 32 tiger samples indicate that the Bengal tiger samples grouped into a different clade than the Siberian tiger samples.[16]\"\"\""
   ]
  },
  {
   "cell_type": "code",
   "execution_count": 4,
   "metadata": {},
   "outputs": [
    {
     "data": {
      "text/plain": [
       "20"
      ]
     },
     "execution_count": 4,
     "metadata": {},
     "output_type": "execute_result"
    }
   ],
   "source": [
    "from nltk.tokenize import sent_tokenize\n",
    "len(sent_tokenize(text))"
   ]
  },
  {
   "cell_type": "code",
   "execution_count": 28,
   "metadata": {},
   "outputs": [
    {
     "data": {
      "text/plain": [
       "<DOM with 1 paragraphs>"
      ]
     },
     "execution_count": 28,
     "metadata": {},
     "output_type": "execute_result"
    }
   ],
   "source": [
    "# Initializing the parser\n",
    "my_parser = PlaintextParser.from_string(text, Tokenizer('english'))\n",
    "my_parser.document"
   ]
  },
  {
   "cell_type": "code",
   "execution_count": 6,
   "metadata": {},
   "outputs": [],
   "source": [
    "# Create a summary of 3 sentences.\n",
    "tex_rank_summarizer = TextRankSummarizer()\n",
    "summary = tex_rank_summarizer(my_parser.document, sentences_count = 3)"
   ]
  },
  {
   "cell_type": "code",
   "execution_count": 7,
   "metadata": {},
   "outputs": [
    {
     "data": {
      "text/plain": [
       "(<Sentence: The Bengal tiger is a population of the Panthera tigris tigris subspecies and the nominate tiger subspecies.>,\n",
       " <Sentence: [4] The tiger is estimated to have been present in the Indian subcontinent since the Late Pleistocene, for about 12,000 to 16,500 years.>,\n",
       " <Sentence: [14] The nominate subspecies P. t. tigris constitutes two clades: the northern clade comprises the Siberian and Caspian tiger populations, and the southern clade all remaining continental tiger populations.>)"
      ]
     },
     "execution_count": 7,
     "metadata": {},
     "output_type": "execute_result"
    }
   ],
   "source": [
    "summary"
   ]
  },
  {
   "cell_type": "code",
   "execution_count": 8,
   "metadata": {},
   "outputs": [],
   "source": [
    "import urllib\n",
    "from bs4 import BeautifulSoup"
   ]
  },
  {
   "cell_type": "code",
   "execution_count": 9,
   "metadata": {},
   "outputs": [
    {
     "name": "stdout",
     "output_type": "stream",
     "text": [
      "History[edit] The fort has stood witness to many significant historic events including the birth of Chhatrapati Shivaji's son Rajaram I, the death of Shivaji's wife Saibai, the return of Shivaji from Agra, the burial of Afzal Khan's head in the Mahadarwaja walls of Balle Killa, the strict words of Sonopant Dabir to Shivaji.\n",
      "Amazing Maharashtra Rajgad Fort Information in Marathi Pune Trekkers vteForts in MaharashtraAhmednagar district Ahmednagar Fort Bahadurgad Bhairavgad Bitangad Harishchandragad Kaladgad Kharda Kunjargad Madan Fort Manjarsumbha fort Pabargad Patta Fort Ratangad Akola district Akola Fort Balapur Narnala Amravati district Amner Fort Gawilghur Aurangabad district Antur Fort Daulatabad Fort Chandrapur district Chandrapur Fort Ballarpur Fort Bhadravati Fort Manikgad Dhule district Bhamer Laling Thalner Kolhapur district Bhudargad Gandharvgad Panhala Pargadh Pavangad Samangad Vishalgad Latur district Udgir Mumbai City district Bombay Castle Dongri Fort Fort George Mahim Fort Mazagon Fort Riwa Fort Sewri Fort Sion Hillock Fort Worli Fort Mumbai Suburban district Castella de Aguada Madh Nagpur district Sitabuldi Nanded district Kandhar Fort Nashik district Aavandhagad Achala Fort Ahivant Fort Alang Anjaneri Ankai Fort Bahulagad Bhaskargad Chandwad Chauler Fort Dermal Dhodap Hargad Harihar fort Hatgad Indrai Kanchangad Kanhergad Kavnai fort Kulang Madangad Malegaon Mangi-Tungi Moragad Mulher Nhavigad Rajdher fort Ramsej Salher Salota Saptashrungi Tankai fort Tringalwadi Waghera Osmanabad district Naldurg Fort Paranda Fort Palghar district Bassein Kaldurg Tandulwadi Pune district Anghaai Fort Bhorgiri Fort Chawand Dhakoba Ghangad Hadsar Fort Induri Fort Jivdhan Kailasgad Kawla Korigad/Koraigad Lohagad Malhargad Manaranjan Mangalgad Morgiri Fort Narayangad Nimgiri Purandar Rajgad Rajmachi Rayri Fort Rohida Sangram Durg Sindola Fort Shaniwar Wada Shivneri Shrivardhan Sinhagad Tikona Torna Tung Vajragad Fort Visapur Raigad district Agarkot Avchitgad Bhimashankar Fort Birwadi Chambhargad Chandragad Dhak Bahiri Dronagiri Gadad Bahiri Ghangad Ghosalgad Irshalgad Karnala Khaderi Khanderi Kondhawi Fort Korlai Kothaligad Peb fort Kulaba Kurdugad Lingana Maangad Madgad Malanggad Mangalgad (Kangori) Manikgad Mirgad Mrugagad Murud-Janjira Padargad Padmadurg/ Kasa Fort Prabalgad Raigad Ratnagad Revdanda Sagargad Samrajgad Sankshi Fort Sarasgad Sarjekot Songad Songiri Fort Sudhagad Surgad Talagad Underi Vikatgad Peb fort Ratnagiri district Aambolgad Anjanwel Bankot Gowalkot Jaigad Kanakdurg Mahipatgad Mandangad Prachitgad Prunagad Rasalgad Ratnagiri (Ratnadurg) Sumargad Suvarnadurg Yashwantgad Satara district Ajinkyatara Bhairavgad Bhushangad Chandan-Vandan Dategad Gunavantgad Jangali Jayagad Kalyangad Kamalgad Kenjalgad Mahimangad Pandavgad Prachitgad Pratapgad Sajjangad Santoshgad Vairatgad Vardhangad Varugad Vasantgad Vasota Sindhudurg district Aasavgad Bharatgad Rajkot Fort Sanrjekot Sindhudurg Vijaydurg Thane district Aasawa Arnala Asherigad Ballalgad Balwantgad Belapur Fort Bhairavgad Bhandargad Bhavanigad Bhupatgad Chanderigad Dahanugad Daulatmandal Dharavi Durgadi Fort Gambhirgad Ghodbunder Fort Gorakhgad Gotara Jivdhaanigad Kamandurg Kelwegad Kohojgad Mahuli Malang gad Palasgad Pankot Tahuli Shirgav Fort Jalna district Jalna Fort(Mastgarh) Rohilagarh Jafrabad Qila\n",
      "vte Forts in IndiaAhom dynasty Talatal Ghar Kareng Ghar Rang Ghar Garchuk Lachit Garh Bahmani Sultanate Bidar Gulbarga British Raj Anchuthengu St. George William Bombay Riwa Worli Mazagon Sion Hillock Sewri Mahim Tellicherry St. David Deccan sultanates Ahmednagar Daulatabad Gawilghur Golconda Jalna Fort(Mastgarh) Narnala Panhala Delhi Sultanate Aligarh Bandhavgarh Hathras Qila Mubarak Siri Tughlaqabad Salimgarh Eastern Ganga dynasty Barabati Raibania Faruqi dynasty Asirgarh Laling Thalner Gujarat Sultanate Bhadra Jat Bawana Fort Gohad Lohagarh Nahar Singh Mahal Kakatiya dynasty Warangal Kingdom of Mysore Devanahalli Palakkad Bekal Sankagiri Malwa Sultanate Mandsaur Mandavgadh Maratha Empire Dongri Harishchandragad Kolaba Lohagad Sudhagad Sinhagad Tikona Panhala Pratapgad Vishalgad Rajgad Sindhudurg Vijaydurg Shivneri Raigad Gajendragarh Gingee Shaniwar Wada Jhansi Hinglajgarh Manora Visapur Sadashivgad Mughal Empire Purana Qila Chanderi Agra Allahabad Fatehpur Sikri Red Akola Hari Parbat Fort Ramnagar Nayak dynasty Chitradurga Bekal Dindigul Gingee Tiruchirapalli Rock Chandragiri Fort Hosdurg Portuguese Bassein Fort Bombay Castle Mahim Arnala Castella de Aguada Diu Fort Surat Castle Fortim do Mar, Diu Fortim do Mar, Simbor Emmanuel Fort Anjediva Korlai Madh Fort St Thomas, Tangasseri St. Angelo Pallipuram Aguada Fort Tiracol Anjediva Cranganore Ghodbunder Fortaleza de Chaul Ponda Fort Chapora Fort Fortaleza de São Sebastião de Tivim Cabo de Rama Corjuem Fort Mormugão fort Rachol Fort Fort of São Tiago of Banastarim Rajputs Achalgarh Amber Bhangarh Chittor Jaigarh Jaisalmer Jalore Junagarh Kankwadi Kumbhalgarh Nahargarh Qila Rai Pithora Taragarh Lal Kot Gwalior Kalinjar Hinglajgarh Mehrangarh Narwar Senapati fortress Sabalgarh Bahu Kangra Ranthambore Bhatner fort Sikh Empire Kamlah Siddi Murud-Janjira Belapur Underi Sur Empire Chunar Rohtasgarh Munger Travancore Vattakottai Udayagiri East Vijayanagara Chandragiri Gingee Bangalore Udayagiri Vellore\n"
     ]
    }
   ],
   "source": [
    "url = urllib.request.urlopen('https://en.wikipedia.org/wiki/Rajgad_Fort')\n",
    "data = url.read()\n",
    "\n",
    "soup = BeautifulSoup(data, 'html.parser')\n",
    "text = soup.get_text()\n",
    "\n",
    "my_parser = PlaintextParser.from_string(text, Tokenizer('english'))\n",
    "summary = tex_rank_summarizer(my_parser.document, sentences_count = 3)\n",
    "for sent in summary:\n",
    "    print(sent)\n"
   ]
  },
  {
   "cell_type": "code",
   "execution_count": 10,
   "metadata": {},
   "outputs": [
    {
     "name": "stdout",
     "output_type": "stream",
     "text": [
      "[25] In central India, 42 adult male Bengal tigers weighed on average 190 kg (420 lb) with a range of 167–234 kg (368–516 lb); their total length was 282 cm (111 in) with a range of 267–312 cm (105–123 in), and their average shoulder height was 99 cm (39 in); 39 adult female Bengal tigers weighed an average of 132 kg (291 lb) with a maximum of 156 kg (344 lb) and an average total length of 254 cm (100 in) ranging from 239 to 277 cm (94 to 109 in).\n",
      "[32] In the beginning of the 20th century, a male tiger was shot in central India with a head and body length of 221 cm (87 in) between pegs, a chest girth of 150 cm (59 in), a shoulder height of 109 cm (43 in) and a tail length of 81 cm (32 in), which was perhaps bitten off by a rival male.\n",
      "[13] Results of a phylogeographic study using 134 samples from tigers across the global range suggest that the historical northeastern distribution limit of the Bengal tiger is the region in the Chittagong Hills and Brahmaputra River basin, bordering the historical range of the Indochinese tiger.\n"
     ]
    }
   ],
   "source": [
    "url = urllib.request.urlopen('https://en.wikipedia.org/wiki/Bengal_tiger')\n",
    "data = url.read()\n",
    "\n",
    "soup = BeautifulSoup(data, 'html.parser')\n",
    "text = soup.find_all('p')\n",
    "\n",
    "txt = []\n",
    "for tag in text:\n",
    "    txt.append(tag.text.strip())\n",
    "txt = \" \".join(txt)\n",
    "\n",
    "\n",
    "my_parser = PlaintextParser.from_string(txt, Tokenizer('english'))\n",
    "summary = tex_rank_summarizer(my_parser.document, sentences_count = 3)\n",
    "for sent in summary:\n",
    "    print(sent)"
   ]
  },
  {
   "cell_type": "markdown",
   "metadata": {},
   "source": [
    "Lex Rank Summarizer"
   ]
  },
  {
   "cell_type": "code",
   "execution_count": 11,
   "metadata": {},
   "outputs": [],
   "source": [
    "# Import the LexRank summarizer\n",
    "from sumy.summarizers.lex_rank import LexRankSummarizer"
   ]
  },
  {
   "cell_type": "code",
   "execution_count": 12,
   "metadata": {},
   "outputs": [],
   "source": [
    "text = \"\"\"The Bengal tiger is a population of the Panthera tigris tigris subspecies and the nominate tiger subspecies.[1] It ranks among the biggest wild cats alive today.[2][3] It is considered to belong to the world's charismatic megafauna.[4]\n",
    "The tiger is estimated to have been present in the Indian subcontinent since the Late Pleistocene, for about 12,000 to 16,500 years.[5][6][7] Today, it is threatened by poaching, loss and fragmentation of habitat, and was estimated at comprising fewer than 2,500 wild individuals by 2011. None of the Tiger Conservation Landscapes within its range is considered large enough to support an effective population of more than 250 adult individuals.[8]\n",
    "The Bengal tiger's historical range covered the Indus River valley until the early 19th century, almost all of India, Pakistan, southern Nepal, Bangladesh, Bhutan, and southwestern China. Today, it inhabits India, Bangladesh, Nepal, Bhutan, and southwestern China.[6] India's tiger population was estimated at 2,603–3,346 individuals by 2018.[9] Around 300–500 individuals are estimated in Bangladesh,[8] 355 in Nepal by 2022,[10] and 90 individuals in Bhutan by 2015.[11] \n",
    "Felis tigris was the scientific name used by Carl Linnaeus in 1758 for the tiger.[12] It was subordinated to the genus Panthera by Reginald Innes Pocock in 1929. Bengal is the traditional type locality of the species and the nominate subspecies Panthera tigris tigris.[13]\n",
    "The validity of several tiger subspecies in continental Asia was questioned in 1999. Morphologically, tigers from different regions vary little, and gene flow between populations in those regions is considered to have been possible during the Pleistocene. Therefore, it was proposed to recognise only two subspecies as valid, namely P. t. tigris in mainland Asia, and P. t. sondaica in the Greater Sunda Islands and possibly in Sundaland.[14] The nominate subspecies P. t. tigris constitutes two clades: the northern clade comprises the Siberian and Caspian tiger populations, and the southern clade all remaining continental tiger populations.[15] The extinct and living tiger populations in continental Asia have been subsumed to P. t. tigris since the revision of felid taxonomy in 2017.[1]\n",
    "Results of a genetic analysis of 32 tiger samples indicate that the Bengal tiger samples grouped into a different clade than the Siberian tiger samples.[16]\"\"\""
   ]
  },
  {
   "cell_type": "code",
   "execution_count": 13,
   "metadata": {},
   "outputs": [
    {
     "name": "stdout",
     "output_type": "stream",
     "text": [
      "The Bengal tiger is a population of the Panthera tigris tigris subspecies and the nominate tiger subspecies.\n",
      "[9] Around 300–500 individuals are estimated in Bangladesh,[8] 355 in Nepal by 2022,[10] and 90 individuals in Bhutan by 2015.\n",
      "[14] The nominate subspecies P. t. tigris constitutes two clades: the northern clade comprises the Siberian and Caspian tiger populations, and the southern clade all remaining continental tiger populations.\n"
     ]
    }
   ],
   "source": [
    "# Creating a summary of 3 sentences.\n",
    "my_parser = PlaintextParser.from_string(text, Tokenizer('english'))\n",
    "lex_rank_summarizer = LexRankSummarizer()\n",
    "summary = lex_rank_summarizer(my_parser.document, sentences_count = 3)\n",
    "for sent in summary:\n",
    "    print(sent)\n"
   ]
  },
  {
   "cell_type": "code",
   "execution_count": 14,
   "metadata": {},
   "outputs": [
    {
     "name": "stdout",
     "output_type": "stream",
     "text": [
      "[4] The tiger is estimated to have been present in the Indian subcontinent since the Late Pleistocene, for about 12,000 to 16,500 years.\n",
      "[45] The population in the Indian Sundarbans was estimated as 86–90 individuals in 2018.\n",
      "For over 100 years people, tigers, and livestock have been injured and killed in the conflict; in recent decades up to 50 people, 80 livestock, and 3 tigers have been killed in a year.\n"
     ]
    }
   ],
   "source": [
    "url = urllib.request.urlopen('https://en.wikipedia.org/wiki/Bengal_tiger')\n",
    "data = url.read()\n",
    "\n",
    "soup = BeautifulSoup(data, 'html.parser')\n",
    "text = soup.find_all('p')\n",
    "\n",
    "txt = []\n",
    "for tag in text:\n",
    "    txt.append(tag.text.strip())\n",
    "txt = \" \".join(txt)\n",
    "\n",
    "\n",
    "my_parser = PlaintextParser.from_string(txt, Tokenizer('english'))\n",
    "lex_rank_summarizer = LexRankSummarizer()\n",
    "summary = lex_rank_summarizer(my_parser.document, sentences_count = 3)\n",
    "for sent in summary:\n",
    "    print(sent)"
   ]
  },
  {
   "cell_type": "markdown",
   "metadata": {},
   "source": [
    "LSA Summarizer"
   ]
  },
  {
   "cell_type": "code",
   "execution_count": 15,
   "metadata": {},
   "outputs": [],
   "source": [
    "# Import the LSA summarizer\n",
    "from sumy.summarizers.lsa import LsaSummarizer"
   ]
  },
  {
   "cell_type": "code",
   "execution_count": 16,
   "metadata": {},
   "outputs": [
    {
     "name": "stdout",
     "output_type": "stream",
     "text": [
      "Information is lacking on many aspects of Sundarbans tiger ecology, including relative abundance, population status, spatial dynamics, habitat selection, life history characteristics, taxonomy, genetics, and disease.\n",
      "Buyers choose the skins from dealers or tanneries and smuggle them through a complex interlinking network to markets outside India, mainly in China.\n",
      "Now, through WildTeam's work, there is a boat-based Tiger Response team that provides first aid, transport, and body retrieval support for people being killed in the forest by tigers.\n"
     ]
    }
   ],
   "source": [
    "# Creating a summary of 3 sentences\n",
    "my_parser = PlaintextParser.from_string(text, Tokenizer('english'))\n",
    "lsa_summarizer = LsaSummarizer()\n",
    "summary = lsa_summarizer(my_parser.document, sentences_count = 3)\n",
    "for sent in summary:\n",
    "    print(sent)\n"
   ]
  },
  {
   "cell_type": "code",
   "execution_count": 17,
   "metadata": {},
   "outputs": [
    {
     "name": "stdout",
     "output_type": "stream",
     "text": [
      "These landscapes comprise the following:[42] Manas-Namdapha, Orang-Laokhowa and Kaziranga-Meghalaya are Tiger Conservation Units in northeastern India, stretching over at least 14,500 km2 (5,600 sq mi) across several protected areas.\n",
      "Information is lacking on many aspects of Sundarbans tiger ecology, including relative abundance, population status, spatial dynamics, habitat selection, life history characteristics, taxonomy, genetics, and disease.\n",
      "Now, through WildTeam's work, there is a boat-based Tiger Response team that provides first aid, transport, and body retrieval support for people being killed in the forest by tigers.\n"
     ]
    }
   ],
   "source": [
    "url = urllib.request.urlopen('https://en.wikipedia.org/wiki/Bengal_tiger')\n",
    "data = url.read()\n",
    "\n",
    "soup = BeautifulSoup(data, 'html.parser')\n",
    "text = soup.find_all('p')\n",
    "\n",
    "txt = []\n",
    "for tag in text:\n",
    "    txt.append(tag.text.strip())\n",
    "txt = \" \".join(txt)\n",
    "\n",
    "\n",
    "my_parser = PlaintextParser.from_string(txt, Tokenizer('english'))\n",
    "lsa_summarizer = LsaSummarizer()\n",
    "summary = lsa_summarizer(my_parser.document, sentences_count = 3)\n",
    "for sent in summary:\n",
    "    print(sent)"
   ]
  },
  {
   "cell_type": "code",
   "execution_count": 18,
   "metadata": {},
   "outputs": [],
   "source": [
    "import transformers"
   ]
  },
  {
   "cell_type": "code",
   "execution_count": null,
   "metadata": {},
   "outputs": [],
   "source": []
  },
  {
   "cell_type": "code",
   "execution_count": 19,
   "metadata": {},
   "outputs": [
    {
     "name": "stderr",
     "output_type": "stream",
     "text": [
      "2023-12-24 19:40:31.784305: I tensorflow/core/util/port.cc:113] oneDNN custom operations are on. You may see slightly different numerical results due to floating-point round-off errors from different computation orders. To turn them off, set the environment variable `TF_ENABLE_ONEDNN_OPTS=0`.\n",
      "2023-12-24 19:40:32.610307: I external/local_tsl/tsl/cuda/cudart_stub.cc:31] Could not find cuda drivers on your machine, GPU will not be used.\n",
      "2023-12-24 19:40:34.269613: E external/local_xla/xla/stream_executor/cuda/cuda_dnn.cc:9261] Unable to register cuDNN factory: Attempting to register factory for plugin cuDNN when one has already been registered\n",
      "2023-12-24 19:40:34.269919: E external/local_xla/xla/stream_executor/cuda/cuda_fft.cc:607] Unable to register cuFFT factory: Attempting to register factory for plugin cuFFT when one has already been registered\n",
      "2023-12-24 19:40:34.461860: E external/local_xla/xla/stream_executor/cuda/cuda_blas.cc:1515] Unable to register cuBLAS factory: Attempting to register factory for plugin cuBLAS when one has already been registered\n",
      "2023-12-24 19:40:35.021700: I external/local_tsl/tsl/cuda/cudart_stub.cc:31] Could not find cuda drivers on your machine, GPU will not be used.\n",
      "2023-12-24 19:40:35.023736: I tensorflow/core/platform/cpu_feature_guard.cc:182] This TensorFlow binary is optimized to use available CPU instructions in performance-critical operations.\n",
      "To enable the following instructions: AVX2 AVX512F AVX512_VNNI FMA, in other operations, rebuild TensorFlow with the appropriate compiler flags.\n",
      "2023-12-24 19:40:45.759259: W tensorflow/compiler/tf2tensorrt/utils/py_utils.cc:38] TF-TRT Warning: Could not find TensorRT\n",
      "No model was supplied, defaulted to sshleifer/distilbart-cnn-12-6 and revision a4f8f3e (https://huggingface.co/sshleifer/distilbart-cnn-12-6).\n",
      "Using a pipeline without specifying a model name and revision in production is not recommended.\n"
     ]
    }
   ],
   "source": [
    "pipeline = transformers.pipeline('summarization')"
   ]
  },
  {
   "cell_type": "code",
   "execution_count": 20,
   "metadata": {},
   "outputs": [],
   "source": [
    "text = \"\"\"The Bengal tiger is a population of the Panthera tigris tigris subspecies and the nominate tiger subspecies.[1] It ranks among the biggest wild cats alive today.[2][3] It is considered to belong to the world's charismatic megafauna.[4]\n",
    "The tiger is estimated to have been present in the Indian subcontinent since the Late Pleistocene, for about 12,000 to 16,500 years.[5][6][7] Today, it is threatened by poaching, loss and fragmentation of habitat, and was estimated at comprising fewer than 2,500 wild individuals by 2011. None of the Tiger Conservation Landscapes within its range is considered large enough to support an effective population of more than 250 adult individuals.[8]\n",
    "The Bengal tiger's historical range covered the Indus River valley until the early 19th century, almost all of India, Pakistan, southern Nepal, Bangladesh, Bhutan, and southwestern China. Today, it inhabits India, Bangladesh, Nepal, Bhutan, and southwestern China.[6] India's tiger population was estimated at 2,603–3,346 individuals by 2018.[9] Around 300–500 individuals are estimated in Bangladesh,[8] 355 in Nepal by 2022,[10] and 90 individuals in Bhutan by 2015.[11] \n",
    "Felis tigris was the scientific name used by Carl Linnaeus in 1758 for the tiger.[12] It was subordinated to the genus Panthera by Reginald Innes Pocock in 1929. Bengal is the traditional type locality of the species and the nominate subspecies Panthera tigris tigris.[13]\n",
    "The validity of several tiger subspecies in continental Asia was questioned in 1999. Morphologically, tigers from different regions vary little, and gene flow between populations in those regions is considered to have been possible during the Pleistocene. Therefore, it was proposed to recognise only two subspecies as valid, namely P. t. tigris in mainland Asia, and P. t. sondaica in the Greater Sunda Islands and possibly in Sundaland.[14] The nominate subspecies P. t. tigris constitutes two clades: the northern clade comprises the Siberian and Caspian tiger populations, and the southern clade all remaining continental tiger populations.[15] The extinct and living tiger populations in continental Asia have been subsumed to P. t. tigris since the revision of felid taxonomy in 2017.[1]\n",
    "Results of a genetic analysis of 32 tiger samples indicate that the Bengal tiger samples grouped into a different clade than the Siberian tiger samples.[16]\"\"\""
   ]
  },
  {
   "cell_type": "code",
   "execution_count": 21,
   "metadata": {},
   "outputs": [
    {
     "name": "stdout",
     "output_type": "stream",
     "text": [
      " The Bengal tiger ranks among the biggest wild cats alive today . It is estimated to have been present in the Indian subcontinent since the Late Pleistocene, for about 12,000 to 16,500 years . Today, it is threatened by poaching, loss and fragmentation of habitat .\n"
     ]
    }
   ],
   "source": [
    "summary_text = pipeline(text, max_length = 200, min_length = 5, do_sample = False)[0]['summary_text']\n",
    "print(summary_text)"
   ]
  },
  {
   "cell_type": "code",
   "execution_count": null,
   "metadata": {},
   "outputs": [],
   "source": []
  }
 ],
 "metadata": {
  "kernelspec": {
   "display_name": "NLP",
   "language": "python",
   "name": "python3"
  },
  "language_info": {
   "codemirror_mode": {
    "name": "ipython",
    "version": 3
   },
   "file_extension": ".py",
   "mimetype": "text/x-python",
   "name": "python",
   "nbconvert_exporter": "python",
   "pygments_lexer": "ipython3",
   "version": "3.11.5"
  }
 },
 "nbformat": 4,
 "nbformat_minor": 2
}
