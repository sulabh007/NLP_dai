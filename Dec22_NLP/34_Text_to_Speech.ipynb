{
 "cells": [
  {
   "cell_type": "code",
   "execution_count": 1,
   "metadata": {},
   "outputs": [
    {
     "name": "stdout",
     "output_type": "stream",
     "text": [
      "Collecting gtts\n",
      "  Downloading gTTS-2.5.0-py3-none-any.whl.metadata (4.1 kB)\n",
      "Collecting playsound\n",
      "  Downloading playsound-1.3.0.tar.gz (7.7 kB)\n",
      "  Preparing metadata (setup.py) ... \u001b[?25ldone\n",
      "\u001b[?25hRequirement already satisfied: requests<3,>=2.27 in /home/dai/anaconda3/envs/NLP/lib/python3.11/site-packages (from gtts) (2.31.0)\n",
      "Requirement already satisfied: click<8.2,>=7.1 in /home/dai/anaconda3/envs/NLP/lib/python3.11/site-packages (from gtts) (8.1.7)\n",
      "Requirement already satisfied: charset-normalizer<4,>=2 in /home/dai/anaconda3/envs/NLP/lib/python3.11/site-packages (from requests<3,>=2.27->gtts) (3.3.2)\n",
      "Requirement already satisfied: idna<4,>=2.5 in /home/dai/anaconda3/envs/NLP/lib/python3.11/site-packages (from requests<3,>=2.27->gtts) (3.6)\n",
      "Requirement already satisfied: urllib3<3,>=1.21.1 in /home/dai/anaconda3/envs/NLP/lib/python3.11/site-packages (from requests<3,>=2.27->gtts) (2.1.0)\n",
      "Requirement already satisfied: certifi>=2017.4.17 in /home/dai/anaconda3/envs/NLP/lib/python3.11/site-packages (from requests<3,>=2.27->gtts) (2023.11.17)\n",
      "Downloading gTTS-2.5.0-py3-none-any.whl (29 kB)\n",
      "Building wheels for collected packages: playsound\n",
      "  Building wheel for playsound (setup.py) ... \u001b[?25ldone\n",
      "\u001b[?25h  Created wheel for playsound: filename=playsound-1.3.0-py3-none-any.whl size=7020 sha256=b595c1396ac523b0c95e6c30bc527ab1f2e4e2ad4767d659743c9389fb4fc07c\n",
      "  Stored in directory: /home/dai/.cache/pip/wheels/50/98/42/62753a9e1fb97579a0ce2f84f7db4c21c09d03bb2091e6cef4\n",
      "Successfully built playsound\n",
      "Installing collected packages: playsound, gtts\n",
      "Successfully installed gtts-2.5.0 playsound-1.3.0\n"
     ]
    }
   ],
   "source": [
    "!pip install gtts playsound"
   ]
  },
  {
   "cell_type": "code",
   "execution_count": 3,
   "metadata": {},
   "outputs": [],
   "source": [
    "from gtts import gTTS                       # class\n",
    "from playsound import playsound             # method"
   ]
  },
  {
   "cell_type": "markdown",
   "metadata": {},
   "source": [
    "Create the object"
   ]
  },
  {
   "cell_type": "code",
   "execution_count": 5,
   "metadata": {},
   "outputs": [],
   "source": [
    "tts = gTTS(text = 'Hello friends, how are you?', lang='en')"
   ]
  },
  {
   "cell_type": "code",
   "execution_count": 8,
   "metadata": {},
   "outputs": [],
   "source": [
    "tts.save('speech.mp3')\n",
    "playsound('speech.mp3')"
   ]
  },
  {
   "cell_type": "code",
   "execution_count": 10,
   "metadata": {},
   "outputs": [],
   "source": [
    "tts = gTTS(text = 'नमस्कार मित्रांनो, कसे आहात?', lang='mr')\n",
    "tts.save('speech.mp3')\n",
    "playsound('speech.mp3')"
   ]
  },
  {
   "cell_type": "code",
   "execution_count": 11,
   "metadata": {},
   "outputs": [],
   "source": [
    "tts = gTTS(text = 'नमस्कार दोस्तों, कैसे हो आप?', lang='hi')\n",
    "tts.save('speech.mp3')\n",
    "playsound('speech.mp3')"
   ]
  },
  {
   "cell_type": "code",
   "execution_count": 14,
   "metadata": {},
   "outputs": [],
   "source": [
    "tts = gTTS(text = 'Hallo Freunde, wie gehts euch?', lang='de')\n",
    "tts.save('speech.mp3')\n",
    "playsound('speech.mp3')"
   ]
  },
  {
   "cell_type": "code",
   "execution_count": 16,
   "metadata": {},
   "outputs": [],
   "source": [
    "tts = gTTS(text = 'こんにちはフロインデ、どうですか？', lang='ja')\n",
    "tts.save('speech.mp3')\n",
    "playsound('speech.mp3')"
   ]
  }
 ],
 "metadata": {
  "kernelspec": {
   "display_name": "NLP",
   "language": "python",
   "name": "python3"
  },
  "language_info": {
   "codemirror_mode": {
    "name": "ipython",
    "version": 3
   },
   "file_extension": ".py",
   "mimetype": "text/x-python",
   "name": "python",
   "nbconvert_exporter": "python",
   "pygments_lexer": "ipython3",
   "version": "3.11.5"
  }
 },
 "nbformat": 4,
 "nbformat_minor": 2
}
